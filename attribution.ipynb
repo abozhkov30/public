{
 "cells": [
  {
   "cell_type": "markdown",
   "metadata": {},
   "source": [
    "# Исследование моделей атрибуцией"
   ]
  },
  {
   "cell_type": "markdown",
   "metadata": {
    "ExecuteTime": {
     "end_time": "2021-10-17T09:57:35.725688Z",
     "start_time": "2021-10-17T09:57:35.715713Z"
    }
   },
   "source": [
    "**Цель**: Узнать эффективность рекламных кампаний при разных моделей атрибуции"
   ]
  },
  {
   "cell_type": "code",
   "execution_count": 1,
   "metadata": {
    "ExecuteTime": {
     "end_time": "2021-10-25T18:12:03.773329Z",
     "start_time": "2021-10-25T18:12:02.741198Z"
    }
   },
   "outputs": [],
   "source": [
    "# импорт библиотек\n",
    "\n",
    "import pandas as pd\n",
    "import seaborn as sns\n",
    "import matplotlib as plt\n",
    "import numpy as np"
   ]
  },
  {
   "cell_type": "code",
   "execution_count": 2,
   "metadata": {
    "ExecuteTime": {
     "end_time": "2021-10-25T18:12:03.780918Z",
     "start_time": "2021-10-25T18:12:03.776327Z"
    }
   },
   "outputs": [],
   "source": [
    "plt.rcParams[\"figure.figsize\"] = (12,4) # размер графиков для всего блокнота\n",
    "plt.style.use('fivethirtyeight') # предустановленный стиль"
   ]
  },
  {
   "cell_type": "code",
   "execution_count": 3,
   "metadata": {
    "ExecuteTime": {
     "end_time": "2021-10-25T18:12:03.922464Z",
     "start_time": "2021-10-25T18:12:03.785145Z"
    }
   },
   "outputs": [
    {
     "data": {
      "text/html": [
       "<div>\n",
       "<style scoped>\n",
       "    .dataframe tbody tr th:only-of-type {\n",
       "        vertical-align: middle;\n",
       "    }\n",
       "\n",
       "    .dataframe tbody tr th {\n",
       "        vertical-align: top;\n",
       "    }\n",
       "\n",
       "    .dataframe thead th {\n",
       "        text-align: right;\n",
       "    }\n",
       "</style>\n",
       "<table border=\"1\" class=\"dataframe\">\n",
       "  <thead>\n",
       "    <tr style=\"text-align: right;\">\n",
       "      <th></th>\n",
       "      <th>Date</th>\n",
       "      <th>campaign</th>\n",
       "      <th>google / cpc</th>\n",
       "      <th>yandex / cpc</th>\n",
       "      <th>vkontakte / cpc</th>\n",
       "    </tr>\n",
       "  </thead>\n",
       "  <tbody>\n",
       "    <tr>\n",
       "      <th>0</th>\n",
       "      <td>2011-08-14</td>\n",
       "      <td>brand</td>\n",
       "      <td>90.502456</td>\n",
       "      <td>867.021322</td>\n",
       "      <td>991.528339</td>\n",
       "    </tr>\n",
       "    <tr>\n",
       "      <th>1</th>\n",
       "      <td>2011-02-25</td>\n",
       "      <td>not_brand</td>\n",
       "      <td>135.212379</td>\n",
       "      <td>187.313178</td>\n",
       "      <td>991.131532</td>\n",
       "    </tr>\n",
       "    <tr>\n",
       "      <th>2</th>\n",
       "      <td>2011-10-28</td>\n",
       "      <td>brand</td>\n",
       "      <td>882.106940</td>\n",
       "      <td>415.945856</td>\n",
       "      <td>980.627513</td>\n",
       "    </tr>\n",
       "    <tr>\n",
       "      <th>3</th>\n",
       "      <td>2011-03-12</td>\n",
       "      <td>not_brand</td>\n",
       "      <td>569.433076</td>\n",
       "      <td>154.000000</td>\n",
       "      <td>977.369726</td>\n",
       "    </tr>\n",
       "    <tr>\n",
       "      <th>4</th>\n",
       "      <td>2011-04-18</td>\n",
       "      <td>brand</td>\n",
       "      <td>239.069371</td>\n",
       "      <td>202.209591</td>\n",
       "      <td>974.728406</td>\n",
       "    </tr>\n",
       "  </tbody>\n",
       "</table>\n",
       "</div>"
      ],
      "text/plain": [
       "        Date   campaign  google / cpc  yandex / cpc  vkontakte / cpc\n",
       "0 2011-08-14      brand     90.502456    867.021322       991.528339\n",
       "1 2011-02-25  not_brand    135.212379    187.313178       991.131532\n",
       "2 2011-10-28      brand    882.106940    415.945856       980.627513\n",
       "3 2011-03-12  not_brand    569.433076    154.000000       977.369726\n",
       "4 2011-04-18      brand    239.069371    202.209591       974.728406"
      ]
     },
     "execution_count": 3,
     "metadata": {},
     "output_type": "execute_result"
    }
   ],
   "source": [
    "costs = pd.read_excel('costs_gb.xlsx')\n",
    "costs.head()"
   ]
  },
  {
   "cell_type": "markdown",
   "metadata": {},
   "source": [
    "Описание датасета\n",
    "\n",
    "- Date — дата \n",
    "- google / cpc — расход с НДС по Google Ads\n",
    "- vkontakte / cpc — расход с НДС по рекламе Вконтакте\n",
    "- yandex / cpc — расход с НДС по рекламе Яндекс Директ\n",
    "- campaign — название рекламной кампании, всего 2 типа:\n",
    "-- brand — брендовые* кампании\n",
    "-- not_brand  — не брендовые кампании"
   ]
  },
  {
   "cell_type": "code",
   "execution_count": 4,
   "metadata": {
    "ExecuteTime": {
     "end_time": "2021-10-25T18:12:06.217217Z",
     "start_time": "2021-10-25T18:12:03.925589Z"
    }
   },
   "outputs": [
    {
     "data": {
      "text/html": [
       "<div>\n",
       "<style scoped>\n",
       "    .dataframe tbody tr th:only-of-type {\n",
       "        vertical-align: middle;\n",
       "    }\n",
       "\n",
       "    .dataframe tbody tr th {\n",
       "        vertical-align: top;\n",
       "    }\n",
       "\n",
       "    .dataframe thead th {\n",
       "        text-align: right;\n",
       "    }\n",
       "</style>\n",
       "<table border=\"1\" class=\"dataframe\">\n",
       "  <thead>\n",
       "    <tr style=\"text-align: right;\">\n",
       "      <th></th>\n",
       "      <th>client_id</th>\n",
       "      <th>Order ID</th>\n",
       "      <th>Order Date</th>\n",
       "      <th>Order Quantity</th>\n",
       "      <th>Sales</th>\n",
       "      <th>Discount</th>\n",
       "      <th>Ship Mode</th>\n",
       "      <th>Profit</th>\n",
       "      <th>Unit Price</th>\n",
       "      <th>Shipping Cost</th>\n",
       "      <th>Region</th>\n",
       "      <th>Product Category</th>\n",
       "      <th>Product Sub-Category</th>\n",
       "      <th>Product Name</th>\n",
       "      <th>Ship Date</th>\n",
       "    </tr>\n",
       "  </thead>\n",
       "  <tbody>\n",
       "    <tr>\n",
       "      <th>0</th>\n",
       "      <td>2b97454da406955ec40c097647e38316</td>\n",
       "      <td>130</td>\n",
       "      <td>2011-05-07</td>\n",
       "      <td>3</td>\n",
       "      <td>461.8900</td>\n",
       "      <td>0.05</td>\n",
       "      <td>Express</td>\n",
       "      <td>-309.82</td>\n",
       "      <td>150.98</td>\n",
       "      <td>13.99</td>\n",
       "      <td>Saint-Petersburg</td>\n",
       "      <td>Technology</td>\n",
       "      <td>Office Machines</td>\n",
       "      <td>Canon MP41DH Printing Calculator</td>\n",
       "      <td>2012-05-09</td>\n",
       "    </tr>\n",
       "    <tr>\n",
       "      <th>1</th>\n",
       "      <td>2b97454da406955ec40c097647e38316</td>\n",
       "      <td>130</td>\n",
       "      <td>2011-05-07</td>\n",
       "      <td>29</td>\n",
       "      <td>575.1100</td>\n",
       "      <td>0.02</td>\n",
       "      <td>Express</td>\n",
       "      <td>71.75</td>\n",
       "      <td>18.97</td>\n",
       "      <td>9.03</td>\n",
       "      <td>Saint-Petersburg</td>\n",
       "      <td>Office Supplies</td>\n",
       "      <td>Paper</td>\n",
       "      <td>Computer Printout Paper with Letter-Trim Perfo...</td>\n",
       "      <td>2012-05-08</td>\n",
       "    </tr>\n",
       "    <tr>\n",
       "      <th>2</th>\n",
       "      <td>2b97454da406955ec40c097647e38316</td>\n",
       "      <td>130</td>\n",
       "      <td>2011-05-07</td>\n",
       "      <td>23</td>\n",
       "      <td>236.4600</td>\n",
       "      <td>0.05</td>\n",
       "      <td>Express</td>\n",
       "      <td>-134.31</td>\n",
       "      <td>9.71</td>\n",
       "      <td>9.45</td>\n",
       "      <td>Saint-Petersburg</td>\n",
       "      <td>Office Supplies</td>\n",
       "      <td>Storage &amp; Organization</td>\n",
       "      <td>Filing/Storage Totes and Swivel Casters</td>\n",
       "      <td>2012-05-10</td>\n",
       "    </tr>\n",
       "    <tr>\n",
       "      <th>3</th>\n",
       "      <td>59ca19169a2d00aa2466bb9c518a99e7</td>\n",
       "      <td>166</td>\n",
       "      <td>2011-09-11</td>\n",
       "      <td>10</td>\n",
       "      <td>567.9360</td>\n",
       "      <td>0.02</td>\n",
       "      <td>Express</td>\n",
       "      <td>-126.09</td>\n",
       "      <td>65.99</td>\n",
       "      <td>8.99</td>\n",
       "      <td>Moscow</td>\n",
       "      <td>Technology</td>\n",
       "      <td>Telephones and Communication</td>\n",
       "      <td>i270</td>\n",
       "      <td>2011-09-13</td>\n",
       "    </tr>\n",
       "    <tr>\n",
       "      <th>4</th>\n",
       "      <td>19d90e0481d1d33e94c2bd99e7d4b3fd</td>\n",
       "      <td>416</td>\n",
       "      <td>2011-09-26</td>\n",
       "      <td>20</td>\n",
       "      <td>1156.6715</td>\n",
       "      <td>0.01</td>\n",
       "      <td>Express</td>\n",
       "      <td>88.52</td>\n",
       "      <td>65.99</td>\n",
       "      <td>7.69</td>\n",
       "      <td>Moscow</td>\n",
       "      <td>Technology</td>\n",
       "      <td>Telephones and Communication</td>\n",
       "      <td>5190</td>\n",
       "      <td>2010-10-01</td>\n",
       "    </tr>\n",
       "  </tbody>\n",
       "</table>\n",
       "</div>"
      ],
      "text/plain": [
       "                          client_id  Order ID Order Date  Order Quantity  \\\n",
       "0  2b97454da406955ec40c097647e38316       130 2011-05-07               3   \n",
       "1  2b97454da406955ec40c097647e38316       130 2011-05-07              29   \n",
       "2  2b97454da406955ec40c097647e38316       130 2011-05-07              23   \n",
       "3  59ca19169a2d00aa2466bb9c518a99e7       166 2011-09-11              10   \n",
       "4  19d90e0481d1d33e94c2bd99e7d4b3fd       416 2011-09-26              20   \n",
       "\n",
       "       Sales  Discount Ship Mode  Profit  Unit Price  Shipping Cost  \\\n",
       "0   461.8900      0.05   Express -309.82      150.98          13.99   \n",
       "1   575.1100      0.02   Express   71.75       18.97           9.03   \n",
       "2   236.4600      0.05   Express -134.31        9.71           9.45   \n",
       "3   567.9360      0.02   Express -126.09       65.99           8.99   \n",
       "4  1156.6715      0.01   Express   88.52       65.99           7.69   \n",
       "\n",
       "             Region Product Category          Product Sub-Category  \\\n",
       "0  Saint-Petersburg       Technology               Office Machines   \n",
       "1  Saint-Petersburg  Office Supplies                         Paper   \n",
       "2  Saint-Petersburg  Office Supplies        Storage & Organization   \n",
       "3            Moscow       Technology  Telephones and Communication   \n",
       "4            Moscow       Technology  Telephones and Communication   \n",
       "\n",
       "                                        Product Name  Ship Date  \n",
       "0                   Canon MP41DH Printing Calculator 2012-05-09  \n",
       "1  Computer Printout Paper with Letter-Trim Perfo... 2012-05-08  \n",
       "2            Filing/Storage Totes and Swivel Casters 2012-05-10  \n",
       "3                                               i270 2011-09-13  \n",
       "4                                               5190 2010-10-01  "
      ]
     },
     "execution_count": 4,
     "metadata": {},
     "output_type": "execute_result"
    }
   ],
   "source": [
    "orders = pd.read_excel('order_gb.xlsx')\n",
    "orders.head()"
   ]
  },
  {
   "cell_type": "markdown",
   "metadata": {
    "ExecuteTime": {
     "end_time": "2021-10-17T10:03:34.759865Z",
     "start_time": "2021-10-17T10:03:34.747761Z"
    }
   },
   "source": [
    "Описание датасета:\n",
    "\n",
    "- client_id — уникальный идентификатор пользователя\n",
    "- Order ID — номер заказа\n",
    "- Order Date — дата заказа\n",
    "- Order Quantity — количество товаров\n",
    "- Discount — размер скидки\n",
    "- Ship Mode — способ доставки\n",
    "- Profit — прибыль"
   ]
  },
  {
   "cell_type": "code",
   "execution_count": 5,
   "metadata": {
    "ExecuteTime": {
     "end_time": "2021-10-25T18:12:08.782193Z",
     "start_time": "2021-10-25T18:12:06.219681Z"
    }
   },
   "outputs": [
    {
     "data": {
      "text/html": [
       "<div>\n",
       "<style scoped>\n",
       "    .dataframe tbody tr th:only-of-type {\n",
       "        vertical-align: middle;\n",
       "    }\n",
       "\n",
       "    .dataframe tbody tr th {\n",
       "        vertical-align: top;\n",
       "    }\n",
       "\n",
       "    .dataframe thead th {\n",
       "        text-align: right;\n",
       "    }\n",
       "</style>\n",
       "<table border=\"1\" class=\"dataframe\">\n",
       "  <thead>\n",
       "    <tr style=\"text-align: right;\">\n",
       "      <th></th>\n",
       "      <th>client_id</th>\n",
       "      <th>SessionDate</th>\n",
       "      <th>Order ID</th>\n",
       "      <th>transaction</th>\n",
       "      <th>source / medium</th>\n",
       "      <th>campaign</th>\n",
       "    </tr>\n",
       "  </thead>\n",
       "  <tbody>\n",
       "    <tr>\n",
       "      <th>0</th>\n",
       "      <td>773d6b617bbb589c5f373eebfb98f430</td>\n",
       "      <td>2011-01-19</td>\n",
       "      <td>66.0</td>\n",
       "      <td>1.0</td>\n",
       "      <td>vkontakte / cpc</td>\n",
       "      <td>brand</td>\n",
       "    </tr>\n",
       "    <tr>\n",
       "      <th>1</th>\n",
       "      <td>2b97454da406955ec40c097647e38316</td>\n",
       "      <td>2011-05-07</td>\n",
       "      <td>130.0</td>\n",
       "      <td>1.0</td>\n",
       "      <td>google / cpc</td>\n",
       "      <td>brand</td>\n",
       "    </tr>\n",
       "    <tr>\n",
       "      <th>2</th>\n",
       "      <td>9b9af30dafdb2f827a5d1098b1d10bc6</td>\n",
       "      <td>2011-06-10</td>\n",
       "      <td>NaN</td>\n",
       "      <td>0.0</td>\n",
       "      <td>vkontakte / cpc</td>\n",
       "      <td>brand</td>\n",
       "    </tr>\n",
       "    <tr>\n",
       "      <th>3</th>\n",
       "      <td>846335022b0136cd5887a776adf52071</td>\n",
       "      <td>2011-04-04</td>\n",
       "      <td>194.0</td>\n",
       "      <td>1.0</td>\n",
       "      <td>yandex / cpc</td>\n",
       "      <td>brand</td>\n",
       "    </tr>\n",
       "    <tr>\n",
       "      <th>4</th>\n",
       "      <td>c540ae9b2e26fd2a332e1cd3a55debd9</td>\n",
       "      <td>2011-03-25</td>\n",
       "      <td>323.0</td>\n",
       "      <td>1.0</td>\n",
       "      <td>vkontakte / cpc</td>\n",
       "      <td>brand</td>\n",
       "    </tr>\n",
       "  </tbody>\n",
       "</table>\n",
       "</div>"
      ],
      "text/plain": [
       "                          client_id SessionDate  Order ID  transaction  \\\n",
       "0  773d6b617bbb589c5f373eebfb98f430  2011-01-19      66.0          1.0   \n",
       "1  2b97454da406955ec40c097647e38316  2011-05-07     130.0          1.0   \n",
       "2  9b9af30dafdb2f827a5d1098b1d10bc6  2011-06-10       NaN          0.0   \n",
       "3  846335022b0136cd5887a776adf52071  2011-04-04     194.0          1.0   \n",
       "4  c540ae9b2e26fd2a332e1cd3a55debd9  2011-03-25     323.0          1.0   \n",
       "\n",
       "   source / medium campaign  \n",
       "0  vkontakte / cpc    brand  \n",
       "1     google / cpc    brand  \n",
       "2  vkontakte / cpc    brand  \n",
       "3     yandex / cpc    brand  \n",
       "4  vkontakte / cpc    brand  "
      ]
     },
     "execution_count": 5,
     "metadata": {},
     "output_type": "execute_result"
    }
   ],
   "source": [
    "sessions = pd.read_excel('session_gb.xlsx')\n",
    "sessions.head()"
   ]
  },
  {
   "cell_type": "markdown",
   "metadata": {},
   "source": [
    "Описание датасета: \n",
    "    \n",
    "- client_id — уникальный идентификатор пользователя\n",
    "- SessionDate — дата сессии\n",
    "- Order ID — номер заказа\n",
    "- transaction — была ли транзакция во время сессии. Содержит 2 атрибута:\n",
    "-- 1 — да\n",
    "-- 0 — нет\n",
    "- source / medium — medium источник трафика\n",
    "- campaign — тип рекламной кампании\n"
   ]
  },
  {
   "cell_type": "markdown",
   "metadata": {},
   "source": [
    "# Предобработка"
   ]
  },
  {
   "cell_type": "code",
   "execution_count": 6,
   "metadata": {
    "ExecuteTime": {
     "end_time": "2021-10-25T18:12:08.797254Z",
     "start_time": "2021-10-25T18:12:08.785151Z"
    }
   },
   "outputs": [],
   "source": [
    "# заменяем название колонок на те, с которыми удобно работать\n",
    "\n",
    "costs_columns = []\n",
    "\n",
    "for x in costs.columns:\n",
    "    x = str.lower(x).replace(' ','_')\n",
    "    costs_columns.append(x)\n",
    "\n",
    "costs.columns = costs_columns\n",
    "\n",
    "\n",
    "sessions_columns = []\n",
    "\n",
    "for x in sessions.columns:\n",
    "    x = str.lower(x).replace(' ','_')\n",
    "    sessions_columns.append(x)\n",
    "\n",
    "sessions.columns = sessions_columns\n",
    "\n",
    "\n",
    "orders_columns = []\n",
    "\n",
    "for x in orders.columns:\n",
    "    x = str.lower(x).replace(' ','_')\n",
    "    orders_columns.append(x)\n",
    "\n",
    "orders.columns = orders_columns"
   ]
  },
  {
   "cell_type": "code",
   "execution_count": 7,
   "metadata": {
    "ExecuteTime": {
     "end_time": "2021-10-25T18:12:08.835201Z",
     "start_time": "2021-10-25T18:12:08.799780Z"
    }
   },
   "outputs": [
    {
     "name": "stdout",
     "output_type": "stream",
     "text": [
      "<class 'pandas.core.frame.DataFrame'>\n",
      "RangeIndex: 730 entries, 0 to 729\n",
      "Data columns (total 5 columns):\n",
      " #   Column           Non-Null Count  Dtype         \n",
      "---  ------           --------------  -----         \n",
      " 0   date             730 non-null    datetime64[ns]\n",
      " 1   campaign         730 non-null    object        \n",
      " 2   google_/_cpc     730 non-null    float64       \n",
      " 3   yandex_/_cpc     730 non-null    float64       \n",
      " 4   vkontakte_/_cpc  730 non-null    float64       \n",
      "dtypes: datetime64[ns](1), float64(3), object(1)\n",
      "memory usage: 28.6+ KB\n",
      "None\n",
      "-----\n",
      "\n",
      "<class 'pandas.core.frame.DataFrame'>\n",
      "RangeIndex: 19080 entries, 0 to 19079\n",
      "Data columns (total 6 columns):\n",
      " #   Column           Non-Null Count  Dtype         \n",
      "---  ------           --------------  -----         \n",
      " 0   client_id        19080 non-null  object        \n",
      " 1   sessiondate      19080 non-null  datetime64[ns]\n",
      " 2   order_id         4723 non-null   float64       \n",
      " 3   transaction      18107 non-null  float64       \n",
      " 4   source_/_medium  19080 non-null  object        \n",
      " 5   campaign         8543 non-null   object        \n",
      "dtypes: datetime64[ns](1), float64(2), object(3)\n",
      "memory usage: 894.5+ KB\n",
      "None\n",
      "-----\n",
      "\n",
      "<class 'pandas.core.frame.DataFrame'>\n",
      "RangeIndex: 7220 entries, 0 to 7219\n",
      "Data columns (total 15 columns):\n",
      " #   Column                Non-Null Count  Dtype         \n",
      "---  ------                --------------  -----         \n",
      " 0   client_id             7220 non-null   object        \n",
      " 1   order_id              7220 non-null   int64         \n",
      " 2   order_date            7220 non-null   datetime64[ns]\n",
      " 3   order_quantity        7220 non-null   int64         \n",
      " 4   sales                 7220 non-null   float64       \n",
      " 5   discount              7220 non-null   float64       \n",
      " 6   ship_mode             7220 non-null   object        \n",
      " 7   profit                7220 non-null   float64       \n",
      " 8   unit_price            7220 non-null   float64       \n",
      " 9   shipping_cost         7220 non-null   float64       \n",
      " 10  region                7220 non-null   object        \n",
      " 11  product_category      7220 non-null   object        \n",
      " 12  product_sub-category  7220 non-null   object        \n",
      " 13  product_name          7220 non-null   object        \n",
      " 14  ship_date             7220 non-null   datetime64[ns]\n",
      "dtypes: datetime64[ns](2), float64(5), int64(2), object(6)\n",
      "memory usage: 846.2+ KB\n",
      "None\n",
      "-----\n",
      "\n"
     ]
    }
   ],
   "source": [
    "for element in [costs, sessions, orders]:\n",
    "    print(element.info())\n",
    "    print('-----\\n')"
   ]
  },
  {
   "cell_type": "code",
   "execution_count": 8,
   "metadata": {
    "ExecuteTime": {
     "end_time": "2021-10-25T18:12:08.900237Z",
     "start_time": "2021-10-25T18:12:08.836920Z"
    }
   },
   "outputs": [],
   "source": [
    "# изменяем тип данных для связывания\n",
    "\n",
    "orders['order_id'] = orders['order_id'].astype('str')\n",
    "sessions['order_id'] = sessions['order_id'].astype('str').str.replace(r'\\.0','') # fix для float"
   ]
  },
  {
   "cell_type": "code",
   "execution_count": 9,
   "metadata": {
    "ExecuteTime": {
     "end_time": "2021-10-25T18:12:08.916530Z",
     "start_time": "2021-10-25T18:12:08.901776Z"
    }
   },
   "outputs": [
    {
     "data": {
      "text/html": [
       "<div>\n",
       "<style scoped>\n",
       "    .dataframe tbody tr th:only-of-type {\n",
       "        vertical-align: middle;\n",
       "    }\n",
       "\n",
       "    .dataframe tbody tr th {\n",
       "        vertical-align: top;\n",
       "    }\n",
       "\n",
       "    .dataframe thead th {\n",
       "        text-align: right;\n",
       "    }\n",
       "</style>\n",
       "<table border=\"1\" class=\"dataframe\">\n",
       "  <thead>\n",
       "    <tr style=\"text-align: right;\">\n",
       "      <th></th>\n",
       "      <th>client_id</th>\n",
       "      <th>sessiondate</th>\n",
       "      <th>order_id</th>\n",
       "      <th>transaction</th>\n",
       "      <th>source_/_medium</th>\n",
       "      <th>campaign</th>\n",
       "    </tr>\n",
       "  </thead>\n",
       "  <tbody>\n",
       "  </tbody>\n",
       "</table>\n",
       "</div>"
      ],
      "text/plain": [
       "Empty DataFrame\n",
       "Columns: [client_id, sessiondate, order_id, transaction, source_/_medium, campaign]\n",
       "Index: []"
      ]
     },
     "execution_count": 9,
     "metadata": {},
     "output_type": "execute_result"
    }
   ],
   "source": [
    "# проверяем на дубликаты\n",
    "\n",
    "sessions[(sessions['order_id']!='nan')&(sessions['order_id'].duplicated(keep=False))].sort_values('order_id')"
   ]
  },
  {
   "cell_type": "code",
   "execution_count": 10,
   "metadata": {
    "ExecuteTime": {
     "end_time": "2021-10-25T18:12:08.926588Z",
     "start_time": "2021-10-25T18:12:08.918014Z"
    }
   },
   "outputs": [
    {
     "data": {
      "text/plain": [
       "True"
      ]
     },
     "execution_count": 10,
     "metadata": {},
     "output_type": "execute_result"
    }
   ],
   "source": [
    "# проверяем соответствие количества заказов\n",
    "\n",
    "sessions[(sessions['order_id']!='nan')]['order_id'].nunique() == orders['order_id'].nunique()"
   ]
  },
  {
   "cell_type": "markdown",
   "metadata": {},
   "source": [
    "# Вопросы для исследования\n",
    "\n",
    "1. Какой из каналов принес наибольший profit?\n",
    "2. Постройте график по дням по цене клика для каждой из систем, учитывая, что цена клика в течение дня не меняется.\n",
    "3. Рассчитайте средний ROI по месяцам для каждой из рекламных систем.\n"
   ]
  },
  {
   "cell_type": "markdown",
   "metadata": {},
   "source": [
    "## Какой из каналов принес наибольший profit?"
   ]
  },
  {
   "cell_type": "code",
   "execution_count": 11,
   "metadata": {
    "ExecuteTime": {
     "end_time": "2021-10-25T18:12:08.932858Z",
     "start_time": "2021-10-25T18:12:08.929161Z"
    }
   },
   "outputs": [
    {
     "name": "stdout",
     "output_type": "stream",
     "text": [
      "Общий профит: 1234937 y.e.\n"
     ]
    }
   ],
   "source": [
    "print(f'Общий профит: {orders.profit.sum():.0f} y.e.')"
   ]
  },
  {
   "cell_type": "code",
   "execution_count": 12,
   "metadata": {
    "ExecuteTime": {
     "end_time": "2021-10-25T18:12:08.950799Z",
     "start_time": "2021-10-25T18:12:08.935846Z"
    }
   },
   "outputs": [
    {
     "data": {
      "text/plain": [
       "(4723, 2)"
      ]
     },
     "execution_count": 12,
     "metadata": {},
     "output_type": "execute_result"
    }
   ],
   "source": [
    "# группируем датасет с заказами по № заказов\n",
    "\n",
    "orders_group_order = orders.groupby('order_id')['profit'].sum().reset_index()\n",
    "orders_group_order.shape"
   ]
  },
  {
   "cell_type": "code",
   "execution_count": 13,
   "metadata": {
    "ExecuteTime": {
     "end_time": "2021-10-25T18:12:08.960744Z",
     "start_time": "2021-10-25T18:12:08.952274Z"
    }
   },
   "outputs": [
    {
     "data": {
      "text/html": [
       "<div>\n",
       "<style scoped>\n",
       "    .dataframe tbody tr th:only-of-type {\n",
       "        vertical-align: middle;\n",
       "    }\n",
       "\n",
       "    .dataframe tbody tr th {\n",
       "        vertical-align: top;\n",
       "    }\n",
       "\n",
       "    .dataframe thead th {\n",
       "        text-align: right;\n",
       "    }\n",
       "</style>\n",
       "<table border=\"1\" class=\"dataframe\">\n",
       "  <thead>\n",
       "    <tr style=\"text-align: right;\">\n",
       "      <th></th>\n",
       "      <th>order_id</th>\n",
       "      <th>profit</th>\n",
       "    </tr>\n",
       "  </thead>\n",
       "  <tbody>\n",
       "    <tr>\n",
       "      <th>0</th>\n",
       "      <td>10022</td>\n",
       "      <td>-3.88</td>\n",
       "    </tr>\n",
       "    <tr>\n",
       "      <th>1</th>\n",
       "      <td>10048</td>\n",
       "      <td>76.51</td>\n",
       "    </tr>\n",
       "    <tr>\n",
       "      <th>2</th>\n",
       "      <td>10052</td>\n",
       "      <td>-89.47</td>\n",
       "    </tr>\n",
       "    <tr>\n",
       "      <th>3</th>\n",
       "      <td>10053</td>\n",
       "      <td>-305.93</td>\n",
       "    </tr>\n",
       "    <tr>\n",
       "      <th>4</th>\n",
       "      <td>10054</td>\n",
       "      <td>-458.35</td>\n",
       "    </tr>\n",
       "  </tbody>\n",
       "</table>\n",
       "</div>"
      ],
      "text/plain": [
       "  order_id  profit\n",
       "0    10022   -3.88\n",
       "1    10048   76.51\n",
       "2    10052  -89.47\n",
       "3    10053 -305.93\n",
       "4    10054 -458.35"
      ]
     },
     "execution_count": 13,
     "metadata": {},
     "output_type": "execute_result"
    }
   ],
   "source": [
    "orders_group_order.head()"
   ]
  },
  {
   "cell_type": "code",
   "execution_count": 14,
   "metadata": {
    "ExecuteTime": {
     "end_time": "2021-10-25T18:12:08.966479Z",
     "start_time": "2021-10-25T18:12:08.962218Z"
    }
   },
   "outputs": [
    {
     "data": {
      "text/plain": [
       "1234937.03"
      ]
     },
     "execution_count": 14,
     "metadata": {},
     "output_type": "execute_result"
    }
   ],
   "source": [
    "orders_group_order.profit.sum()  # проверяем сумму профита"
   ]
  },
  {
   "cell_type": "code",
   "execution_count": 15,
   "metadata": {
    "ExecuteTime": {
     "end_time": "2021-10-25T18:12:08.987758Z",
     "start_time": "2021-10-25T18:12:08.967914Z"
    }
   },
   "outputs": [
    {
     "data": {
      "text/plain": [
       "1234937.0299999998"
      ]
     },
     "execution_count": 15,
     "metadata": {},
     "output_type": "execute_result"
    }
   ],
   "source": [
    "# добавляем профит к сессиям\n",
    "\n",
    "df = pd.merge(sessions, orders_group_order, on='order_id', how='outer')\n",
    "df.profit.sum()"
   ]
  },
  {
   "cell_type": "code",
   "execution_count": 16,
   "metadata": {
    "ExecuteTime": {
     "end_time": "2021-10-25T18:12:09.024016Z",
     "start_time": "2021-10-25T18:12:08.990465Z"
    }
   },
   "outputs": [
    {
     "data": {
      "text/html": [
       "<div>\n",
       "<style scoped>\n",
       "    .dataframe tbody tr th:only-of-type {\n",
       "        vertical-align: middle;\n",
       "    }\n",
       "\n",
       "    .dataframe tbody tr th {\n",
       "        vertical-align: top;\n",
       "    }\n",
       "\n",
       "    .dataframe thead th {\n",
       "        text-align: right;\n",
       "    }\n",
       "</style>\n",
       "<table border=\"1\" class=\"dataframe\">\n",
       "  <thead>\n",
       "    <tr style=\"text-align: right;\">\n",
       "      <th></th>\n",
       "      <th>client_id</th>\n",
       "      <th>sessiondate</th>\n",
       "      <th>order_id</th>\n",
       "      <th>transaction</th>\n",
       "      <th>source_/_medium</th>\n",
       "      <th>campaign</th>\n",
       "      <th>profit</th>\n",
       "    </tr>\n",
       "  </thead>\n",
       "  <tbody>\n",
       "    <tr>\n",
       "      <th>0</th>\n",
       "      <td>00039fbdd03f38f626f9b1762e10b31a</td>\n",
       "      <td>2011-04-14</td>\n",
       "      <td>nan</td>\n",
       "      <td>0.0</td>\n",
       "      <td>sendpulse / email</td>\n",
       "      <td>news</td>\n",
       "      <td>NaN</td>\n",
       "    </tr>\n",
       "    <tr>\n",
       "      <th>1</th>\n",
       "      <td>00039fbdd03f38f626f9b1762e10b31a</td>\n",
       "      <td>2011-04-17</td>\n",
       "      <td>nan</td>\n",
       "      <td>0.0</td>\n",
       "      <td>direct</td>\n",
       "      <td>NaN</td>\n",
       "      <td>NaN</td>\n",
       "    </tr>\n",
       "    <tr>\n",
       "      <th>2</th>\n",
       "      <td>00039fbdd03f38f626f9b1762e10b31a</td>\n",
       "      <td>2011-04-20</td>\n",
       "      <td>38117</td>\n",
       "      <td>1.0</td>\n",
       "      <td>direct</td>\n",
       "      <td>NaN</td>\n",
       "      <td>-128.89</td>\n",
       "    </tr>\n",
       "    <tr>\n",
       "      <th>3</th>\n",
       "      <td>00039fbdd03f38f626f9b1762e10b31a</td>\n",
       "      <td>2011-06-05</td>\n",
       "      <td>nan</td>\n",
       "      <td>0.0</td>\n",
       "      <td>mail / organic</td>\n",
       "      <td>NaN</td>\n",
       "      <td>NaN</td>\n",
       "    </tr>\n",
       "    <tr>\n",
       "      <th>4</th>\n",
       "      <td>00039fbdd03f38f626f9b1762e10b31a</td>\n",
       "      <td>2011-06-08</td>\n",
       "      <td>nan</td>\n",
       "      <td>0.0</td>\n",
       "      <td>yandex / cpc</td>\n",
       "      <td>brand</td>\n",
       "      <td>NaN</td>\n",
       "    </tr>\n",
       "  </tbody>\n",
       "</table>\n",
       "</div>"
      ],
      "text/plain": [
       "                          client_id sessiondate order_id  transaction  \\\n",
       "0  00039fbdd03f38f626f9b1762e10b31a  2011-04-14      nan          0.0   \n",
       "1  00039fbdd03f38f626f9b1762e10b31a  2011-04-17      nan          0.0   \n",
       "2  00039fbdd03f38f626f9b1762e10b31a  2011-04-20    38117          1.0   \n",
       "3  00039fbdd03f38f626f9b1762e10b31a  2011-06-05      nan          0.0   \n",
       "4  00039fbdd03f38f626f9b1762e10b31a  2011-06-08      nan          0.0   \n",
       "\n",
       "     source_/_medium campaign  profit  \n",
       "0  sendpulse / email     news     NaN  \n",
       "1             direct      NaN     NaN  \n",
       "2             direct      NaN -128.89  \n",
       "3     mail / organic      NaN     NaN  \n",
       "4       yandex / cpc    brand     NaN  "
      ]
     },
     "execution_count": 16,
     "metadata": {},
     "output_type": "execute_result"
    }
   ],
   "source": [
    "# сортируем цепочку визитов пользователя\n",
    "\n",
    "df = df.sort_values(['client_id','sessiondate','order_id']).reset_index(drop=True)\n",
    "df.head()"
   ]
  },
  {
   "cell_type": "code",
   "execution_count": 17,
   "metadata": {
    "ExecuteTime": {
     "end_time": "2021-10-25T18:12:09.050577Z",
     "start_time": "2021-10-25T18:12:09.025498Z"
    }
   },
   "outputs": [
    {
     "data": {
      "text/html": [
       "<div>\n",
       "<style scoped>\n",
       "    .dataframe tbody tr th:only-of-type {\n",
       "        vertical-align: middle;\n",
       "    }\n",
       "\n",
       "    .dataframe tbody tr th {\n",
       "        vertical-align: top;\n",
       "    }\n",
       "\n",
       "    .dataframe thead th {\n",
       "        text-align: right;\n",
       "    }\n",
       "</style>\n",
       "<table border=\"1\" class=\"dataframe\">\n",
       "  <thead>\n",
       "    <tr style=\"text-align: right;\">\n",
       "      <th></th>\n",
       "      <th>client_id</th>\n",
       "      <th>sessiondate</th>\n",
       "      <th>order_id</th>\n",
       "      <th>transaction</th>\n",
       "      <th>source_/_medium</th>\n",
       "      <th>campaign</th>\n",
       "      <th>profit</th>\n",
       "      <th>orders_chain</th>\n",
       "      <th>profits_chain</th>\n",
       "    </tr>\n",
       "  </thead>\n",
       "  <tbody>\n",
       "    <tr>\n",
       "      <th>0</th>\n",
       "      <td>00039fbdd03f38f626f9b1762e10b31a</td>\n",
       "      <td>2011-04-14</td>\n",
       "      <td>NaN</td>\n",
       "      <td>0.0</td>\n",
       "      <td>sendpulse / email</td>\n",
       "      <td>news</td>\n",
       "      <td>NaN</td>\n",
       "      <td>38117</td>\n",
       "      <td>-128.89</td>\n",
       "    </tr>\n",
       "    <tr>\n",
       "      <th>1</th>\n",
       "      <td>00039fbdd03f38f626f9b1762e10b31a</td>\n",
       "      <td>2011-04-17</td>\n",
       "      <td>NaN</td>\n",
       "      <td>0.0</td>\n",
       "      <td>direct</td>\n",
       "      <td>NaN</td>\n",
       "      <td>NaN</td>\n",
       "      <td>38117</td>\n",
       "      <td>-128.89</td>\n",
       "    </tr>\n",
       "    <tr>\n",
       "      <th>2</th>\n",
       "      <td>00039fbdd03f38f626f9b1762e10b31a</td>\n",
       "      <td>2011-04-20</td>\n",
       "      <td>38117</td>\n",
       "      <td>1.0</td>\n",
       "      <td>direct</td>\n",
       "      <td>NaN</td>\n",
       "      <td>-128.89</td>\n",
       "      <td>38117</td>\n",
       "      <td>-128.89</td>\n",
       "    </tr>\n",
       "    <tr>\n",
       "      <th>3</th>\n",
       "      <td>00039fbdd03f38f626f9b1762e10b31a</td>\n",
       "      <td>2011-06-05</td>\n",
       "      <td>NaN</td>\n",
       "      <td>0.0</td>\n",
       "      <td>mail / organic</td>\n",
       "      <td>NaN</td>\n",
       "      <td>NaN</td>\n",
       "      <td>43874</td>\n",
       "      <td>-161.21</td>\n",
       "    </tr>\n",
       "    <tr>\n",
       "      <th>4</th>\n",
       "      <td>00039fbdd03f38f626f9b1762e10b31a</td>\n",
       "      <td>2011-06-08</td>\n",
       "      <td>NaN</td>\n",
       "      <td>0.0</td>\n",
       "      <td>yandex / cpc</td>\n",
       "      <td>brand</td>\n",
       "      <td>NaN</td>\n",
       "      <td>43874</td>\n",
       "      <td>-161.21</td>\n",
       "    </tr>\n",
       "  </tbody>\n",
       "</table>\n",
       "</div>"
      ],
      "text/plain": [
       "                          client_id sessiondate order_id  transaction  \\\n",
       "0  00039fbdd03f38f626f9b1762e10b31a  2011-04-14      NaN          0.0   \n",
       "1  00039fbdd03f38f626f9b1762e10b31a  2011-04-17      NaN          0.0   \n",
       "2  00039fbdd03f38f626f9b1762e10b31a  2011-04-20    38117          1.0   \n",
       "3  00039fbdd03f38f626f9b1762e10b31a  2011-06-05      NaN          0.0   \n",
       "4  00039fbdd03f38f626f9b1762e10b31a  2011-06-08      NaN          0.0   \n",
       "\n",
       "     source_/_medium campaign  profit orders_chain  profits_chain  \n",
       "0  sendpulse / email     news     NaN        38117        -128.89  \n",
       "1             direct      NaN     NaN        38117        -128.89  \n",
       "2             direct      NaN -128.89        38117        -128.89  \n",
       "3     mail / organic      NaN     NaN        43874        -161.21  \n",
       "4       yandex / cpc    brand     NaN        43874        -161.21  "
      ]
     },
     "execution_count": 17,
     "metadata": {},
     "output_type": "execute_result"
    }
   ],
   "source": [
    "# создаем новое поле с номером заказа, который принадлежит транзакционной цепочке\n",
    "\n",
    "df['order_id'] = df['order_id'].replace('nan', np.NaN)\n",
    "df['orders_chain'] = df['order_id'].fillna(method='bfill') \n",
    "\n",
    "# создаем новое поле с суммой заказа, который принадлежит транзакционной цепочке\n",
    "\n",
    "df['profit'] = df['profit'].replace('nan', np.NaN)\n",
    "df['profits_chain'] = df['profit'].fillna(method='bfill')\n",
    "df.head()"
   ]
  },
  {
   "cell_type": "markdown",
   "metadata": {},
   "source": [
    "### Моно-канальные модели атрибуции"
   ]
  },
  {
   "cell_type": "markdown",
   "metadata": {},
   "source": [
    "#### First Click"
   ]
  },
  {
   "cell_type": "code",
   "execution_count": 18,
   "metadata": {
    "ExecuteTime": {
     "end_time": "2021-10-25T18:12:09.070086Z",
     "start_time": "2021-10-25T18:12:09.052354Z"
    }
   },
   "outputs": [
    {
     "data": {
      "text/html": [
       "<div>\n",
       "<style scoped>\n",
       "    .dataframe tbody tr th:only-of-type {\n",
       "        vertical-align: middle;\n",
       "    }\n",
       "\n",
       "    .dataframe tbody tr th {\n",
       "        vertical-align: top;\n",
       "    }\n",
       "\n",
       "    .dataframe thead th {\n",
       "        text-align: right;\n",
       "    }\n",
       "</style>\n",
       "<table border=\"1\" class=\"dataframe\">\n",
       "  <thead>\n",
       "    <tr style=\"text-align: right;\">\n",
       "      <th></th>\n",
       "      <th>order_id</th>\n",
       "      <th>first_channel</th>\n",
       "    </tr>\n",
       "  </thead>\n",
       "  <tbody>\n",
       "    <tr>\n",
       "      <th>0</th>\n",
       "      <td>10022</td>\n",
       "      <td>vkontakte / cpc</td>\n",
       "    </tr>\n",
       "    <tr>\n",
       "      <th>1</th>\n",
       "      <td>10048</td>\n",
       "      <td>mail / organic</td>\n",
       "    </tr>\n",
       "    <tr>\n",
       "      <th>2</th>\n",
       "      <td>10052</td>\n",
       "      <td>sendpulse / email</td>\n",
       "    </tr>\n",
       "    <tr>\n",
       "      <th>3</th>\n",
       "      <td>10053</td>\n",
       "      <td>mail / organic</td>\n",
       "    </tr>\n",
       "    <tr>\n",
       "      <th>4</th>\n",
       "      <td>10054</td>\n",
       "      <td>mail / organic</td>\n",
       "    </tr>\n",
       "  </tbody>\n",
       "</table>\n",
       "</div>"
      ],
      "text/plain": [
       "  order_id      first_channel\n",
       "0    10022    vkontakte / cpc\n",
       "1    10048     mail / organic\n",
       "2    10052  sendpulse / email\n",
       "3    10053     mail / organic\n",
       "4    10054     mail / organic"
      ]
     },
     "execution_count": 18,
     "metadata": {},
     "output_type": "execute_result"
    }
   ],
   "source": [
    "df_first_click = df.groupby('orders_chain')['source_/_medium'].first().reset_index() # подставляем первый источник в транзакционной цепочке\n",
    "df_first_click.columns = ['order_id','first_channel']\n",
    "df_first_click.head()"
   ]
  },
  {
   "cell_type": "code",
   "execution_count": 19,
   "metadata": {
    "ExecuteTime": {
     "end_time": "2021-10-25T18:12:09.086854Z",
     "start_time": "2021-10-25T18:12:09.071564Z"
    }
   },
   "outputs": [
    {
     "data": {
      "text/plain": [
       "(19080, 10)"
      ]
     },
     "execution_count": 19,
     "metadata": {},
     "output_type": "execute_result"
    }
   ],
   "source": [
    "df = df.merge(df_first_click, on='order_id', how='left')\n",
    "df.shape"
   ]
  },
  {
   "cell_type": "code",
   "execution_count": 20,
   "metadata": {
    "ExecuteTime": {
     "end_time": "2021-10-25T18:12:09.107907Z",
     "start_time": "2021-10-25T18:12:09.088370Z"
    },
    "scrolled": true
   },
   "outputs": [
    {
     "data": {
      "text/html": [
       "<div>\n",
       "<style scoped>\n",
       "    .dataframe tbody tr th:only-of-type {\n",
       "        vertical-align: middle;\n",
       "    }\n",
       "\n",
       "    .dataframe tbody tr th {\n",
       "        vertical-align: top;\n",
       "    }\n",
       "\n",
       "    .dataframe thead th {\n",
       "        text-align: right;\n",
       "    }\n",
       "</style>\n",
       "<table border=\"1\" class=\"dataframe\">\n",
       "  <thead>\n",
       "    <tr style=\"text-align: right;\">\n",
       "      <th></th>\n",
       "      <th>client_id</th>\n",
       "      <th>sessiondate</th>\n",
       "      <th>order_id</th>\n",
       "      <th>transaction</th>\n",
       "      <th>source_/_medium</th>\n",
       "      <th>campaign</th>\n",
       "      <th>profit</th>\n",
       "      <th>orders_chain</th>\n",
       "      <th>profits_chain</th>\n",
       "      <th>first_channel</th>\n",
       "    </tr>\n",
       "  </thead>\n",
       "  <tbody>\n",
       "    <tr>\n",
       "      <th>0</th>\n",
       "      <td>00039fbdd03f38f626f9b1762e10b31a</td>\n",
       "      <td>2011-04-14</td>\n",
       "      <td>NaN</td>\n",
       "      <td>0.0</td>\n",
       "      <td>sendpulse / email</td>\n",
       "      <td>news</td>\n",
       "      <td>NaN</td>\n",
       "      <td>38117</td>\n",
       "      <td>-128.89</td>\n",
       "      <td>NaN</td>\n",
       "    </tr>\n",
       "    <tr>\n",
       "      <th>1</th>\n",
       "      <td>00039fbdd03f38f626f9b1762e10b31a</td>\n",
       "      <td>2011-04-17</td>\n",
       "      <td>NaN</td>\n",
       "      <td>0.0</td>\n",
       "      <td>direct</td>\n",
       "      <td>NaN</td>\n",
       "      <td>NaN</td>\n",
       "      <td>38117</td>\n",
       "      <td>-128.89</td>\n",
       "      <td>NaN</td>\n",
       "    </tr>\n",
       "    <tr>\n",
       "      <th>2</th>\n",
       "      <td>00039fbdd03f38f626f9b1762e10b31a</td>\n",
       "      <td>2011-04-20</td>\n",
       "      <td>38117</td>\n",
       "      <td>1.0</td>\n",
       "      <td>direct</td>\n",
       "      <td>NaN</td>\n",
       "      <td>-128.89</td>\n",
       "      <td>38117</td>\n",
       "      <td>-128.89</td>\n",
       "      <td>sendpulse / email</td>\n",
       "    </tr>\n",
       "    <tr>\n",
       "      <th>3</th>\n",
       "      <td>00039fbdd03f38f626f9b1762e10b31a</td>\n",
       "      <td>2011-06-05</td>\n",
       "      <td>NaN</td>\n",
       "      <td>0.0</td>\n",
       "      <td>mail / organic</td>\n",
       "      <td>NaN</td>\n",
       "      <td>NaN</td>\n",
       "      <td>43874</td>\n",
       "      <td>-161.21</td>\n",
       "      <td>NaN</td>\n",
       "    </tr>\n",
       "    <tr>\n",
       "      <th>4</th>\n",
       "      <td>00039fbdd03f38f626f9b1762e10b31a</td>\n",
       "      <td>2011-06-08</td>\n",
       "      <td>NaN</td>\n",
       "      <td>0.0</td>\n",
       "      <td>yandex / cpc</td>\n",
       "      <td>brand</td>\n",
       "      <td>NaN</td>\n",
       "      <td>43874</td>\n",
       "      <td>-161.21</td>\n",
       "      <td>NaN</td>\n",
       "    </tr>\n",
       "    <tr>\n",
       "      <th>5</th>\n",
       "      <td>00039fbdd03f38f626f9b1762e10b31a</td>\n",
       "      <td>2011-06-10</td>\n",
       "      <td>43874</td>\n",
       "      <td>1.0</td>\n",
       "      <td>google / cpc</td>\n",
       "      <td>not_brand</td>\n",
       "      <td>-161.21</td>\n",
       "      <td>43874</td>\n",
       "      <td>-161.21</td>\n",
       "      <td>mail / organic</td>\n",
       "    </tr>\n",
       "    <tr>\n",
       "      <th>6</th>\n",
       "      <td>00039fbdd03f38f626f9b1762e10b31a</td>\n",
       "      <td>2011-10-08</td>\n",
       "      <td>NaN</td>\n",
       "      <td>0.0</td>\n",
       "      <td>direct</td>\n",
       "      <td>NaN</td>\n",
       "      <td>NaN</td>\n",
       "      <td>9926</td>\n",
       "      <td>-56.97</td>\n",
       "      <td>NaN</td>\n",
       "    </tr>\n",
       "    <tr>\n",
       "      <th>7</th>\n",
       "      <td>00039fbdd03f38f626f9b1762e10b31a</td>\n",
       "      <td>2011-10-11</td>\n",
       "      <td>9926</td>\n",
       "      <td>1.0</td>\n",
       "      <td>yandex / organic</td>\n",
       "      <td>NaN</td>\n",
       "      <td>-56.97</td>\n",
       "      <td>9926</td>\n",
       "      <td>-56.97</td>\n",
       "      <td>direct</td>\n",
       "    </tr>\n",
       "    <tr>\n",
       "      <th>8</th>\n",
       "      <td>00a7fb7251c04c8f17593a3c7a779d82</td>\n",
       "      <td>2011-08-20</td>\n",
       "      <td>NaN</td>\n",
       "      <td>0.0</td>\n",
       "      <td>google / organic</td>\n",
       "      <td>NaN</td>\n",
       "      <td>NaN</td>\n",
       "      <td>6336</td>\n",
       "      <td>-84.13</td>\n",
       "      <td>NaN</td>\n",
       "    </tr>\n",
       "    <tr>\n",
       "      <th>9</th>\n",
       "      <td>00a7fb7251c04c8f17593a3c7a779d82</td>\n",
       "      <td>2011-08-25</td>\n",
       "      <td>NaN</td>\n",
       "      <td>0.0</td>\n",
       "      <td>google / cpc</td>\n",
       "      <td>brand</td>\n",
       "      <td>NaN</td>\n",
       "      <td>6336</td>\n",
       "      <td>-84.13</td>\n",
       "      <td>NaN</td>\n",
       "    </tr>\n",
       "  </tbody>\n",
       "</table>\n",
       "</div>"
      ],
      "text/plain": [
       "                          client_id sessiondate order_id  transaction  \\\n",
       "0  00039fbdd03f38f626f9b1762e10b31a  2011-04-14      NaN          0.0   \n",
       "1  00039fbdd03f38f626f9b1762e10b31a  2011-04-17      NaN          0.0   \n",
       "2  00039fbdd03f38f626f9b1762e10b31a  2011-04-20    38117          1.0   \n",
       "3  00039fbdd03f38f626f9b1762e10b31a  2011-06-05      NaN          0.0   \n",
       "4  00039fbdd03f38f626f9b1762e10b31a  2011-06-08      NaN          0.0   \n",
       "5  00039fbdd03f38f626f9b1762e10b31a  2011-06-10    43874          1.0   \n",
       "6  00039fbdd03f38f626f9b1762e10b31a  2011-10-08      NaN          0.0   \n",
       "7  00039fbdd03f38f626f9b1762e10b31a  2011-10-11     9926          1.0   \n",
       "8  00a7fb7251c04c8f17593a3c7a779d82  2011-08-20      NaN          0.0   \n",
       "9  00a7fb7251c04c8f17593a3c7a779d82  2011-08-25      NaN          0.0   \n",
       "\n",
       "     source_/_medium   campaign  profit orders_chain  profits_chain  \\\n",
       "0  sendpulse / email       news     NaN        38117        -128.89   \n",
       "1             direct        NaN     NaN        38117        -128.89   \n",
       "2             direct        NaN -128.89        38117        -128.89   \n",
       "3     mail / organic        NaN     NaN        43874        -161.21   \n",
       "4       yandex / cpc      brand     NaN        43874        -161.21   \n",
       "5       google / cpc  not_brand -161.21        43874        -161.21   \n",
       "6             direct        NaN     NaN         9926         -56.97   \n",
       "7   yandex / organic        NaN  -56.97         9926         -56.97   \n",
       "8   google / organic        NaN     NaN         6336         -84.13   \n",
       "9       google / cpc      brand     NaN         6336         -84.13   \n",
       "\n",
       "       first_channel  \n",
       "0                NaN  \n",
       "1                NaN  \n",
       "2  sendpulse / email  \n",
       "3                NaN  \n",
       "4                NaN  \n",
       "5     mail / organic  \n",
       "6                NaN  \n",
       "7             direct  \n",
       "8                NaN  \n",
       "9                NaN  "
      ]
     },
     "execution_count": 20,
     "metadata": {},
     "output_type": "execute_result"
    }
   ],
   "source": [
    "df.head(10)"
   ]
  },
  {
   "cell_type": "markdown",
   "metadata": {},
   "source": [
    "#### Last Non-Direct Click"
   ]
  },
  {
   "cell_type": "code",
   "execution_count": 21,
   "metadata": {
    "ExecuteTime": {
     "end_time": "2021-10-25T18:12:09.142509Z",
     "start_time": "2021-10-25T18:12:09.109352Z"
    }
   },
   "outputs": [],
   "source": [
    "# исключаем direct из источников\n",
    "df_lastnondirect = df[df['source_/_medium'] != 'direct'].groupby('orders_chain')['source_/_medium'].last().reset_index() # подставляем последний источник\n",
    "df_lastnondirect.columns = ['order_id','last_non_direct_channel']\n",
    "\n",
    "df = df.merge(df_lastnondirect, on='order_id', how='left') # объединяем с исходным датасетом"
   ]
  },
  {
   "cell_type": "code",
   "execution_count": 22,
   "metadata": {
    "ExecuteTime": {
     "end_time": "2021-10-25T18:12:09.169112Z",
     "start_time": "2021-10-25T18:12:09.144519Z"
    }
   },
   "outputs": [
    {
     "data": {
      "text/html": [
       "<div>\n",
       "<style scoped>\n",
       "    .dataframe tbody tr th:only-of-type {\n",
       "        vertical-align: middle;\n",
       "    }\n",
       "\n",
       "    .dataframe tbody tr th {\n",
       "        vertical-align: top;\n",
       "    }\n",
       "\n",
       "    .dataframe thead th {\n",
       "        text-align: right;\n",
       "    }\n",
       "</style>\n",
       "<table border=\"1\" class=\"dataframe\">\n",
       "  <thead>\n",
       "    <tr style=\"text-align: right;\">\n",
       "      <th></th>\n",
       "      <th>client_id</th>\n",
       "      <th>sessiondate</th>\n",
       "      <th>order_id</th>\n",
       "      <th>transaction</th>\n",
       "      <th>source_/_medium</th>\n",
       "      <th>campaign</th>\n",
       "      <th>profit</th>\n",
       "      <th>orders_chain</th>\n",
       "      <th>profits_chain</th>\n",
       "      <th>first_channel</th>\n",
       "      <th>last_non_direct_channel</th>\n",
       "    </tr>\n",
       "  </thead>\n",
       "  <tbody>\n",
       "    <tr>\n",
       "      <th>0</th>\n",
       "      <td>00039fbdd03f38f626f9b1762e10b31a</td>\n",
       "      <td>2011-04-14</td>\n",
       "      <td>NaN</td>\n",
       "      <td>0.0</td>\n",
       "      <td>sendpulse / email</td>\n",
       "      <td>news</td>\n",
       "      <td>NaN</td>\n",
       "      <td>38117</td>\n",
       "      <td>-128.89</td>\n",
       "      <td>NaN</td>\n",
       "      <td>NaN</td>\n",
       "    </tr>\n",
       "    <tr>\n",
       "      <th>1</th>\n",
       "      <td>00039fbdd03f38f626f9b1762e10b31a</td>\n",
       "      <td>2011-04-17</td>\n",
       "      <td>NaN</td>\n",
       "      <td>0.0</td>\n",
       "      <td>direct</td>\n",
       "      <td>NaN</td>\n",
       "      <td>NaN</td>\n",
       "      <td>38117</td>\n",
       "      <td>-128.89</td>\n",
       "      <td>NaN</td>\n",
       "      <td>NaN</td>\n",
       "    </tr>\n",
       "    <tr>\n",
       "      <th>2</th>\n",
       "      <td>00039fbdd03f38f626f9b1762e10b31a</td>\n",
       "      <td>2011-04-20</td>\n",
       "      <td>38117</td>\n",
       "      <td>1.0</td>\n",
       "      <td>direct</td>\n",
       "      <td>NaN</td>\n",
       "      <td>-128.89</td>\n",
       "      <td>38117</td>\n",
       "      <td>-128.89</td>\n",
       "      <td>sendpulse / email</td>\n",
       "      <td>sendpulse / email</td>\n",
       "    </tr>\n",
       "    <tr>\n",
       "      <th>3</th>\n",
       "      <td>00039fbdd03f38f626f9b1762e10b31a</td>\n",
       "      <td>2011-06-05</td>\n",
       "      <td>NaN</td>\n",
       "      <td>0.0</td>\n",
       "      <td>mail / organic</td>\n",
       "      <td>NaN</td>\n",
       "      <td>NaN</td>\n",
       "      <td>43874</td>\n",
       "      <td>-161.21</td>\n",
       "      <td>NaN</td>\n",
       "      <td>NaN</td>\n",
       "    </tr>\n",
       "    <tr>\n",
       "      <th>4</th>\n",
       "      <td>00039fbdd03f38f626f9b1762e10b31a</td>\n",
       "      <td>2011-06-08</td>\n",
       "      <td>NaN</td>\n",
       "      <td>0.0</td>\n",
       "      <td>yandex / cpc</td>\n",
       "      <td>brand</td>\n",
       "      <td>NaN</td>\n",
       "      <td>43874</td>\n",
       "      <td>-161.21</td>\n",
       "      <td>NaN</td>\n",
       "      <td>NaN</td>\n",
       "    </tr>\n",
       "  </tbody>\n",
       "</table>\n",
       "</div>"
      ],
      "text/plain": [
       "                          client_id sessiondate order_id  transaction  \\\n",
       "0  00039fbdd03f38f626f9b1762e10b31a  2011-04-14      NaN          0.0   \n",
       "1  00039fbdd03f38f626f9b1762e10b31a  2011-04-17      NaN          0.0   \n",
       "2  00039fbdd03f38f626f9b1762e10b31a  2011-04-20    38117          1.0   \n",
       "3  00039fbdd03f38f626f9b1762e10b31a  2011-06-05      NaN          0.0   \n",
       "4  00039fbdd03f38f626f9b1762e10b31a  2011-06-08      NaN          0.0   \n",
       "\n",
       "     source_/_medium campaign  profit orders_chain  profits_chain  \\\n",
       "0  sendpulse / email     news     NaN        38117        -128.89   \n",
       "1             direct      NaN     NaN        38117        -128.89   \n",
       "2             direct      NaN -128.89        38117        -128.89   \n",
       "3     mail / organic      NaN     NaN        43874        -161.21   \n",
       "4       yandex / cpc    brand     NaN        43874        -161.21   \n",
       "\n",
       "       first_channel last_non_direct_channel  \n",
       "0                NaN                     NaN  \n",
       "1                NaN                     NaN  \n",
       "2  sendpulse / email       sendpulse / email  \n",
       "3                NaN                     NaN  \n",
       "4                NaN                     NaN  "
      ]
     },
     "execution_count": 22,
     "metadata": {},
     "output_type": "execute_result"
    }
   ],
   "source": [
    "# тем заказам, которые удалились из объединяемого датасета назначаем принудительно direct\n",
    "\n",
    "df.loc[(~df['order_id'].isna())&(df['last_non_direct_channel'].isna()), 'last_non_direct_channel'] = 'direct'\n",
    "df.head()"
   ]
  },
  {
   "cell_type": "code",
   "execution_count": 23,
   "metadata": {
    "ExecuteTime": {
     "end_time": "2021-10-25T18:12:09.183297Z",
     "start_time": "2021-10-25T18:12:09.170917Z"
    }
   },
   "outputs": [
    {
     "data": {
      "text/plain": [
       "array(['mail / organic', 'sendpulse / email', 'yandex / cpc',\n",
       "       'google / organic', 'vkontakte / cpc', 'google / cpc',\n",
       "       'yandex / organic', 'direct'], dtype=object)"
      ]
     },
     "execution_count": 23,
     "metadata": {},
     "output_type": "execute_result"
    }
   ],
   "source": [
    "df.groupby('order_id')['last_non_direct_channel'].last().unique()"
   ]
  },
  {
   "cell_type": "markdown",
   "metadata": {},
   "source": [
    "#### Last Click"
   ]
  },
  {
   "cell_type": "code",
   "execution_count": 24,
   "metadata": {
    "ExecuteTime": {
     "end_time": "2021-10-25T18:12:09.188933Z",
     "start_time": "2021-10-25T18:12:09.185065Z"
    }
   },
   "outputs": [],
   "source": [
    "df['last_channel'] = df['source_/_medium']"
   ]
  },
  {
   "cell_type": "code",
   "execution_count": 25,
   "metadata": {
    "ExecuteTime": {
     "end_time": "2021-10-25T18:12:09.412090Z",
     "start_time": "2021-10-25T18:12:09.190989Z"
    }
   },
   "outputs": [
    {
     "data": {
      "image/png": "[encoded data removed]",
      "text/plain": [
       "<Figure size 864x288 with 1 Axes>"
      ]
     },
     "metadata": {},
     "output_type": "display_data"
    }
   ],
   "source": [
    "df.groupby('last_channel').profit.sum().sort_values().plot(kind='barh', title='Доход по каналам для Last Click');"
   ]
  },
  {
   "cell_type": "markdown",
   "metadata": {},
   "source": [
    "#### Сравнение"
   ]
  },
  {
   "cell_type": "code",
   "execution_count": 26,
   "metadata": {
    "ExecuteTime": {
     "end_time": "2021-10-25T18:12:09.446073Z",
     "start_time": "2021-10-25T18:12:09.416019Z"
    }
   },
   "outputs": [],
   "source": [
    "channel_profit = pd.DataFrame({'channel':df['source_/_medium'].unique()})\n",
    "\n",
    "# добавляем результаты по каждой модели атрибуции\n",
    "for x in df.columns[-3:]:\n",
    "    temp = df.groupby(x)['profit'].sum().reset_index().rename(columns={x:'channel','profit':x+'_profit'})\n",
    "    channel_profit = channel_profit.merge(temp)\n",
    "    \n",
    "channel_profit = channel_profit.set_index('channel')"
   ]
  },
  {
   "cell_type": "code",
   "execution_count": 27,
   "metadata": {
    "ExecuteTime": {
     "end_time": "2021-10-25T18:12:09.455947Z",
     "start_time": "2021-10-25T18:12:09.448833Z"
    }
   },
   "outputs": [
    {
     "data": {
      "text/plain": [
       "first_channel_profit              1234937.03\n",
       "last_non_direct_channel_profit    1234937.03\n",
       "last_channel_profit               1234937.03\n",
       "dtype: float64"
      ]
     },
     "execution_count": 27,
     "metadata": {},
     "output_type": "execute_result"
    }
   ],
   "source": [
    "channel_profit.sum()"
   ]
  },
  {
   "cell_type": "code",
   "execution_count": 28,
   "metadata": {
    "ExecuteTime": {
     "end_time": "2021-10-25T18:12:09.777579Z",
     "start_time": "2021-10-25T18:12:09.458817Z"
    }
   },
   "outputs": [
    {
     "data": {
      "image/png": "[encoded data removed]",
      "text/plain": [
       "<Figure size 864x288 with 1 Axes>"
      ]
     },
     "metadata": {},
     "output_type": "display_data"
    }
   ],
   "source": [
    "channel_profit.plot(kind='barh', title='Сравнение моно-канальных моделей атрибуции \\n');"
   ]
  },
  {
   "cell_type": "code",
   "execution_count": 29,
   "metadata": {
    "ExecuteTime": {
     "end_time": "2021-10-25T18:12:10.081739Z",
     "start_time": "2021-10-25T18:12:09.779896Z"
    }
   },
   "outputs": [
    {
     "data": {
      "text/html": [
       "<style  type=\"text/css\" >\n",
       "#T_121ff906_35bf_11ec_a8a0_6cb3112342b8row0_col0,#T_121ff906_35bf_11ec_a8a0_6cb3112342b8row0_col3,#T_121ff906_35bf_11ec_a8a0_6cb3112342b8row0_col4,#T_121ff906_35bf_11ec_a8a0_6cb3112342b8row0_col5,#T_121ff906_35bf_11ec_a8a0_6cb3112342b8row0_col7,#T_121ff906_35bf_11ec_a8a0_6cb3112342b8row1_col1,#T_121ff906_35bf_11ec_a8a0_6cb3112342b8row2_col2,#T_121ff906_35bf_11ec_a8a0_6cb3112342b8row2_col6{\n",
       "            background-color:  #f7fbff;\n",
       "            color:  #000000;\n",
       "        }#T_121ff906_35bf_11ec_a8a0_6cb3112342b8row0_col1,#T_121ff906_35bf_11ec_a8a0_6cb3112342b8row0_col2,#T_121ff906_35bf_11ec_a8a0_6cb3112342b8row0_col6,#T_121ff906_35bf_11ec_a8a0_6cb3112342b8row1_col0,#T_121ff906_35bf_11ec_a8a0_6cb3112342b8row1_col3,#T_121ff906_35bf_11ec_a8a0_6cb3112342b8row1_col4,#T_121ff906_35bf_11ec_a8a0_6cb3112342b8row1_col5,#T_121ff906_35bf_11ec_a8a0_6cb3112342b8row1_col7{\n",
       "            background-color:  #08306b;\n",
       "            color:  #f1f1f1;\n",
       "        }#T_121ff906_35bf_11ec_a8a0_6cb3112342b8row1_col2{\n",
       "            background-color:  #b5d4e9;\n",
       "            color:  #000000;\n",
       "        }#T_121ff906_35bf_11ec_a8a0_6cb3112342b8row1_col6{\n",
       "            background-color:  #c3daee;\n",
       "            color:  #000000;\n",
       "        }#T_121ff906_35bf_11ec_a8a0_6cb3112342b8row2_col0{\n",
       "            background-color:  #0a549e;\n",
       "            color:  #f1f1f1;\n",
       "        }#T_121ff906_35bf_11ec_a8a0_6cb3112342b8row2_col1{\n",
       "            background-color:  #4594c7;\n",
       "            color:  #000000;\n",
       "        }#T_121ff906_35bf_11ec_a8a0_6cb3112342b8row2_col3{\n",
       "            background-color:  #b7d4ea;\n",
       "            color:  #000000;\n",
       "        }#T_121ff906_35bf_11ec_a8a0_6cb3112342b8row2_col4{\n",
       "            background-color:  #08468b;\n",
       "            color:  #f1f1f1;\n",
       "        }#T_121ff906_35bf_11ec_a8a0_6cb3112342b8row2_col5{\n",
       "            background-color:  #3e8ec4;\n",
       "            color:  #000000;\n",
       "        }#T_121ff906_35bf_11ec_a8a0_6cb3112342b8row2_col7{\n",
       "            background-color:  #084285;\n",
       "            color:  #f1f1f1;\n",
       "        }</style><table id=\"T_121ff906_35bf_11ec_a8a0_6cb3112342b8\" ><thead>    <tr>        <th class=\"index_name level0\" >channel</th>        <th class=\"col_heading level0 col0\" >sendpulse / email</th>        <th class=\"col_heading level0 col1\" >direct</th>        <th class=\"col_heading level0 col2\" >mail / organic</th>        <th class=\"col_heading level0 col3\" >yandex / cpc</th>        <th class=\"col_heading level0 col4\" >google / cpc</th>        <th class=\"col_heading level0 col5\" >yandex / organic</th>        <th class=\"col_heading level0 col6\" >google / organic</th>        <th class=\"col_heading level0 col7\" >vkontakte / cpc</th>    </tr></thead><tbody>\n",
       "                <tr>\n",
       "                        <th id=\"T_121ff906_35bf_11ec_a8a0_6cb3112342b8level0_row0\" class=\"row_heading level0 row0\" >first_channel_profit</th>\n",
       "                        <td id=\"T_121ff906_35bf_11ec_a8a0_6cb3112342b8row0_col0\" class=\"data row0 col0\" >100769</td>\n",
       "                        <td id=\"T_121ff906_35bf_11ec_a8a0_6cb3112342b8row0_col1\" class=\"data row0 col1\" >192779</td>\n",
       "                        <td id=\"T_121ff906_35bf_11ec_a8a0_6cb3112342b8row0_col2\" class=\"data row0 col2\" >136177</td>\n",
       "                        <td id=\"T_121ff906_35bf_11ec_a8a0_6cb3112342b8row0_col3\" class=\"data row0 col3\" >146443</td>\n",
       "                        <td id=\"T_121ff906_35bf_11ec_a8a0_6cb3112342b8row0_col4\" class=\"data row0 col4\" >148106</td>\n",
       "                        <td id=\"T_121ff906_35bf_11ec_a8a0_6cb3112342b8row0_col5\" class=\"data row0 col5\" >94327</td>\n",
       "                        <td id=\"T_121ff906_35bf_11ec_a8a0_6cb3112342b8row0_col6\" class=\"data row0 col6\" >243445</td>\n",
       "                        <td id=\"T_121ff906_35bf_11ec_a8a0_6cb3112342b8row0_col7\" class=\"data row0 col7\" >172890</td>\n",
       "            </tr>\n",
       "            <tr>\n",
       "                        <th id=\"T_121ff906_35bf_11ec_a8a0_6cb3112342b8level0_row1\" class=\"row_heading level0 row1\" >last_non_direct_channel_profit</th>\n",
       "                        <td id=\"T_121ff906_35bf_11ec_a8a0_6cb3112342b8row1_col0\" class=\"data row1 col0\" >194562</td>\n",
       "                        <td id=\"T_121ff906_35bf_11ec_a8a0_6cb3112342b8row1_col1\" class=\"data row1 col1\" >15517</td>\n",
       "                        <td id=\"T_121ff906_35bf_11ec_a8a0_6cb3112342b8row1_col2\" class=\"data row1 col2\" >82920</td>\n",
       "                        <td id=\"T_121ff906_35bf_11ec_a8a0_6cb3112342b8row1_col3\" class=\"data row1 col3\" >184243</td>\n",
       "                        <td id=\"T_121ff906_35bf_11ec_a8a0_6cb3112342b8row1_col4\" class=\"data row1 col4\" >213268</td>\n",
       "                        <td id=\"T_121ff906_35bf_11ec_a8a0_6cb3112342b8row1_col5\" class=\"data row1 col5\" >130040</td>\n",
       "                        <td id=\"T_121ff906_35bf_11ec_a8a0_6cb3112342b8row1_col6\" class=\"data row1 col6\" >177565</td>\n",
       "                        <td id=\"T_121ff906_35bf_11ec_a8a0_6cb3112342b8row1_col7\" class=\"data row1 col7\" >236822</td>\n",
       "            </tr>\n",
       "            <tr>\n",
       "                        <th id=\"T_121ff906_35bf_11ec_a8a0_6cb3112342b8level0_row2\" class=\"row_heading level0 row2\" >last_channel_profit</th>\n",
       "                        <td id=\"T_121ff906_35bf_11ec_a8a0_6cb3112342b8row2_col0\" class=\"data row2 col0\" >181469</td>\n",
       "                        <td id=\"T_121ff906_35bf_11ec_a8a0_6cb3112342b8row2_col1\" class=\"data row2 col1\" >124351</td>\n",
       "                        <td id=\"T_121ff906_35bf_11ec_a8a0_6cb3112342b8row2_col2\" class=\"data row2 col2\" >59853</td>\n",
       "                        <td id=\"T_121ff906_35bf_11ec_a8a0_6cb3112342b8row2_col3\" class=\"data row2 col3\" >157703</td>\n",
       "                        <td id=\"T_121ff906_35bf_11ec_a8a0_6cb3112342b8row2_col4\" class=\"data row2 col4\" >207763</td>\n",
       "                        <td id=\"T_121ff906_35bf_11ec_a8a0_6cb3112342b8row2_col5\" class=\"data row2 col5\" >117145</td>\n",
       "                        <td id=\"T_121ff906_35bf_11ec_a8a0_6cb3112342b8row2_col6\" class=\"data row2 col6\" >154225</td>\n",
       "                        <td id=\"T_121ff906_35bf_11ec_a8a0_6cb3112342b8row2_col7\" class=\"data row2 col7\" >232429</td>\n",
       "            </tr>\n",
       "    </tbody></table>"
      ],
      "text/plain": [
       "<pandas.io.formats.style.Styler at 0x7f6e3579b898>"
      ]
     },
     "execution_count": 29,
     "metadata": {},
     "output_type": "execute_result"
    }
   ],
   "source": [
    "(channel_profit\n",
    " .T\n",
    " .style\n",
    " .format(\"{:.0f}\")\n",
    " .background_gradient(cmap='Blues')\n",
    ")"
   ]
  },
  {
   "cell_type": "markdown",
   "metadata": {},
   "source": [
    "#### Вывод\n",
    "\n",
    "При анализе модели атрибуции `first_channel_profit` отчетливо видно, что канал `direct` приносит значительный `profit`, что говорит о том, что под данный канал попадают не только прямые заходы но и другие источники. Возможные причиные: \n",
    "- отсутствие использование utm-меток для ряда источников, которые не передают реферер (Whatsapp, Telegram, Viber, Skype)\n",
    "- высокое количество визитов при просмотре через встроенные браузеры Facebook или Telegram\n",
    "\n",
    "Таким образом, источник `direct` имеет высокое значение, поэтому оценивать эффективность рекламных кампаний по модели атрибуции `last non direct click` некорректно, хоть `yandex / cpc` и получает наибольшую выгоду при модели атрибуции `last_non_direct_channel_profit`."
   ]
  },
  {
   "cell_type": "markdown",
   "metadata": {},
   "source": [
    "### Мультиканальные модели атрибуции"
   ]
  },
  {
   "cell_type": "markdown",
   "metadata": {},
   "source": [
    "#### Linear\n",
    "Модель атрибуции подразумевает равномерное распределение ценности конверсии между всеми каналами, участвующими в транзакционной цепочке"
   ]
  },
  {
   "cell_type": "code",
   "execution_count": 30,
   "metadata": {
    "ExecuteTime": {
     "end_time": "2021-10-25T18:12:10.103878Z",
     "start_time": "2021-10-25T18:12:10.083806Z"
    }
   },
   "outputs": [
    {
     "data": {
      "text/html": [
       "<div>\n",
       "<style scoped>\n",
       "    .dataframe tbody tr th:only-of-type {\n",
       "        vertical-align: middle;\n",
       "    }\n",
       "\n",
       "    .dataframe tbody tr th {\n",
       "        vertical-align: top;\n",
       "    }\n",
       "\n",
       "    .dataframe thead th {\n",
       "        text-align: right;\n",
       "    }\n",
       "</style>\n",
       "<table border=\"1\" class=\"dataframe\">\n",
       "  <thead>\n",
       "    <tr style=\"text-align: right;\">\n",
       "      <th></th>\n",
       "      <th>orders_chain</th>\n",
       "      <th>chain_size</th>\n",
       "    </tr>\n",
       "  </thead>\n",
       "  <tbody>\n",
       "    <tr>\n",
       "      <th>0</th>\n",
       "      <td>10022</td>\n",
       "      <td>4</td>\n",
       "    </tr>\n",
       "    <tr>\n",
       "      <th>1</th>\n",
       "      <td>10048</td>\n",
       "      <td>4</td>\n",
       "    </tr>\n",
       "    <tr>\n",
       "      <th>2</th>\n",
       "      <td>10052</td>\n",
       "      <td>7</td>\n",
       "    </tr>\n",
       "    <tr>\n",
       "      <th>3</th>\n",
       "      <td>10053</td>\n",
       "      <td>4</td>\n",
       "    </tr>\n",
       "    <tr>\n",
       "      <th>4</th>\n",
       "      <td>10054</td>\n",
       "      <td>5</td>\n",
       "    </tr>\n",
       "  </tbody>\n",
       "</table>\n",
       "</div>"
      ],
      "text/plain": [
       "  orders_chain  chain_size\n",
       "0        10022           4\n",
       "1        10048           4\n",
       "2        10052           7\n",
       "3        10053           4\n",
       "4        10054           5"
      ]
     },
     "execution_count": 30,
     "metadata": {},
     "output_type": "execute_result"
    }
   ],
   "source": [
    "# рассчитаем количество сессий в каждой транзакционной цепочке\n",
    "\n",
    "session_count = df.groupby('orders_chain')['client_id'].count().reset_index()\n",
    "session_count = session_count.rename(columns={'client_id':'chain_size'})\n",
    "session_count.head()"
   ]
  },
  {
   "cell_type": "code",
   "execution_count": 31,
   "metadata": {
    "ExecuteTime": {
     "end_time": "2021-10-25T18:12:10.133956Z",
     "start_time": "2021-10-25T18:12:10.105966Z"
    }
   },
   "outputs": [],
   "source": [
    "df = df.merge(session_count, on='orders_chain', how='left') # объединяем с исходным датасетом"
   ]
  },
  {
   "cell_type": "code",
   "execution_count": 32,
   "metadata": {
    "ExecuteTime": {
     "end_time": "2021-10-25T18:12:10.165221Z",
     "start_time": "2021-10-25T18:12:10.136397Z"
    }
   },
   "outputs": [
    {
     "data": {
      "text/html": [
       "<div>\n",
       "<style scoped>\n",
       "    .dataframe tbody tr th:only-of-type {\n",
       "        vertical-align: middle;\n",
       "    }\n",
       "\n",
       "    .dataframe tbody tr th {\n",
       "        vertical-align: top;\n",
       "    }\n",
       "\n",
       "    .dataframe thead th {\n",
       "        text-align: right;\n",
       "    }\n",
       "</style>\n",
       "<table border=\"1\" class=\"dataframe\">\n",
       "  <thead>\n",
       "    <tr style=\"text-align: right;\">\n",
       "      <th></th>\n",
       "      <th>client_id</th>\n",
       "      <th>sessiondate</th>\n",
       "      <th>order_id</th>\n",
       "      <th>transaction</th>\n",
       "      <th>source_/_medium</th>\n",
       "      <th>campaign</th>\n",
       "      <th>profit</th>\n",
       "      <th>orders_chain</th>\n",
       "      <th>profits_chain</th>\n",
       "      <th>first_channel</th>\n",
       "      <th>last_non_direct_channel</th>\n",
       "      <th>last_channel</th>\n",
       "      <th>chain_size</th>\n",
       "      <th>linear_channel_profit</th>\n",
       "    </tr>\n",
       "  </thead>\n",
       "  <tbody>\n",
       "    <tr>\n",
       "      <th>0</th>\n",
       "      <td>00039fbdd03f38f626f9b1762e10b31a</td>\n",
       "      <td>2011-04-14</td>\n",
       "      <td>NaN</td>\n",
       "      <td>0.0</td>\n",
       "      <td>sendpulse / email</td>\n",
       "      <td>news</td>\n",
       "      <td>NaN</td>\n",
       "      <td>38117</td>\n",
       "      <td>-128.89</td>\n",
       "      <td>NaN</td>\n",
       "      <td>NaN</td>\n",
       "      <td>sendpulse / email</td>\n",
       "      <td>3</td>\n",
       "      <td>-42.963333</td>\n",
       "    </tr>\n",
       "    <tr>\n",
       "      <th>1</th>\n",
       "      <td>00039fbdd03f38f626f9b1762e10b31a</td>\n",
       "      <td>2011-04-17</td>\n",
       "      <td>NaN</td>\n",
       "      <td>0.0</td>\n",
       "      <td>direct</td>\n",
       "      <td>NaN</td>\n",
       "      <td>NaN</td>\n",
       "      <td>38117</td>\n",
       "      <td>-128.89</td>\n",
       "      <td>NaN</td>\n",
       "      <td>NaN</td>\n",
       "      <td>direct</td>\n",
       "      <td>3</td>\n",
       "      <td>-42.963333</td>\n",
       "    </tr>\n",
       "    <tr>\n",
       "      <th>2</th>\n",
       "      <td>00039fbdd03f38f626f9b1762e10b31a</td>\n",
       "      <td>2011-04-20</td>\n",
       "      <td>38117</td>\n",
       "      <td>1.0</td>\n",
       "      <td>direct</td>\n",
       "      <td>NaN</td>\n",
       "      <td>-128.89</td>\n",
       "      <td>38117</td>\n",
       "      <td>-128.89</td>\n",
       "      <td>sendpulse / email</td>\n",
       "      <td>sendpulse / email</td>\n",
       "      <td>direct</td>\n",
       "      <td>3</td>\n",
       "      <td>-42.963333</td>\n",
       "    </tr>\n",
       "    <tr>\n",
       "      <th>3</th>\n",
       "      <td>00039fbdd03f38f626f9b1762e10b31a</td>\n",
       "      <td>2011-06-05</td>\n",
       "      <td>NaN</td>\n",
       "      <td>0.0</td>\n",
       "      <td>mail / organic</td>\n",
       "      <td>NaN</td>\n",
       "      <td>NaN</td>\n",
       "      <td>43874</td>\n",
       "      <td>-161.21</td>\n",
       "      <td>NaN</td>\n",
       "      <td>NaN</td>\n",
       "      <td>mail / organic</td>\n",
       "      <td>3</td>\n",
       "      <td>-53.736667</td>\n",
       "    </tr>\n",
       "    <tr>\n",
       "      <th>4</th>\n",
       "      <td>00039fbdd03f38f626f9b1762e10b31a</td>\n",
       "      <td>2011-06-08</td>\n",
       "      <td>NaN</td>\n",
       "      <td>0.0</td>\n",
       "      <td>yandex / cpc</td>\n",
       "      <td>brand</td>\n",
       "      <td>NaN</td>\n",
       "      <td>43874</td>\n",
       "      <td>-161.21</td>\n",
       "      <td>NaN</td>\n",
       "      <td>NaN</td>\n",
       "      <td>yandex / cpc</td>\n",
       "      <td>3</td>\n",
       "      <td>-53.736667</td>\n",
       "    </tr>\n",
       "  </tbody>\n",
       "</table>\n",
       "</div>"
      ],
      "text/plain": [
       "                          client_id sessiondate order_id  transaction  \\\n",
       "0  00039fbdd03f38f626f9b1762e10b31a  2011-04-14      NaN          0.0   \n",
       "1  00039fbdd03f38f626f9b1762e10b31a  2011-04-17      NaN          0.0   \n",
       "2  00039fbdd03f38f626f9b1762e10b31a  2011-04-20    38117          1.0   \n",
       "3  00039fbdd03f38f626f9b1762e10b31a  2011-06-05      NaN          0.0   \n",
       "4  00039fbdd03f38f626f9b1762e10b31a  2011-06-08      NaN          0.0   \n",
       "\n",
       "     source_/_medium campaign  profit orders_chain  profits_chain  \\\n",
       "0  sendpulse / email     news     NaN        38117        -128.89   \n",
       "1             direct      NaN     NaN        38117        -128.89   \n",
       "2             direct      NaN -128.89        38117        -128.89   \n",
       "3     mail / organic      NaN     NaN        43874        -161.21   \n",
       "4       yandex / cpc    brand     NaN        43874        -161.21   \n",
       "\n",
       "       first_channel last_non_direct_channel       last_channel  chain_size  \\\n",
       "0                NaN                     NaN  sendpulse / email           3   \n",
       "1                NaN                     NaN             direct           3   \n",
       "2  sendpulse / email       sendpulse / email             direct           3   \n",
       "3                NaN                     NaN     mail / organic           3   \n",
       "4                NaN                     NaN       yandex / cpc           3   \n",
       "\n",
       "   linear_channel_profit  \n",
       "0             -42.963333  \n",
       "1             -42.963333  \n",
       "2             -42.963333  \n",
       "3             -53.736667  \n",
       "4             -53.736667  "
      ]
     },
     "execution_count": 32,
     "metadata": {},
     "output_type": "execute_result"
    }
   ],
   "source": [
    "# распредляем долю profit на каждый из источников в зависимости от количества сессий\n",
    "\n",
    "df['linear_channel_profit'] = df['profits_chain'] * (1 / df['chain_size'])\n",
    "\n",
    "df.head()"
   ]
  },
  {
   "cell_type": "code",
   "execution_count": 33,
   "metadata": {
    "ExecuteTime": {
     "end_time": "2021-10-25T18:12:10.176555Z",
     "start_time": "2021-10-25T18:12:10.167596Z"
    }
   },
   "outputs": [
    {
     "data": {
      "text/plain": [
       "last_channel\n",
       "direct               165623.516336\n",
       "google / cpc         171947.700627\n",
       "google / organic     246470.788675\n",
       "mail / organic       104042.210680\n",
       "sendpulse / email    127696.875177\n",
       "vkontakte / cpc      155580.219110\n",
       "yandex / cpc         137451.993722\n",
       "yandex / organic     126123.725673\n",
       "Name: linear_channel_profit, dtype: float64"
      ]
     },
     "execution_count": 33,
     "metadata": {},
     "output_type": "execute_result"
    }
   ],
   "source": [
    "linear_channel = df.groupby('last_channel')['linear_channel_profit'].sum()\n",
    "linear_channel"
   ]
  },
  {
   "cell_type": "markdown",
   "metadata": {
    "ExecuteTime": {
     "end_time": "2021-10-24T15:23:20.780589Z",
     "start_time": "2021-10-24T15:23:20.775804Z"
    }
   },
   "source": [
    "#### Time decay\n",
    "\n",
    "Данная модель атрибуции подразумевает, что самую большую долю ценности получают точки взаимодействия, наиболее близкие по порядковому номеру к совершении к конверсии. Иначе говоря, чем дальше от конверсии по порядковому номеру, тем меньше ценность."
   ]
  },
  {
   "cell_type": "code",
   "execution_count": 34,
   "metadata": {
    "ExecuteTime": {
     "end_time": "2021-10-25T18:12:10.192706Z",
     "start_time": "2021-10-25T18:12:10.179518Z"
    }
   },
   "outputs": [],
   "source": [
    "# добавляем номер визита в рамках транзакционной цепочки\n",
    "\n",
    "df['n_step'] = df.groupby('orders_chain')['client_id'].cumcount() + 1"
   ]
  },
  {
   "cell_type": "code",
   "execution_count": 35,
   "metadata": {
    "ExecuteTime": {
     "end_time": "2021-10-25T18:12:10.202234Z",
     "start_time": "2021-10-25T18:12:10.194883Z"
    }
   },
   "outputs": [
    {
     "data": {
      "text/plain": [
       "[1, 2, 3]"
      ]
     },
     "execution_count": 35,
     "metadata": {},
     "output_type": "execute_result"
    }
   ],
   "source": [
    "# создаем лист с перечислением № шага в рамках транзакционной цепочки\n",
    "\n",
    "list = []\n",
    "for x in range (df['n_step'].max()):\n",
    "    list.append(x+1)\n",
    "\n",
    "list[:3]"
   ]
  },
  {
   "cell_type": "code",
   "execution_count": 36,
   "metadata": {
    "ExecuteTime": {
     "end_time": "2021-10-25T18:12:10.891061Z",
     "start_time": "2021-10-25T18:12:10.205295Z"
    }
   },
   "outputs": [
    {
     "data": {
      "text/html": [
       "<div>\n",
       "<style scoped>\n",
       "    .dataframe tbody tr th:only-of-type {\n",
       "        vertical-align: middle;\n",
       "    }\n",
       "\n",
       "    .dataframe tbody tr th {\n",
       "        vertical-align: top;\n",
       "    }\n",
       "\n",
       "    .dataframe thead th {\n",
       "        text-align: right;\n",
       "    }\n",
       "</style>\n",
       "<table border=\"1\" class=\"dataframe\">\n",
       "  <thead>\n",
       "    <tr style=\"text-align: right;\">\n",
       "      <th></th>\n",
       "      <th>client_id</th>\n",
       "      <th>sessiondate</th>\n",
       "      <th>order_id</th>\n",
       "      <th>transaction</th>\n",
       "      <th>source_/_medium</th>\n",
       "      <th>campaign</th>\n",
       "      <th>profit</th>\n",
       "      <th>orders_chain</th>\n",
       "      <th>profits_chain</th>\n",
       "      <th>first_channel</th>\n",
       "      <th>last_non_direct_channel</th>\n",
       "      <th>last_channel</th>\n",
       "      <th>chain_size</th>\n",
       "      <th>linear_channel_profit</th>\n",
       "      <th>n_step</th>\n",
       "      <th>time_decay_profit</th>\n",
       "    </tr>\n",
       "  </thead>\n",
       "  <tbody>\n",
       "    <tr>\n",
       "      <th>0</th>\n",
       "      <td>00039fbdd03f38f626f9b1762e10b31a</td>\n",
       "      <td>2011-04-14</td>\n",
       "      <td>NaN</td>\n",
       "      <td>0.0</td>\n",
       "      <td>sendpulse / email</td>\n",
       "      <td>news</td>\n",
       "      <td>NaN</td>\n",
       "      <td>38117</td>\n",
       "      <td>-128.89</td>\n",
       "      <td>NaN</td>\n",
       "      <td>NaN</td>\n",
       "      <td>sendpulse / email</td>\n",
       "      <td>3</td>\n",
       "      <td>-42.963333</td>\n",
       "      <td>1</td>\n",
       "      <td>-21.9113</td>\n",
       "    </tr>\n",
       "    <tr>\n",
       "      <th>1</th>\n",
       "      <td>00039fbdd03f38f626f9b1762e10b31a</td>\n",
       "      <td>2011-04-17</td>\n",
       "      <td>NaN</td>\n",
       "      <td>0.0</td>\n",
       "      <td>direct</td>\n",
       "      <td>NaN</td>\n",
       "      <td>NaN</td>\n",
       "      <td>38117</td>\n",
       "      <td>-128.89</td>\n",
       "      <td>NaN</td>\n",
       "      <td>NaN</td>\n",
       "      <td>direct</td>\n",
       "      <td>3</td>\n",
       "      <td>-42.963333</td>\n",
       "      <td>2</td>\n",
       "      <td>-42.5337</td>\n",
       "    </tr>\n",
       "    <tr>\n",
       "      <th>2</th>\n",
       "      <td>00039fbdd03f38f626f9b1762e10b31a</td>\n",
       "      <td>2011-04-20</td>\n",
       "      <td>38117</td>\n",
       "      <td>1.0</td>\n",
       "      <td>direct</td>\n",
       "      <td>NaN</td>\n",
       "      <td>-128.89</td>\n",
       "      <td>38117</td>\n",
       "      <td>-128.89</td>\n",
       "      <td>sendpulse / email</td>\n",
       "      <td>sendpulse / email</td>\n",
       "      <td>direct</td>\n",
       "      <td>3</td>\n",
       "      <td>-42.963333</td>\n",
       "      <td>3</td>\n",
       "      <td>-64.4450</td>\n",
       "    </tr>\n",
       "    <tr>\n",
       "      <th>3</th>\n",
       "      <td>00039fbdd03f38f626f9b1762e10b31a</td>\n",
       "      <td>2011-06-05</td>\n",
       "      <td>NaN</td>\n",
       "      <td>0.0</td>\n",
       "      <td>mail / organic</td>\n",
       "      <td>NaN</td>\n",
       "      <td>NaN</td>\n",
       "      <td>43874</td>\n",
       "      <td>-161.21</td>\n",
       "      <td>NaN</td>\n",
       "      <td>NaN</td>\n",
       "      <td>mail / organic</td>\n",
       "      <td>3</td>\n",
       "      <td>-53.736667</td>\n",
       "      <td>1</td>\n",
       "      <td>-27.4057</td>\n",
       "    </tr>\n",
       "    <tr>\n",
       "      <th>4</th>\n",
       "      <td>00039fbdd03f38f626f9b1762e10b31a</td>\n",
       "      <td>2011-06-08</td>\n",
       "      <td>NaN</td>\n",
       "      <td>0.0</td>\n",
       "      <td>yandex / cpc</td>\n",
       "      <td>brand</td>\n",
       "      <td>NaN</td>\n",
       "      <td>43874</td>\n",
       "      <td>-161.21</td>\n",
       "      <td>NaN</td>\n",
       "      <td>NaN</td>\n",
       "      <td>yandex / cpc</td>\n",
       "      <td>3</td>\n",
       "      <td>-53.736667</td>\n",
       "      <td>2</td>\n",
       "      <td>-53.1993</td>\n",
       "    </tr>\n",
       "  </tbody>\n",
       "</table>\n",
       "</div>"
      ],
      "text/plain": [
       "                          client_id sessiondate order_id  transaction  \\\n",
       "0  00039fbdd03f38f626f9b1762e10b31a  2011-04-14      NaN          0.0   \n",
       "1  00039fbdd03f38f626f9b1762e10b31a  2011-04-17      NaN          0.0   \n",
       "2  00039fbdd03f38f626f9b1762e10b31a  2011-04-20    38117          1.0   \n",
       "3  00039fbdd03f38f626f9b1762e10b31a  2011-06-05      NaN          0.0   \n",
       "4  00039fbdd03f38f626f9b1762e10b31a  2011-06-08      NaN          0.0   \n",
       "\n",
       "     source_/_medium campaign  profit orders_chain  profits_chain  \\\n",
       "0  sendpulse / email     news     NaN        38117        -128.89   \n",
       "1             direct      NaN     NaN        38117        -128.89   \n",
       "2             direct      NaN -128.89        38117        -128.89   \n",
       "3     mail / organic      NaN     NaN        43874        -161.21   \n",
       "4       yandex / cpc    brand     NaN        43874        -161.21   \n",
       "\n",
       "       first_channel last_non_direct_channel       last_channel  chain_size  \\\n",
       "0                NaN                     NaN  sendpulse / email           3   \n",
       "1                NaN                     NaN             direct           3   \n",
       "2  sendpulse / email       sendpulse / email             direct           3   \n",
       "3                NaN                     NaN     mail / organic           3   \n",
       "4                NaN                     NaN       yandex / cpc           3   \n",
       "\n",
       "   linear_channel_profit  n_step  time_decay_profit  \n",
       "0             -42.963333       1           -21.9113  \n",
       "1             -42.963333       2           -42.5337  \n",
       "2             -42.963333       3           -64.4450  \n",
       "3             -53.736667       1           -27.4057  \n",
       "4             -53.736667       2           -53.1993  "
      ]
     },
     "execution_count": 36,
     "metadata": {},
     "output_type": "execute_result"
    }
   ],
   "source": [
    "# вычисляем % ценности для каждого источника в рамках данного вида модели атрибуции\n",
    "\n",
    "df['time_decay_profit'] = df.apply(lambda x: round(x['n_step'] / sum(list[:x['chain_size']]),2), axis=1)\n",
    "df['time_decay_profit'] = df['time_decay_profit'] * df['profits_chain']\n",
    "\n",
    "df.head()"
   ]
  },
  {
   "cell_type": "code",
   "execution_count": 37,
   "metadata": {
    "ExecuteTime": {
     "end_time": "2021-10-25T18:12:10.905775Z",
     "start_time": "2021-10-25T18:12:10.893413Z"
    }
   },
   "outputs": [
    {
     "data": {
      "text/plain": [
       "source_/_medium\n",
       "mail / organic        95747.3758\n",
       "yandex / organic     128202.9724\n",
       "sendpulse / email    137696.6115\n",
       "yandex / cpc         139920.4990\n",
       "direct               159965.1228\n",
       "vkontakte / cpc      164506.1576\n",
       "google / cpc         175362.2107\n",
       "google / organic     235390.8928\n",
       "Name: time_decay_profit, dtype: float64"
      ]
     },
     "execution_count": 37,
     "metadata": {},
     "output_type": "execute_result"
    }
   ],
   "source": [
    "time_decay_channel = df.groupby('source_/_medium')['time_decay_profit'].sum()\n",
    "time_decay_channel.sort_values()"
   ]
  },
  {
   "cell_type": "markdown",
   "metadata": {},
   "source": [
    "#### Position based\n",
    "\n",
    "В рамках модели по 40% ценности присваивается первому и последнему взаимодействиям, а оставшиеся 20% поровну распределяются между остальными."
   ]
  },
  {
   "cell_type": "code",
   "execution_count": 38,
   "metadata": {
    "ExecuteTime": {
     "end_time": "2021-10-25T18:12:10.914391Z",
     "start_time": "2021-10-25T18:12:10.908011Z"
    }
   },
   "outputs": [],
   "source": [
    "def position_based_model(size, step):\n",
    "    if ((step == 1) & (size == 1)):\n",
    "        value = 1\n",
    "    elif (step == 1) & (size == 2):\n",
    "        value = 0.5\n",
    "    elif (step == 1):\n",
    "        value = 0.4\n",
    "    elif (step == 2) & (size == 2):\n",
    "        value = 0.5\n",
    "    elif step == size:\n",
    "        value = 0.4\n",
    "    else:\n",
    "        value = round(0.2 / (size - 2), 2)\n",
    "    return value"
   ]
  },
  {
   "cell_type": "code",
   "execution_count": 39,
   "metadata": {
    "ExecuteTime": {
     "end_time": "2021-10-25T18:12:11.593083Z",
     "start_time": "2021-10-25T18:12:10.916812Z"
    }
   },
   "outputs": [],
   "source": [
    "# вычисляем % ценности для каждого источника в рамках данного вида модели атрибуции\n",
    "\n",
    "df['position_based_profit'] = df.apply(lambda x: position_based_model(x['chain_size'], x['n_step']), axis=1)\n",
    "df['position_based_profit'] = df['profits_chain'] * df['position_based_profit']"
   ]
  },
  {
   "cell_type": "code",
   "execution_count": 40,
   "metadata": {
    "ExecuteTime": {
     "end_time": "2021-10-25T18:12:11.608885Z",
     "start_time": "2021-10-25T18:12:11.595319Z"
    }
   },
   "outputs": [
    {
     "data": {
      "text/plain": [
       "source_/_medium\n",
       "mail / organic        99073.3365\n",
       "yandex / organic     114185.2817\n",
       "sendpulse / email    135313.4214\n",
       "yandex / cpc         144903.0454\n",
       "direct               162375.9105\n",
       "google / cpc         176780.2215\n",
       "vkontakte / cpc      186532.0147\n",
       "google / organic     216894.8242\n",
       "Name: position_based_profit, dtype: float64"
      ]
     },
     "execution_count": 40,
     "metadata": {},
     "output_type": "execute_result"
    }
   ],
   "source": [
    "position_based_channel = df.groupby('source_/_medium')['position_based_profit'].sum()\n",
    "position_based_channel.sort_values()"
   ]
  },
  {
   "cell_type": "markdown",
   "metadata": {},
   "source": [
    "#### Сравнение"
   ]
  },
  {
   "cell_type": "code",
   "execution_count": 41,
   "metadata": {
    "ExecuteTime": {
     "end_time": "2021-10-25T18:12:11.631504Z",
     "start_time": "2021-10-25T18:12:11.610916Z"
    }
   },
   "outputs": [
    {
     "data": {
      "text/html": [
       "<div>\n",
       "<style scoped>\n",
       "    .dataframe tbody tr th:only-of-type {\n",
       "        vertical-align: middle;\n",
       "    }\n",
       "\n",
       "    .dataframe tbody tr th {\n",
       "        vertical-align: top;\n",
       "    }\n",
       "\n",
       "    .dataframe thead th {\n",
       "        text-align: right;\n",
       "    }\n",
       "</style>\n",
       "<table border=\"1\" class=\"dataframe\">\n",
       "  <thead>\n",
       "    <tr style=\"text-align: right;\">\n",
       "      <th></th>\n",
       "      <th>first_channel_profit</th>\n",
       "      <th>last_non_direct_channel_profit</th>\n",
       "      <th>last_channel_profit</th>\n",
       "      <th>linear_channel_profit</th>\n",
       "      <th>time_decay_profit</th>\n",
       "      <th>position_based_profit</th>\n",
       "    </tr>\n",
       "    <tr>\n",
       "      <th>channel</th>\n",
       "      <th></th>\n",
       "      <th></th>\n",
       "      <th></th>\n",
       "      <th></th>\n",
       "      <th></th>\n",
       "      <th></th>\n",
       "    </tr>\n",
       "  </thead>\n",
       "  <tbody>\n",
       "    <tr>\n",
       "      <th>sendpulse / email</th>\n",
       "      <td>100769.44</td>\n",
       "      <td>194561.62</td>\n",
       "      <td>181468.53</td>\n",
       "      <td>127696.875177</td>\n",
       "      <td>137696.6115</td>\n",
       "      <td>135313.4214</td>\n",
       "    </tr>\n",
       "    <tr>\n",
       "      <th>direct</th>\n",
       "      <td>192778.96</td>\n",
       "      <td>15517.00</td>\n",
       "      <td>124350.83</td>\n",
       "      <td>165623.516336</td>\n",
       "      <td>159965.1228</td>\n",
       "      <td>162375.9105</td>\n",
       "    </tr>\n",
       "    <tr>\n",
       "      <th>mail / organic</th>\n",
       "      <td>136176.84</td>\n",
       "      <td>82919.99</td>\n",
       "      <td>59853.13</td>\n",
       "      <td>104042.210680</td>\n",
       "      <td>95747.3758</td>\n",
       "      <td>99073.3365</td>\n",
       "    </tr>\n",
       "    <tr>\n",
       "      <th>yandex / cpc</th>\n",
       "      <td>146443.34</td>\n",
       "      <td>184243.14</td>\n",
       "      <td>157703.13</td>\n",
       "      <td>137451.993722</td>\n",
       "      <td>139920.4990</td>\n",
       "      <td>144903.0454</td>\n",
       "    </tr>\n",
       "    <tr>\n",
       "      <th>google / cpc</th>\n",
       "      <td>148105.95</td>\n",
       "      <td>213268.27</td>\n",
       "      <td>207763.19</td>\n",
       "      <td>171947.700627</td>\n",
       "      <td>175362.2107</td>\n",
       "      <td>176780.2215</td>\n",
       "    </tr>\n",
       "    <tr>\n",
       "      <th>yandex / organic</th>\n",
       "      <td>94326.56</td>\n",
       "      <td>130040.23</td>\n",
       "      <td>117144.63</td>\n",
       "      <td>126123.725673</td>\n",
       "      <td>128202.9724</td>\n",
       "      <td>114185.2817</td>\n",
       "    </tr>\n",
       "    <tr>\n",
       "      <th>google / organic</th>\n",
       "      <td>243445.48</td>\n",
       "      <td>177565.08</td>\n",
       "      <td>154224.73</td>\n",
       "      <td>246470.788675</td>\n",
       "      <td>235390.8928</td>\n",
       "      <td>216894.8242</td>\n",
       "    </tr>\n",
       "    <tr>\n",
       "      <th>vkontakte / cpc</th>\n",
       "      <td>172890.46</td>\n",
       "      <td>236821.70</td>\n",
       "      <td>232428.86</td>\n",
       "      <td>155580.219110</td>\n",
       "      <td>164506.1576</td>\n",
       "      <td>186532.0147</td>\n",
       "    </tr>\n",
       "  </tbody>\n",
       "</table>\n",
       "</div>"
      ],
      "text/plain": [
       "                   first_channel_profit  last_non_direct_channel_profit  \\\n",
       "channel                                                                   \n",
       "sendpulse / email             100769.44                       194561.62   \n",
       "direct                        192778.96                        15517.00   \n",
       "mail / organic                136176.84                        82919.99   \n",
       "yandex / cpc                  146443.34                       184243.14   \n",
       "google / cpc                  148105.95                       213268.27   \n",
       "yandex / organic               94326.56                       130040.23   \n",
       "google / organic              243445.48                       177565.08   \n",
       "vkontakte / cpc               172890.46                       236821.70   \n",
       "\n",
       "                   last_channel_profit  linear_channel_profit  \\\n",
       "channel                                                         \n",
       "sendpulse / email            181468.53          127696.875177   \n",
       "direct                       124350.83          165623.516336   \n",
       "mail / organic                59853.13          104042.210680   \n",
       "yandex / cpc                 157703.13          137451.993722   \n",
       "google / cpc                 207763.19          171947.700627   \n",
       "yandex / organic             117144.63          126123.725673   \n",
       "google / organic             154224.73          246470.788675   \n",
       "vkontakte / cpc              232428.86          155580.219110   \n",
       "\n",
       "                   time_decay_profit  position_based_profit  \n",
       "channel                                                      \n",
       "sendpulse / email        137696.6115            135313.4214  \n",
       "direct                   159965.1228            162375.9105  \n",
       "mail / organic            95747.3758             99073.3365  \n",
       "yandex / cpc             139920.4990            144903.0454  \n",
       "google / cpc             175362.2107            176780.2215  \n",
       "yandex / organic         128202.9724            114185.2817  \n",
       "google / organic         235390.8928            216894.8242  \n",
       "vkontakte / cpc          164506.1576            186532.0147  "
      ]
     },
     "execution_count": 41,
     "metadata": {},
     "output_type": "execute_result"
    }
   ],
   "source": [
    "channel_profit = channel_profit.join(linear_channel).join(time_decay_channel).join(position_based_channel)\n",
    "channel_profit"
   ]
  },
  {
   "cell_type": "code",
   "execution_count": 42,
   "metadata": {
    "ExecuteTime": {
     "end_time": "2021-10-25T18:12:11.965810Z",
     "start_time": "2021-10-25T18:12:11.633648Z"
    }
   },
   "outputs": [
    {
     "data": {
      "image/png": "[encoded data removed]",
      "text/plain": [
       "<Figure size 864x288 with 1 Axes>"
      ]
     },
     "metadata": {},
     "output_type": "display_data"
    }
   ],
   "source": [
    "channel_profit[channel_profit.columns[:3]].plot(kind='barh', title='Сравнение моно-канальных моделей атрибуций \\n');"
   ]
  },
  {
   "cell_type": "code",
   "execution_count": 43,
   "metadata": {
    "ExecuteTime": {
     "end_time": "2021-10-25T18:12:12.277603Z",
     "start_time": "2021-10-25T18:12:11.968119Z"
    }
   },
   "outputs": [
    {
     "data": {
      "image/png": "[encoded data removed]",
      "text/plain": [
       "<Figure size 864x288 with 1 Axes>"
      ]
     },
     "metadata": {},
     "output_type": "display_data"
    }
   ],
   "source": [
    "channel_profit[channel_profit.columns[-3:]].plot(kind='barh', title='Сравнение мультиканальных моделей атрибуций \\n');"
   ]
  },
  {
   "cell_type": "code",
   "execution_count": 44,
   "metadata": {
    "ExecuteTime": {
     "end_time": "2021-10-25T18:12:12.322413Z",
     "start_time": "2021-10-25T18:12:12.279897Z"
    }
   },
   "outputs": [
    {
     "data": {
      "text/html": [
       "<style  type=\"text/css\" >\n",
       "#T_13755940_35bf_11ec_a8a0_6cb3112342b8row0_col0,#T_13755940_35bf_11ec_a8a0_6cb3112342b8row0_col4,#T_13755940_35bf_11ec_a8a0_6cb3112342b8row0_col5,#T_13755940_35bf_11ec_a8a0_6cb3112342b8row1_col1,#T_13755940_35bf_11ec_a8a0_6cb3112342b8row2_col2,#T_13755940_35bf_11ec_a8a0_6cb3112342b8row2_col6,#T_13755940_35bf_11ec_a8a0_6cb3112342b8row3_col3,#T_13755940_35bf_11ec_a8a0_6cb3112342b8row3_col7{\n",
       "            background-color:  #f7fbff;\n",
       "            color:  #000000;\n",
       "        }#T_13755940_35bf_11ec_a8a0_6cb3112342b8row0_col1,#T_13755940_35bf_11ec_a8a0_6cb3112342b8row0_col2,#T_13755940_35bf_11ec_a8a0_6cb3112342b8row1_col0,#T_13755940_35bf_11ec_a8a0_6cb3112342b8row1_col3,#T_13755940_35bf_11ec_a8a0_6cb3112342b8row1_col4,#T_13755940_35bf_11ec_a8a0_6cb3112342b8row1_col5,#T_13755940_35bf_11ec_a8a0_6cb3112342b8row1_col7,#T_13755940_35bf_11ec_a8a0_6cb3112342b8row3_col6{\n",
       "            background-color:  #08306b;\n",
       "            color:  #f1f1f1;\n",
       "        }#T_13755940_35bf_11ec_a8a0_6cb3112342b8row0_col3{\n",
       "            background-color:  #d1e2f3;\n",
       "            color:  #000000;\n",
       "        }#T_13755940_35bf_11ec_a8a0_6cb3112342b8row0_col6{\n",
       "            background-color:  #083877;\n",
       "            color:  #f1f1f1;\n",
       "        }#T_13755940_35bf_11ec_a8a0_6cb3112342b8row0_col7{\n",
       "            background-color:  #cde0f1;\n",
       "            color:  #000000;\n",
       "        }#T_13755940_35bf_11ec_a8a0_6cb3112342b8row1_col2{\n",
       "            background-color:  #b5d4e9;\n",
       "            color:  #000000;\n",
       "        }#T_13755940_35bf_11ec_a8a0_6cb3112342b8row1_col6{\n",
       "            background-color:  #c6dbef;\n",
       "            color:  #000000;\n",
       "        }#T_13755940_35bf_11ec_a8a0_6cb3112342b8row2_col0{\n",
       "            background-color:  #0a549e;\n",
       "            color:  #f1f1f1;\n",
       "        }#T_13755940_35bf_11ec_a8a0_6cb3112342b8row2_col1{\n",
       "            background-color:  #4594c7;\n",
       "            color:  #000000;\n",
       "        }#T_13755940_35bf_11ec_a8a0_6cb3112342b8row2_col3{\n",
       "            background-color:  #87bddc;\n",
       "            color:  #000000;\n",
       "        }#T_13755940_35bf_11ec_a8a0_6cb3112342b8row2_col4{\n",
       "            background-color:  #08468b;\n",
       "            color:  #f1f1f1;\n",
       "        }#T_13755940_35bf_11ec_a8a0_6cb3112342b8row2_col5{\n",
       "            background-color:  #3e8ec4;\n",
       "            color:  #000000;\n",
       "        }#T_13755940_35bf_11ec_a8a0_6cb3112342b8row2_col7,#T_13755940_35bf_11ec_a8a0_6cb3112342b8row4_col5{\n",
       "            background-color:  #083d7f;\n",
       "            color:  #f1f1f1;\n",
       "        }#T_13755940_35bf_11ec_a8a0_6cb3112342b8row3_col0{\n",
       "            background-color:  #bad6eb;\n",
       "            color:  #000000;\n",
       "        }#T_13755940_35bf_11ec_a8a0_6cb3112342b8row3_col1{\n",
       "            background-color:  #0e58a2;\n",
       "            color:  #f1f1f1;\n",
       "        }#T_13755940_35bf_11ec_a8a0_6cb3112342b8row3_col2{\n",
       "            background-color:  #519ccc;\n",
       "            color:  #000000;\n",
       "        }#T_13755940_35bf_11ec_a8a0_6cb3112342b8row3_col4{\n",
       "            background-color:  #a1cbe2;\n",
       "            color:  #000000;\n",
       "        }#T_13755940_35bf_11ec_a8a0_6cb3112342b8row3_col5{\n",
       "            background-color:  #084d96;\n",
       "            color:  #f1f1f1;\n",
       "        }#T_13755940_35bf_11ec_a8a0_6cb3112342b8row4_col0{\n",
       "            background-color:  #97c6df;\n",
       "            color:  #000000;\n",
       "        }#T_13755940_35bf_11ec_a8a0_6cb3112342b8row4_col1{\n",
       "            background-color:  #1460a8;\n",
       "            color:  #f1f1f1;\n",
       "        }#T_13755940_35bf_11ec_a8a0_6cb3112342b8row4_col2{\n",
       "            background-color:  #77b5d9;\n",
       "            color:  #000000;\n",
       "        }#T_13755940_35bf_11ec_a8a0_6cb3112342b8row4_col3{\n",
       "            background-color:  #edf4fc;\n",
       "            color:  #000000;\n",
       "        }#T_13755940_35bf_11ec_a8a0_6cb3112342b8row4_col4{\n",
       "            background-color:  #8cc0dd;\n",
       "            color:  #000000;\n",
       "        }#T_13755940_35bf_11ec_a8a0_6cb3112342b8row4_col6{\n",
       "            background-color:  #084f99;\n",
       "            color:  #f1f1f1;\n",
       "        }#T_13755940_35bf_11ec_a8a0_6cb3112342b8row4_col7{\n",
       "            background-color:  #e1edf8;\n",
       "            color:  #000000;\n",
       "        }#T_13755940_35bf_11ec_a8a0_6cb3112342b8row5_col0{\n",
       "            background-color:  #a0cbe2;\n",
       "            color:  #000000;\n",
       "        }#T_13755940_35bf_11ec_a8a0_6cb3112342b8row5_col1{\n",
       "            background-color:  #115ca5;\n",
       "            color:  #f1f1f1;\n",
       "        }#T_13755940_35bf_11ec_a8a0_6cb3112342b8row5_col2{\n",
       "            background-color:  #66abd4;\n",
       "            color:  #000000;\n",
       "        }#T_13755940_35bf_11ec_a8a0_6cb3112342b8row5_col3{\n",
       "            background-color:  #d8e7f5;\n",
       "            color:  #000000;\n",
       "        }#T_13755940_35bf_11ec_a8a0_6cb3112342b8row5_col4{\n",
       "            background-color:  #84bcdb;\n",
       "            color:  #000000;\n",
       "        }#T_13755940_35bf_11ec_a8a0_6cb3112342b8row5_col5{\n",
       "            background-color:  #58a1cf;\n",
       "            color:  #000000;\n",
       "        }#T_13755940_35bf_11ec_a8a0_6cb3112342b8row5_col6{\n",
       "            background-color:  #3484bf;\n",
       "            color:  #000000;\n",
       "        }#T_13755940_35bf_11ec_a8a0_6cb3112342b8row5_col7{\n",
       "            background-color:  #9cc9e1;\n",
       "            color:  #000000;\n",
       "        }</style><table id=\"T_13755940_35bf_11ec_a8a0_6cb3112342b8\" ><thead>    <tr>        <th class=\"index_name level0\" >channel</th>        <th class=\"col_heading level0 col0\" >sendpulse / email</th>        <th class=\"col_heading level0 col1\" >direct</th>        <th class=\"col_heading level0 col2\" >mail / organic</th>        <th class=\"col_heading level0 col3\" >yandex / cpc</th>        <th class=\"col_heading level0 col4\" >google / cpc</th>        <th class=\"col_heading level0 col5\" >yandex / organic</th>        <th class=\"col_heading level0 col6\" >google / organic</th>        <th class=\"col_heading level0 col7\" >vkontakte / cpc</th>    </tr></thead><tbody>\n",
       "                <tr>\n",
       "                        <th id=\"T_13755940_35bf_11ec_a8a0_6cb3112342b8level0_row0\" class=\"row_heading level0 row0\" >first_channel_profit</th>\n",
       "                        <td id=\"T_13755940_35bf_11ec_a8a0_6cb3112342b8row0_col0\" class=\"data row0 col0\" >100769</td>\n",
       "                        <td id=\"T_13755940_35bf_11ec_a8a0_6cb3112342b8row0_col1\" class=\"data row0 col1\" >192779</td>\n",
       "                        <td id=\"T_13755940_35bf_11ec_a8a0_6cb3112342b8row0_col2\" class=\"data row0 col2\" >136177</td>\n",
       "                        <td id=\"T_13755940_35bf_11ec_a8a0_6cb3112342b8row0_col3\" class=\"data row0 col3\" >146443</td>\n",
       "                        <td id=\"T_13755940_35bf_11ec_a8a0_6cb3112342b8row0_col4\" class=\"data row0 col4\" >148106</td>\n",
       "                        <td id=\"T_13755940_35bf_11ec_a8a0_6cb3112342b8row0_col5\" class=\"data row0 col5\" >94327</td>\n",
       "                        <td id=\"T_13755940_35bf_11ec_a8a0_6cb3112342b8row0_col6\" class=\"data row0 col6\" >243445</td>\n",
       "                        <td id=\"T_13755940_35bf_11ec_a8a0_6cb3112342b8row0_col7\" class=\"data row0 col7\" >172890</td>\n",
       "            </tr>\n",
       "            <tr>\n",
       "                        <th id=\"T_13755940_35bf_11ec_a8a0_6cb3112342b8level0_row1\" class=\"row_heading level0 row1\" >last_non_direct_channel_profit</th>\n",
       "                        <td id=\"T_13755940_35bf_11ec_a8a0_6cb3112342b8row1_col0\" class=\"data row1 col0\" >194562</td>\n",
       "                        <td id=\"T_13755940_35bf_11ec_a8a0_6cb3112342b8row1_col1\" class=\"data row1 col1\" >15517</td>\n",
       "                        <td id=\"T_13755940_35bf_11ec_a8a0_6cb3112342b8row1_col2\" class=\"data row1 col2\" >82920</td>\n",
       "                        <td id=\"T_13755940_35bf_11ec_a8a0_6cb3112342b8row1_col3\" class=\"data row1 col3\" >184243</td>\n",
       "                        <td id=\"T_13755940_35bf_11ec_a8a0_6cb3112342b8row1_col4\" class=\"data row1 col4\" >213268</td>\n",
       "                        <td id=\"T_13755940_35bf_11ec_a8a0_6cb3112342b8row1_col5\" class=\"data row1 col5\" >130040</td>\n",
       "                        <td id=\"T_13755940_35bf_11ec_a8a0_6cb3112342b8row1_col6\" class=\"data row1 col6\" >177565</td>\n",
       "                        <td id=\"T_13755940_35bf_11ec_a8a0_6cb3112342b8row1_col7\" class=\"data row1 col7\" >236822</td>\n",
       "            </tr>\n",
       "            <tr>\n",
       "                        <th id=\"T_13755940_35bf_11ec_a8a0_6cb3112342b8level0_row2\" class=\"row_heading level0 row2\" >last_channel_profit</th>\n",
       "                        <td id=\"T_13755940_35bf_11ec_a8a0_6cb3112342b8row2_col0\" class=\"data row2 col0\" >181469</td>\n",
       "                        <td id=\"T_13755940_35bf_11ec_a8a0_6cb3112342b8row2_col1\" class=\"data row2 col1\" >124351</td>\n",
       "                        <td id=\"T_13755940_35bf_11ec_a8a0_6cb3112342b8row2_col2\" class=\"data row2 col2\" >59853</td>\n",
       "                        <td id=\"T_13755940_35bf_11ec_a8a0_6cb3112342b8row2_col3\" class=\"data row2 col3\" >157703</td>\n",
       "                        <td id=\"T_13755940_35bf_11ec_a8a0_6cb3112342b8row2_col4\" class=\"data row2 col4\" >207763</td>\n",
       "                        <td id=\"T_13755940_35bf_11ec_a8a0_6cb3112342b8row2_col5\" class=\"data row2 col5\" >117145</td>\n",
       "                        <td id=\"T_13755940_35bf_11ec_a8a0_6cb3112342b8row2_col6\" class=\"data row2 col6\" >154225</td>\n",
       "                        <td id=\"T_13755940_35bf_11ec_a8a0_6cb3112342b8row2_col7\" class=\"data row2 col7\" >232429</td>\n",
       "            </tr>\n",
       "            <tr>\n",
       "                        <th id=\"T_13755940_35bf_11ec_a8a0_6cb3112342b8level0_row3\" class=\"row_heading level0 row3\" >linear_channel_profit</th>\n",
       "                        <td id=\"T_13755940_35bf_11ec_a8a0_6cb3112342b8row3_col0\" class=\"data row3 col0\" >127697</td>\n",
       "                        <td id=\"T_13755940_35bf_11ec_a8a0_6cb3112342b8row3_col1\" class=\"data row3 col1\" >165624</td>\n",
       "                        <td id=\"T_13755940_35bf_11ec_a8a0_6cb3112342b8row3_col2\" class=\"data row3 col2\" >104042</td>\n",
       "                        <td id=\"T_13755940_35bf_11ec_a8a0_6cb3112342b8row3_col3\" class=\"data row3 col3\" >137452</td>\n",
       "                        <td id=\"T_13755940_35bf_11ec_a8a0_6cb3112342b8row3_col4\" class=\"data row3 col4\" >171948</td>\n",
       "                        <td id=\"T_13755940_35bf_11ec_a8a0_6cb3112342b8row3_col5\" class=\"data row3 col5\" >126124</td>\n",
       "                        <td id=\"T_13755940_35bf_11ec_a8a0_6cb3112342b8row3_col6\" class=\"data row3 col6\" >246471</td>\n",
       "                        <td id=\"T_13755940_35bf_11ec_a8a0_6cb3112342b8row3_col7\" class=\"data row3 col7\" >155580</td>\n",
       "            </tr>\n",
       "            <tr>\n",
       "                        <th id=\"T_13755940_35bf_11ec_a8a0_6cb3112342b8level0_row4\" class=\"row_heading level0 row4\" >time_decay_profit</th>\n",
       "                        <td id=\"T_13755940_35bf_11ec_a8a0_6cb3112342b8row4_col0\" class=\"data row4 col0\" >137697</td>\n",
       "                        <td id=\"T_13755940_35bf_11ec_a8a0_6cb3112342b8row4_col1\" class=\"data row4 col1\" >159965</td>\n",
       "                        <td id=\"T_13755940_35bf_11ec_a8a0_6cb3112342b8row4_col2\" class=\"data row4 col2\" >95747</td>\n",
       "                        <td id=\"T_13755940_35bf_11ec_a8a0_6cb3112342b8row4_col3\" class=\"data row4 col3\" >139920</td>\n",
       "                        <td id=\"T_13755940_35bf_11ec_a8a0_6cb3112342b8row4_col4\" class=\"data row4 col4\" >175362</td>\n",
       "                        <td id=\"T_13755940_35bf_11ec_a8a0_6cb3112342b8row4_col5\" class=\"data row4 col5\" >128203</td>\n",
       "                        <td id=\"T_13755940_35bf_11ec_a8a0_6cb3112342b8row4_col6\" class=\"data row4 col6\" >235391</td>\n",
       "                        <td id=\"T_13755940_35bf_11ec_a8a0_6cb3112342b8row4_col7\" class=\"data row4 col7\" >164506</td>\n",
       "            </tr>\n",
       "            <tr>\n",
       "                        <th id=\"T_13755940_35bf_11ec_a8a0_6cb3112342b8level0_row5\" class=\"row_heading level0 row5\" >position_based_profit</th>\n",
       "                        <td id=\"T_13755940_35bf_11ec_a8a0_6cb3112342b8row5_col0\" class=\"data row5 col0\" >135313</td>\n",
       "                        <td id=\"T_13755940_35bf_11ec_a8a0_6cb3112342b8row5_col1\" class=\"data row5 col1\" >162376</td>\n",
       "                        <td id=\"T_13755940_35bf_11ec_a8a0_6cb3112342b8row5_col2\" class=\"data row5 col2\" >99073</td>\n",
       "                        <td id=\"T_13755940_35bf_11ec_a8a0_6cb3112342b8row5_col3\" class=\"data row5 col3\" >144903</td>\n",
       "                        <td id=\"T_13755940_35bf_11ec_a8a0_6cb3112342b8row5_col4\" class=\"data row5 col4\" >176780</td>\n",
       "                        <td id=\"T_13755940_35bf_11ec_a8a0_6cb3112342b8row5_col5\" class=\"data row5 col5\" >114185</td>\n",
       "                        <td id=\"T_13755940_35bf_11ec_a8a0_6cb3112342b8row5_col6\" class=\"data row5 col6\" >216895</td>\n",
       "                        <td id=\"T_13755940_35bf_11ec_a8a0_6cb3112342b8row5_col7\" class=\"data row5 col7\" >186532</td>\n",
       "            </tr>\n",
       "    </tbody></table>"
      ],
      "text/plain": [
       "<pandas.io.formats.style.Styler at 0x7f6e35481080>"
      ]
     },
     "execution_count": 44,
     "metadata": {},
     "output_type": "execute_result"
    }
   ],
   "source": [
    "(channel_profit\n",
    " .T\n",
    " .style\n",
    " .format(\"{:.0f}\")\n",
    " .background_gradient(cmap='Blues')\n",
    ")"
   ]
  },
  {
   "cell_type": "markdown",
   "metadata": {
    "ExecuteTime": {
     "end_time": "2021-10-17T10:40:26.175915Z",
     "start_time": "2021-10-17T10:40:26.165409Z"
    }
   },
   "source": [
    "### Итог\n",
    "\n",
    "Мы сравнили эффективность каналов в разрезе нескольких наиболее популярных моделей атрибуции.\n",
    "В рамках анализа можно говорить о: \n",
    "\n",
    "- Переоценность `vkontakte / cpc` и `google / cpc` при использовании модели атрибуции `last_channel_profit`.\n",
    "- Недооценность `google / organic`, поскольку данный источник вносит значительный вклад в конверсии, как в роли открывающего канала, так и в роли участвующего в конверсионному пути.\n",
    "- `direct` по прежнему показывает высокую эффективность. Гипотеза о некорректности данного источника подтверждена.\n",
    "- `sendpulse / email` входит в ТОП-3 закрывающих каналов, что говорит об эффективности проводимых рассылок"
   ]
  },
  {
   "cell_type": "markdown",
   "metadata": {},
   "source": [
    "## Постройте график по дням по цене клика для каждой из систем"
   ]
  },
  {
   "cell_type": "code",
   "execution_count": 45,
   "metadata": {
    "ExecuteTime": {
     "end_time": "2021-10-25T18:12:12.355049Z",
     "start_time": "2021-10-25T18:12:12.327310Z"
    }
   },
   "outputs": [
    {
     "data": {
      "text/html": [
       "<div>\n",
       "<style scoped>\n",
       "    .dataframe tbody tr th:only-of-type {\n",
       "        vertical-align: middle;\n",
       "    }\n",
       "\n",
       "    .dataframe tbody tr th {\n",
       "        vertical-align: top;\n",
       "    }\n",
       "\n",
       "    .dataframe thead th {\n",
       "        text-align: right;\n",
       "    }\n",
       "</style>\n",
       "<table border=\"1\" class=\"dataframe\">\n",
       "  <thead>\n",
       "    <tr style=\"text-align: right;\">\n",
       "      <th></th>\n",
       "      <th>sessiondate</th>\n",
       "      <th>source_/_medium</th>\n",
       "      <th>campaign</th>\n",
       "      <th>clicks</th>\n",
       "    </tr>\n",
       "  </thead>\n",
       "  <tbody>\n",
       "    <tr>\n",
       "      <th>0</th>\n",
       "      <td>2011-01-01</td>\n",
       "      <td>google / cpc</td>\n",
       "      <td>brand</td>\n",
       "      <td>2</td>\n",
       "    </tr>\n",
       "    <tr>\n",
       "      <th>1</th>\n",
       "      <td>2011-01-01</td>\n",
       "      <td>sendpulse / email</td>\n",
       "      <td>promo</td>\n",
       "      <td>2</td>\n",
       "    </tr>\n",
       "    <tr>\n",
       "      <th>2</th>\n",
       "      <td>2011-01-01</td>\n",
       "      <td>vkontakte / cpc</td>\n",
       "      <td>brand</td>\n",
       "      <td>3</td>\n",
       "    </tr>\n",
       "    <tr>\n",
       "      <th>3</th>\n",
       "      <td>2011-01-01</td>\n",
       "      <td>vkontakte / cpc</td>\n",
       "      <td>not_brand</td>\n",
       "      <td>4</td>\n",
       "    </tr>\n",
       "    <tr>\n",
       "      <th>4</th>\n",
       "      <td>2011-01-01</td>\n",
       "      <td>yandex / cpc</td>\n",
       "      <td>brand</td>\n",
       "      <td>3</td>\n",
       "    </tr>\n",
       "  </tbody>\n",
       "</table>\n",
       "</div>"
      ],
      "text/plain": [
       "  sessiondate    source_/_medium   campaign  clicks\n",
       "0  2011-01-01       google / cpc      brand       2\n",
       "1  2011-01-01  sendpulse / email      promo       2\n",
       "2  2011-01-01    vkontakte / cpc      brand       3\n",
       "3  2011-01-01    vkontakte / cpc  not_brand       4\n",
       "4  2011-01-01       yandex / cpc      brand       3"
      ]
     },
     "execution_count": 45,
     "metadata": {},
     "output_type": "execute_result"
    }
   ],
   "source": [
    "# поскольку в costs отсутствует информация о кликах, то назначим клики, как подсчет количества client_id для каждого типа кампании\n",
    "\n",
    "clicks = sessions.groupby(['sessiondate','source_/_medium','campaign'])['client_id'].count().reset_index()\n",
    "clicks = clicks.rename(columns={'client_id':'clicks'})\n",
    "clicks.head()"
   ]
  },
  {
   "cell_type": "code",
   "execution_count": 46,
   "metadata": {
    "ExecuteTime": {
     "end_time": "2021-10-25T18:12:12.378200Z",
     "start_time": "2021-10-25T18:12:12.357231Z"
    }
   },
   "outputs": [
    {
     "data": {
      "text/html": [
       "<div>\n",
       "<style scoped>\n",
       "    .dataframe tbody tr th:only-of-type {\n",
       "        vertical-align: middle;\n",
       "    }\n",
       "\n",
       "    .dataframe tbody tr th {\n",
       "        vertical-align: top;\n",
       "    }\n",
       "\n",
       "    .dataframe thead th {\n",
       "        text-align: right;\n",
       "    }\n",
       "</style>\n",
       "<table border=\"1\" class=\"dataframe\">\n",
       "  <thead>\n",
       "    <tr style=\"text-align: right;\">\n",
       "      <th></th>\n",
       "      <th>sessiondate</th>\n",
       "      <th>source_/_medium</th>\n",
       "      <th>campaign</th>\n",
       "      <th>clicks</th>\n",
       "    </tr>\n",
       "  </thead>\n",
       "  <tbody>\n",
       "    <tr>\n",
       "      <th>0</th>\n",
       "      <td>2011-01-01</td>\n",
       "      <td>google_/_cpc</td>\n",
       "      <td>brand</td>\n",
       "      <td>2</td>\n",
       "    </tr>\n",
       "    <tr>\n",
       "      <th>1</th>\n",
       "      <td>2011-01-01</td>\n",
       "      <td>sendpulse_/_email</td>\n",
       "      <td>promo</td>\n",
       "      <td>2</td>\n",
       "    </tr>\n",
       "    <tr>\n",
       "      <th>2</th>\n",
       "      <td>2011-01-01</td>\n",
       "      <td>vkontakte_/_cpc</td>\n",
       "      <td>brand</td>\n",
       "      <td>3</td>\n",
       "    </tr>\n",
       "    <tr>\n",
       "      <th>3</th>\n",
       "      <td>2011-01-01</td>\n",
       "      <td>vkontakte_/_cpc</td>\n",
       "      <td>not_brand</td>\n",
       "      <td>4</td>\n",
       "    </tr>\n",
       "    <tr>\n",
       "      <th>4</th>\n",
       "      <td>2011-01-01</td>\n",
       "      <td>yandex_/_cpc</td>\n",
       "      <td>brand</td>\n",
       "      <td>3</td>\n",
       "    </tr>\n",
       "  </tbody>\n",
       "</table>\n",
       "</div>"
      ],
      "text/plain": [
       "  sessiondate    source_/_medium   campaign  clicks\n",
       "0  2011-01-01       google_/_cpc      brand       2\n",
       "1  2011-01-01  sendpulse_/_email      promo       2\n",
       "2  2011-01-01    vkontakte_/_cpc      brand       3\n",
       "3  2011-01-01    vkontakte_/_cpc  not_brand       4\n",
       "4  2011-01-01       yandex_/_cpc      brand       3"
      ]
     },
     "execution_count": 46,
     "metadata": {},
     "output_type": "execute_result"
    }
   ],
   "source": [
    "clicks['source_/_medium'] = clicks['source_/_medium'].str.replace(r' ','_')\n",
    "clicks.head()"
   ]
  },
  {
   "cell_type": "code",
   "execution_count": 47,
   "metadata": {
    "ExecuteTime": {
     "end_time": "2021-10-25T18:12:12.403308Z",
     "start_time": "2021-10-25T18:12:12.380981Z"
    }
   },
   "outputs": [
    {
     "data": {
      "text/html": [
       "<div>\n",
       "<style scoped>\n",
       "    .dataframe tbody tr th:only-of-type {\n",
       "        vertical-align: middle;\n",
       "    }\n",
       "\n",
       "    .dataframe tbody tr th {\n",
       "        vertical-align: top;\n",
       "    }\n",
       "\n",
       "    .dataframe thead th {\n",
       "        text-align: right;\n",
       "    }\n",
       "</style>\n",
       "<table border=\"1\" class=\"dataframe\">\n",
       "  <thead>\n",
       "    <tr style=\"text-align: right;\">\n",
       "      <th></th>\n",
       "      <th>sessiondate</th>\n",
       "      <th>campaign</th>\n",
       "      <th>source_/_medium</th>\n",
       "      <th>costs</th>\n",
       "    </tr>\n",
       "  </thead>\n",
       "  <tbody>\n",
       "    <tr>\n",
       "      <th>0</th>\n",
       "      <td>2011-08-14</td>\n",
       "      <td>brand</td>\n",
       "      <td>google_/_cpc</td>\n",
       "      <td>90.502456</td>\n",
       "    </tr>\n",
       "    <tr>\n",
       "      <th>1</th>\n",
       "      <td>2011-02-25</td>\n",
       "      <td>not_brand</td>\n",
       "      <td>google_/_cpc</td>\n",
       "      <td>135.212379</td>\n",
       "    </tr>\n",
       "    <tr>\n",
       "      <th>2</th>\n",
       "      <td>2011-10-28</td>\n",
       "      <td>brand</td>\n",
       "      <td>google_/_cpc</td>\n",
       "      <td>882.106940</td>\n",
       "    </tr>\n",
       "    <tr>\n",
       "      <th>3</th>\n",
       "      <td>2011-03-12</td>\n",
       "      <td>not_brand</td>\n",
       "      <td>google_/_cpc</td>\n",
       "      <td>569.433076</td>\n",
       "    </tr>\n",
       "    <tr>\n",
       "      <th>4</th>\n",
       "      <td>2011-04-18</td>\n",
       "      <td>brand</td>\n",
       "      <td>google_/_cpc</td>\n",
       "      <td>239.069371</td>\n",
       "    </tr>\n",
       "  </tbody>\n",
       "</table>\n",
       "</div>"
      ],
      "text/plain": [
       "  sessiondate   campaign source_/_medium       costs\n",
       "0  2011-08-14      brand    google_/_cpc   90.502456\n",
       "1  2011-02-25  not_brand    google_/_cpc  135.212379\n",
       "2  2011-10-28      brand    google_/_cpc  882.106940\n",
       "3  2011-03-12  not_brand    google_/_cpc  569.433076\n",
       "4  2011-04-18      brand    google_/_cpc  239.069371"
      ]
     },
     "execution_count": 47,
     "metadata": {},
     "output_type": "execute_result"
    }
   ],
   "source": [
    "costs = costs.melt(id_vars=['date','campaign']) # превратим cross table в flat table\n",
    "costs.columns=['sessiondate','campaign','source_/_medium','costs']\n",
    "costs.head()"
   ]
  },
  {
   "cell_type": "code",
   "execution_count": 48,
   "metadata": {
    "ExecuteTime": {
     "end_time": "2021-10-25T18:12:12.422334Z",
     "start_time": "2021-10-25T18:12:12.405663Z"
    }
   },
   "outputs": [],
   "source": [
    "costs = costs.merge(clicks, on=['sessiondate','campaign','source_/_medium']) # объединим информацию о кликах с расходом\n",
    "costs['cpc'] = costs['costs'] / costs['clicks']"
   ]
  },
  {
   "cell_type": "code",
   "execution_count": 49,
   "metadata": {
    "ExecuteTime": {
     "end_time": "2021-10-25T18:12:13.862229Z",
     "start_time": "2021-10-25T18:12:12.424750Z"
    }
   },
   "outputs": [
    {
     "name": "stdout",
     "output_type": "stream",
     "text": [
      "---\n",
      "Описание google_/_cpc\n",
      "\n",
      "campaign       brand   not_brand\n",
      "count     354.000000  347.000000\n",
      "mean      137.813325  143.379129\n",
      "std       195.790856  209.615845\n",
      "min         0.189142    0.509599\n",
      "25%        30.584019   30.375576\n",
      "50%        54.696176   53.510961\n",
      "75%       138.236199  134.990523\n",
      "max       898.099042  921.064926\n",
      "---\n",
      "AxesSubplot(0.08,0.07;0.87x0.81)\n",
      "---\n",
      "Описание yandex_/_cpc\n",
      "\n",
      "campaign       brand   not_brand\n",
      "count     353.000000  352.000000\n",
      "mean      198.541342  192.341669\n",
      "std       235.236269  235.393222\n",
      "min        12.522648   18.053135\n",
      "25%        59.020570   59.490933\n",
      "50%        86.600000   83.225169\n",
      "75%       244.161246  214.397428\n",
      "max       983.639837  997.678537\n",
      "---\n",
      "AxesSubplot(0.08,0.07;0.87x0.81)\n",
      "---\n",
      "Описание vkontakte_/_cpc\n",
      "\n",
      "campaign       brand   not_brand\n",
      "count     344.000000  344.000000\n",
      "mean      167.870309  165.555657\n",
      "std       195.825152  202.213366\n",
      "min        15.285714   14.935142\n",
      "25%        57.420817   59.078075\n",
      "50%        83.430361   80.958409\n",
      "75%       190.940212  170.819221\n",
      "max       991.528339  991.131532\n",
      "---\n",
      "AxesSubplot(0.08,0.2;0.87x0.68)\n"
     ]
    },
    {
     "data": {
      "image/png": "[encoded data removed]",
      "text/plain": [
       "<Figure size 864x288 with 1 Axes>"
      ]
     },
     "metadata": {},
     "output_type": "display_data"
    },
    {
     "data": {
      "image/png": "[encoded data removed]",
      "text/plain": [
       "<Figure size 864x288 with 1 Axes>"
      ]
     },
     "metadata": {},
     "output_type": "display_data"
    },
    {
     "data": {
      "image/png": "[encoded data removed]",
      "text/plain": [
       "<Figure size 864x288 with 1 Axes>"
      ]
     },
     "metadata": {},
     "output_type": "display_data"
    }
   ],
   "source": [
    "# построим для каждой системы график и описание\n",
    "for x in ['google_/_cpc','yandex_/_cpc','vkontakte_/_cpc']:\n",
    "    cpc = costs[(costs['source_/_medium']==x)].pivot_table(index='sessiondate',columns='campaign',values='cpc')\n",
    "    print('---')\n",
    "    print('Описание '+x+'\\n')\n",
    "    print(cpc.describe());\n",
    "    print('---')\n",
    "    print(cpc.plot(title=x+' CPC по дням'));"
   ]
  },
  {
   "cell_type": "markdown",
   "metadata": {},
   "source": [
    "### Итог\n",
    "\n",
    "Самый высокий медианный и средний `CPC` оказался у платной рекламы `yandex_/_cpc`, а самый низким CPC обладает `google_/_cpc`, хотя всем платформам характерен высокий разброс `CPC`."
   ]
  },
  {
   "cell_type": "markdown",
   "metadata": {
    "ExecuteTime": {
     "end_time": "2021-10-17T09:37:42.522098Z",
     "start_time": "2021-10-17T09:37:42.517215Z"
    }
   },
   "source": [
    "## Рассчитайте средний ROI для каждой из рекламных систем\n"
   ]
  },
  {
   "cell_type": "code",
   "execution_count": 50,
   "metadata": {
    "ExecuteTime": {
     "end_time": "2021-10-25T18:12:13.870834Z",
     "start_time": "2021-10-25T18:12:13.866077Z"
    }
   },
   "outputs": [],
   "source": [
    "channel_profit.index = channel_profit.index.str.replace(r' ', '_')"
   ]
  },
  {
   "cell_type": "code",
   "execution_count": 51,
   "metadata": {
    "ExecuteTime": {
     "end_time": "2021-10-25T18:12:13.885255Z",
     "start_time": "2021-10-25T18:12:13.874109Z"
    }
   },
   "outputs": [],
   "source": [
    "channel_profit = channel_profit.join(costs.groupby(['source_/_medium'])['costs'].sum()) # добавим информацию о расходах"
   ]
  },
  {
   "cell_type": "code",
   "execution_count": 52,
   "metadata": {
    "ExecuteTime": {
     "end_time": "2021-10-25T18:12:13.898547Z",
     "start_time": "2021-10-25T18:12:13.887955Z"
    }
   },
   "outputs": [],
   "source": [
    "# рассчитаем ROI для каждой из модели атрибуции\n",
    "\n",
    "for x in channel_profit.columns[:-1]:\n",
    "    channel_profit[x+'_roi'] = (channel_profit[x] - channel_profit['costs']) / channel_profit['costs']"
   ]
  },
  {
   "cell_type": "code",
   "execution_count": 53,
   "metadata": {
    "ExecuteTime": {
     "end_time": "2021-10-25T18:12:13.921327Z",
     "start_time": "2021-10-25T18:12:13.900753Z"
    }
   },
   "outputs": [
    {
     "data": {
      "text/html": [
       "<div>\n",
       "<style scoped>\n",
       "    .dataframe tbody tr th:only-of-type {\n",
       "        vertical-align: middle;\n",
       "    }\n",
       "\n",
       "    .dataframe tbody tr th {\n",
       "        vertical-align: top;\n",
       "    }\n",
       "\n",
       "    .dataframe thead th {\n",
       "        text-align: right;\n",
       "    }\n",
       "</style>\n",
       "<table border=\"1\" class=\"dataframe\">\n",
       "  <thead>\n",
       "    <tr style=\"text-align: right;\">\n",
       "      <th></th>\n",
       "      <th>first_channel_profit_roi</th>\n",
       "      <th>last_non_direct_channel_profit_roi</th>\n",
       "      <th>last_channel_profit_roi</th>\n",
       "      <th>linear_channel_profit_roi</th>\n",
       "      <th>time_decay_profit_roi</th>\n",
       "      <th>position_based_profit_roi</th>\n",
       "    </tr>\n",
       "    <tr>\n",
       "      <th>channel</th>\n",
       "      <th></th>\n",
       "      <th></th>\n",
       "      <th></th>\n",
       "      <th></th>\n",
       "      <th></th>\n",
       "      <th></th>\n",
       "    </tr>\n",
       "  </thead>\n",
       "  <tbody>\n",
       "    <tr>\n",
       "      <th>yandex_/_cpc</th>\n",
       "      <td>-0.445532</td>\n",
       "      <td>-0.302413</td>\n",
       "      <td>-0.402900</td>\n",
       "      <td>-0.479575</td>\n",
       "      <td>-0.470229</td>\n",
       "      <td>-0.451364</td>\n",
       "    </tr>\n",
       "    <tr>\n",
       "      <th>google_/_cpc</th>\n",
       "      <td>-0.224591</td>\n",
       "      <td>0.116566</td>\n",
       "      <td>0.087744</td>\n",
       "      <td>-0.099768</td>\n",
       "      <td>-0.081891</td>\n",
       "      <td>-0.074467</td>\n",
       "    </tr>\n",
       "    <tr>\n",
       "      <th>vkontakte_/_cpc</th>\n",
       "      <td>-0.267286</td>\n",
       "      <td>0.003656</td>\n",
       "      <td>-0.014961</td>\n",
       "      <td>-0.340648</td>\n",
       "      <td>-0.302819</td>\n",
       "      <td>-0.209473</td>\n",
       "    </tr>\n",
       "  </tbody>\n",
       "</table>\n",
       "</div>"
      ],
      "text/plain": [
       "                 first_channel_profit_roi  last_non_direct_channel_profit_roi  \\\n",
       "channel                                                                         \n",
       "yandex_/_cpc                    -0.445532                           -0.302413   \n",
       "google_/_cpc                    -0.224591                            0.116566   \n",
       "vkontakte_/_cpc                 -0.267286                            0.003656   \n",
       "\n",
       "                 last_channel_profit_roi  linear_channel_profit_roi  \\\n",
       "channel                                                               \n",
       "yandex_/_cpc                   -0.402900                  -0.479575   \n",
       "google_/_cpc                    0.087744                  -0.099768   \n",
       "vkontakte_/_cpc                -0.014961                  -0.340648   \n",
       "\n",
       "                 time_decay_profit_roi  position_based_profit_roi  \n",
       "channel                                                            \n",
       "yandex_/_cpc                 -0.470229                  -0.451364  \n",
       "google_/_cpc                 -0.081891                  -0.074467  \n",
       "vkontakte_/_cpc              -0.302819                  -0.209473  "
      ]
     },
     "execution_count": 53,
     "metadata": {},
     "output_type": "execute_result"
    }
   ],
   "source": [
    "# сформируем таблицу только с ROI по платным каналам\n",
    "\n",
    "channel_roi = channel_profit[~channel_profit['first_channel_profit_roi'].isna()][channel_profit.columns[-6:]]\n",
    "channel_roi"
   ]
  },
  {
   "cell_type": "code",
   "execution_count": 54,
   "metadata": {
    "ExecuteTime": {
     "end_time": "2021-10-25T18:12:14.236992Z",
     "start_time": "2021-10-25T18:12:13.923298Z"
    }
   },
   "outputs": [
    {
     "data": {
      "image/png": "[encoded data removed]",
      "text/plain": [
       "<Figure size 864x288 with 1 Axes>"
      ]
     },
     "metadata": {},
     "output_type": "display_data"
    }
   ],
   "source": [
    "channel_roi.plot(kind='barh', title='Сравнение ROI по платным каналам при разных моделях атрибуции \\n');"
   ]
  },
  {
   "cell_type": "markdown",
   "metadata": {},
   "source": [
    "### Итог\n",
    "\n",
    "Можно сделать следующий вывод:\n",
    "- Вне зависимости от модели атрибуции платные каналы показывают низкую эффективность.\n",
    "- `yandex_/_cpc` является высокоубыточным каналом внезавимости от модели атрибуции."
   ]
  },
  {
   "cell_type": "code",
   "execution_count": null,
   "metadata": {},
   "outputs": [],
   "source": []
  }
 ],
 "metadata": {
  "kernelspec": {
   "display_name": "Python 3",
   "language": "python",
   "name": "python3"
  },
  "language_info": {
   "codemirror_mode": {
    "name": "ipython",
    "version": 3
   },
   "file_extension": ".py",
   "mimetype": "text/x-python",
   "name": "python",
   "nbconvert_exporter": "python",
   "pygments_lexer": "ipython3",
   "version": "3.6.7"
  },
  "latex_envs": {
   "LaTeX_envs_menu_present": true,
   "autoclose": false,
   "autocomplete": true,
   "bibliofile": "biblio.bib",
   "cite_by": "apalike",
   "current_citInitial": 1,
   "eqLabelWithNumbers": true,
   "eqNumInitial": 1,
   "hotkeys": {
    "equation": "Ctrl-E",
    "itemize": "Ctrl-I"
   },
   "labels_anchors": false,
   "latex_user_defs": false,
   "report_style_numbering": false,
   "user_envs_cfg": false
  },
  "toc": {
   "base_numbering": 1,
   "nav_menu": {},
   "number_sections": true,
   "sideBar": true,
   "skip_h1_title": false,
   "title_cell": "Table of Contents",
   "title_sidebar": "Contents",
   "toc_cell": false,
   "toc_position": {},
   "toc_section_display": true,
   "toc_window_display": true
  }
 },
 "nbformat": 4,
 "nbformat_minor": 2
}
