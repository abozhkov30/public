{
 "cells": [
  {
   "cell_type": "markdown",
   "metadata": {},
   "source": [
    "**ТОВАРНЫЕ РЕКОМЕНДАЦИИ ДЛЯ E-COMM**"
   ]
  },
  {
   "cell_type": "markdown",
   "metadata": {},
   "source": [
    "**Часть 2 - Процессинг**"
   ]
  },
  {
   "cell_type": "markdown",
   "metadata": {
    "ExecuteTime": {
     "end_time": "2021-05-10T13:42:18.648256Z",
     "start_time": "2021-05-10T13:42:18.638040Z"
    }
   },
   "source": [
    "**Датасет**:  Описывает лог покупок в интернет магазине за определенный период\n",
    "\n",
    "**Цель**: На основании данных предоставить товарные рекомендации для последующей Email рассылки."
   ]
  },
  {
   "cell_type": "code",
   "execution_count": 1,
   "metadata": {
    "ExecuteTime": {
     "end_time": "2021-05-16T20:18:25.359515Z",
     "start_time": "2021-05-16T20:18:24.300483Z"
    }
   },
   "outputs": [],
   "source": [
    "# импорт библиотек \n",
    "\n",
    "import pandas as pd\n",
    "import numpy as np\n",
    "import matplotlib.pyplot as plt\n",
    "import seaborn as sns\n",
    "import re\n",
    "\n",
    "from datetime import date\n",
    "from datetime import timedelta\n",
    "\n",
    "from tqdm import tqdm_notebook as tqdm\n",
    "\n",
    "%matplotlib inline"
   ]
  },
  {
   "cell_type": "code",
   "execution_count": 2,
   "metadata": {
    "ExecuteTime": {
     "end_time": "2021-05-16T20:18:25.364620Z",
     "start_time": "2021-05-16T20:18:25.361607Z"
    }
   },
   "outputs": [],
   "source": [
    "# настройка размера графиков\n",
    "plt.rcParams[\"figure.figsize\"] = (12,6) # размер графиков для всего блокнота"
   ]
  },
  {
   "cell_type": "code",
   "execution_count": 3,
   "metadata": {
    "ExecuteTime": {
     "end_time": "2021-05-16T20:18:25.868374Z",
     "start_time": "2021-05-16T20:18:25.864895Z"
    }
   },
   "outputs": [],
   "source": [
    "plt.style.use('ggplot') # выбор стиля графиков по умолчанию"
   ]
  },
  {
   "cell_type": "code",
   "execution_count": 5,
   "metadata": {
    "ExecuteTime": {
     "end_time": "2021-05-16T20:18:31.036144Z",
     "start_time": "2021-05-16T20:18:31.029770Z"
    }
   },
   "outputs": [],
   "source": [
    "# форматирование дробных чисел\n",
    "\n",
    "pd.options.display.float_format = '{:.3f}'.format"
   ]
  },
  {
   "cell_type": "markdown",
   "metadata": {},
   "source": [
    "# Загрузка"
   ]
  },
  {
   "cell_type": "code",
   "execution_count": 7,
   "metadata": {
    "ExecuteTime": {
     "end_time": "2021-05-16T20:18:39.227560Z",
     "start_time": "2021-05-16T20:18:39.187229Z"
    }
   },
   "outputs": [
    {
     "data": {
      "text/html": [
       "<div>\n",
       "<style scoped>\n",
       "    .dataframe tbody tr th:only-of-type {\n",
       "        vertical-align: middle;\n",
       "    }\n",
       "\n",
       "    .dataframe tbody tr th {\n",
       "        vertical-align: top;\n",
       "    }\n",
       "\n",
       "    .dataframe thead th {\n",
       "        text-align: right;\n",
       "    }\n",
       "</style>\n",
       "<table border=\"1\" class=\"dataframe\">\n",
       "  <thead>\n",
       "    <tr style=\"text-align: right;\">\n",
       "      <th></th>\n",
       "      <th>date</th>\n",
       "      <th>customer_id</th>\n",
       "      <th>order_id</th>\n",
       "      <th>product</th>\n",
       "      <th>quantity</th>\n",
       "      <th>price</th>\n",
       "      <th>timestamp</th>\n",
       "      <th>cost</th>\n",
       "      <th>serial_number_order</th>\n",
       "      <th>is_regular_customer</th>\n",
       "      <th>first_word</th>\n",
       "      <th>category</th>\n",
       "      <th>is_opt_order</th>\n",
       "    </tr>\n",
       "  </thead>\n",
       "  <tbody>\n",
       "    <tr>\n",
       "      <th>1263</th>\n",
       "      <td>2019-01-18 00:00:00</td>\n",
       "      <td>baafdc94-c232-455e-ba15-174a0e97ae34</td>\n",
       "      <td>14525</td>\n",
       "      <td>пеларгония зональная диам. 12 см сиреневый пол...</td>\n",
       "      <td>1</td>\n",
       "      <td>188.000</td>\n",
       "      <td>2019-01-18 19:00:00</td>\n",
       "      <td>188.000</td>\n",
       "      <td>1</td>\n",
       "      <td>0</td>\n",
       "      <td>пеларгония</td>\n",
       "      <td>пеларгония</td>\n",
       "      <td>0.000</td>\n",
       "    </tr>\n",
       "  </tbody>\n",
       "</table>\n",
       "</div>"
      ],
      "text/plain": [
       "                     date                           customer_id  order_id  \\\n",
       "1263  2019-01-18 00:00:00  baafdc94-c232-455e-ba15-174a0e97ae34     14525   \n",
       "\n",
       "                                                product  quantity   price  \\\n",
       "1263  пеларгония зональная диам. 12 см сиреневый пол...         1 188.000   \n",
       "\n",
       "                timestamp    cost  serial_number_order  is_regular_customer  \\\n",
       "1263  2019-01-18 19:00:00 188.000                    1                    0   \n",
       "\n",
       "      first_word    category  is_opt_order  \n",
       "1263  пеларгония  пеларгония         0.000  "
      ]
     },
     "execution_count": 7,
     "metadata": {},
     "output_type": "execute_result"
    }
   ],
   "source": [
    "df = pd.read_csv('ecommerce_dataset_preprocessed.csv') # данные из 1-ой части анализа\n",
    "df.sample()"
   ]
  },
  {
   "cell_type": "markdown",
   "metadata": {},
   "source": [
    "Колонки в  *ecommerce_dataset_preprocessed.csv* :\n",
    "\n",
    "- `date` — дата заказа;\n",
    "- `customer_id` — идентификатор покупателя;\n",
    "- `order_id` — идентификатор заказа;\n",
    "- `product` — наименование товара;\n",
    "- `quantity` — количество товара в заказе;\n",
    "- `price` — цена товара;\n",
    "- `timestamp` - время заказа;\n",
    "- `cost` - стоимость (price*quantity);\n",
    "- `serial_number_order` - порядковый номер заказа для клиента;\n",
    "- `is_regular_customer` - флаг является ли клиент постоянным;\n",
    "- `is_opt_order` - является ли заказ мелкооптовым;\n",
    "\n",
    "- `category` - категория товара, определенная, как первое существительное из названия товара или 'другое'.\n"
   ]
  },
  {
   "cell_type": "code",
   "execution_count": 8,
   "metadata": {
    "ExecuteTime": {
     "end_time": "2021-05-16T20:18:40.549451Z",
     "start_time": "2021-05-16T20:18:40.525338Z"
    }
   },
   "outputs": [
    {
     "name": "stdout",
     "output_type": "stream",
     "text": [
      "<class 'pandas.core.frame.DataFrame'>\n",
      "RangeIndex: 4708 entries, 0 to 4707\n",
      "Data columns (total 13 columns):\n",
      " #   Column               Non-Null Count  Dtype  \n",
      "---  ------               --------------  -----  \n",
      " 0   date                 4708 non-null   object \n",
      " 1   customer_id          4708 non-null   object \n",
      " 2   order_id             4708 non-null   int64  \n",
      " 3   product              4708 non-null   object \n",
      " 4   quantity             4708 non-null   int64  \n",
      " 5   price                4708 non-null   float64\n",
      " 6   timestamp            4708 non-null   object \n",
      " 7   cost                 4708 non-null   float64\n",
      " 8   serial_number_order  4708 non-null   int64  \n",
      " 9   is_regular_customer  4708 non-null   int64  \n",
      " 10  first_word           4708 non-null   object \n",
      " 11  category             4708 non-null   object \n",
      " 12  is_opt_order         4708 non-null   float64\n",
      "dtypes: float64(3), int64(4), object(6)\n",
      "memory usage: 478.3+ KB\n"
     ]
    }
   ],
   "source": [
    "df.info()"
   ]
  },
  {
   "cell_type": "code",
   "execution_count": 9,
   "metadata": {
    "ExecuteTime": {
     "end_time": "2021-05-16T20:18:41.965637Z",
     "start_time": "2021-05-16T20:18:41.950183Z"
    }
   },
   "outputs": [
    {
     "name": "stdout",
     "output_type": "stream",
     "text": [
      "customer_id: 2284\n",
      "---\n",
      "order_id: 2586\n",
      "---\n",
      "product: 2231\n",
      "---\n",
      "category: 233\n",
      "---\n"
     ]
    }
   ],
   "source": [
    "for x in ['customer_id', 'order_id', 'product', 'category']:\n",
    "    print(x+':', df[x].nunique())\n",
    "    print('---')"
   ]
  },
  {
   "cell_type": "code",
   "execution_count": 10,
   "metadata": {
    "ExecuteTime": {
     "end_time": "2021-05-16T20:18:49.901802Z",
     "start_time": "2021-05-16T20:18:49.886291Z"
    }
   },
   "outputs": [
    {
     "name": "stdout",
     "output_type": "stream",
     "text": [
      "Количество клиентов, которые сделали больше 2-х заказов: 158\n"
     ]
    }
   ],
   "source": [
    "print('Количество клиентов, которые сделали больше 2-х заказов:', end=' ')\n",
    "print(df[df['is_regular_customer'] == 1]['customer_id'].nunique())"
   ]
  },
  {
   "cell_type": "code",
   "execution_count": 11,
   "metadata": {
    "ExecuteTime": {
     "end_time": "2021-05-16T20:18:52.726043Z",
     "start_time": "2021-05-16T20:18:52.709550Z"
    }
   },
   "outputs": [
    {
     "data": {
      "text/plain": [
       "1      2130\n",
       "2       126\n",
       "3        20\n",
       "4         3\n",
       "5         1\n",
       "7         1\n",
       "17        1\n",
       "35        1\n",
       "126       1\n",
       "Name: serial_number_order, dtype: int64"
      ]
     },
     "execution_count": 11,
     "metadata": {},
     "output_type": "execute_result"
    }
   ],
   "source": [
    "# максимальное количество заказов на каждого клиента в датасете\n",
    "\n",
    "df.groupby('customer_id')['serial_number_order'].max().value_counts().sort_index()"
   ]
  },
  {
   "cell_type": "code",
   "execution_count": 12,
   "metadata": {
    "ExecuteTime": {
     "end_time": "2021-05-16T20:18:54.953823Z",
     "start_time": "2021-05-16T20:18:54.938397Z"
    }
   },
   "outputs": [
    {
     "name": "stdout",
     "output_type": "stream",
     "text": [
      "Уникальное количество товаров в первых заказах: 2071\n",
      "Уникальное количество товаров в последующих заказах: 424\n"
     ]
    }
   ],
   "source": [
    "print('Уникальное количество товаров в первых заказах:', df[df['serial_number_order'] == 1]['product'].nunique())\n",
    "print('Уникальное количество товаров в последующих заказах:', df[df['serial_number_order'] > 1]['product'].nunique())"
   ]
  },
  {
   "cell_type": "code",
   "execution_count": 13,
   "metadata": {
    "ExecuteTime": {
     "end_time": "2021-05-16T20:18:56.014499Z",
     "start_time": "2021-05-16T20:18:55.998408Z"
    }
   },
   "outputs": [
    {
     "name": "stdout",
     "output_type": "stream",
     "text": [
      "Уникальное количество категорий в первых заказах: 230\n",
      "Уникальное количество категорий в последующих заказах: 114\n"
     ]
    }
   ],
   "source": [
    "print('Уникальное количество категорий в первых заказах:', df[df['serial_number_order'] == 1]['category'].nunique())\n",
    "print('Уникальное количество категорий в последующих заказах:', df[df['serial_number_order'] > 1]['category'].nunique())"
   ]
  },
  {
   "cell_type": "markdown",
   "metadata": {
    "ExecuteTime": {
     "end_time": "2021-05-10T13:59:34.969277Z",
     "start_time": "2021-05-10T13:59:34.960633Z"
    }
   },
   "source": [
    "**Итог**\n",
    "\n",
    "Для группировки товарных рекомендаций были выбраны категории товаров (`category`), поскольку товар (`product`) обладает слишком высокой разрядностью. \n",
    "\n",
    "Далее в комментариях и описании под товаром подразумевается категория товара (`category`)."
   ]
  },
  {
   "cell_type": "markdown",
   "metadata": {},
   "source": [
    "# Config & Описание алгоритма"
   ]
  },
  {
   "cell_type": "markdown",
   "metadata": {
    "ExecuteTime": {
     "end_time": "2021-05-14T16:48:55.252124Z",
     "start_time": "2021-05-14T16:48:55.237007Z"
    }
   },
   "source": [
    "*Шаг 1*\n",
    "\n",
    "**Задача:** Подсчитать с какой вероятностью будет куплен товар Y, если в первом заказе присутствовал товар Х\n",
    "\n",
    "**Результат:** Матрица вероятности, где на пересечении товара Y c товаром Х указана вероятность заказа товара Y, если товар в первом заказе X\n",
    "\n",
    "\n",
    "*Шаг 2*\n",
    "\n",
    "**Задача:** Рассчитать скоринг для каждого товара Y\n",
    "\n",
    "**Результат:** Предыдущая матрица, умноженная на медианную стоимость товара Y\n",
    "\n",
    "*Шаг 3:*\n",
    "\n",
    "**Задача:** Подготовить список рекомендаций для каждого клиента\n",
    "\n",
    "**Результат:** Топ-N товаров c сортировкой по скорингу для каждого клиента в нужном формате"
   ]
  },
  {
   "cell_type": "code",
   "execution_count": 14,
   "metadata": {
    "ExecuteTime": {
     "end_time": "2021-05-16T20:19:26.269691Z",
     "start_time": "2021-05-16T20:19:26.252343Z"
    }
   },
   "outputs": [],
   "source": [
    "# отсечка для количества покупок, совершенных постоянным клиентом\n",
    "\n",
    "max_orders_for_client = (df\n",
    "                         .groupby('customer_id')['serial_number_order'].max()\n",
    "                         .quantile(.999)) "
   ]
  },
  {
   "cell_type": "code",
   "execution_count": 15,
   "metadata": {
    "ExecuteTime": {
     "end_time": "2021-05-16T20:19:27.115849Z",
     "start_time": "2021-05-16T20:19:27.108466Z"
    }
   },
   "outputs": [
    {
     "name": "stdout",
     "output_type": "stream",
     "text": [
      "max_orders_for_client = 14.17\n"
     ]
    }
   ],
   "source": [
    "print('max_orders_for_client = {:.2f}'.format(max_orders_for_client))"
   ]
  },
  {
   "cell_type": "code",
   "execution_count": 32,
   "metadata": {
    "ExecuteTime": {
     "end_time": "2021-05-16T20:21:29.372754Z",
     "start_time": "2021-05-16T20:21:29.365153Z"
    }
   },
   "outputs": [],
   "source": [
    "max_orders_for_client # отсечка для количества покупок, совершенных постоянным клиентом\n",
    "normalize = 'customer_id' # как нормализировать рекомендации\n",
    "item = 'category' # что именно рекомендуем\n",
    "\n",
    "# Формат письма подразумевает возможность указать от 2 до 6 товаров. \n",
    "# Это является нашим ограничением по количеству товарных рекомендаций.\n",
    "\n",
    "min_n_rec_items = 2 # минимальное количество товаров для рекомендаций\n",
    "max_n_rec_items = 6 # максимальное количество товаров для рекомендаций"
   ]
  },
  {
   "cell_type": "markdown",
   "metadata": {},
   "source": [
    "# Матрица вероятности участия товара в следующем заказе"
   ]
  },
  {
   "cell_type": "markdown",
   "metadata": {
    "code_folding": []
   },
   "source": [
    "## Определяем товары, участвующие в первых заказах постоянных клиентов"
   ]
  },
  {
   "cell_type": "code",
   "execution_count": 17,
   "metadata": {
    "ExecuteTime": {
     "end_time": "2021-05-16T20:19:39.273289Z",
     "start_time": "2021-05-16T20:19:39.259436Z"
    }
   },
   "outputs": [],
   "source": [
    "# выберем все товары в первых заказах тех клиентов, которые делали больше одной покупки \n",
    "\n",
    "first_items = df[(df['serial_number_order'] == 1)&(df['is_regular_customer'] == 1)][[normalize, item]]\n",
    "first_items.columns = [normalize, 'first_items']"
   ]
  },
  {
   "cell_type": "code",
   "execution_count": 18,
   "metadata": {
    "ExecuteTime": {
     "end_time": "2021-05-16T20:19:40.187897Z",
     "start_time": "2021-05-16T20:19:40.173610Z"
    }
   },
   "outputs": [
    {
     "data": {
      "text/html": [
       "<div>\n",
       "<style scoped>\n",
       "    .dataframe tbody tr th:only-of-type {\n",
       "        vertical-align: middle;\n",
       "    }\n",
       "\n",
       "    .dataframe tbody tr th {\n",
       "        vertical-align: top;\n",
       "    }\n",
       "\n",
       "    .dataframe thead th {\n",
       "        text-align: right;\n",
       "    }\n",
       "</style>\n",
       "<table border=\"1\" class=\"dataframe\">\n",
       "  <thead>\n",
       "    <tr style=\"text-align: right;\">\n",
       "      <th></th>\n",
       "      <th>customer_id</th>\n",
       "      <th>first_items</th>\n",
       "    </tr>\n",
       "  </thead>\n",
       "  <tbody>\n",
       "    <tr>\n",
       "      <th>9</th>\n",
       "      <td>c971fb21-d54c-4134-938f-16b62ee86d3b</td>\n",
       "      <td>чехол</td>\n",
       "    </tr>\n",
       "    <tr>\n",
       "      <th>11</th>\n",
       "      <td>4d93d3f6-8b24-403b-a74b-f5173e40d7db</td>\n",
       "      <td>чехол</td>\n",
       "    </tr>\n",
       "    <tr>\n",
       "      <th>47</th>\n",
       "      <td>49b9c587-c19e-4481-bace-967aeac357fa</td>\n",
       "      <td>пеларгония</td>\n",
       "    </tr>\n",
       "    <tr>\n",
       "      <th>48</th>\n",
       "      <td>49b9c587-c19e-4481-bace-967aeac357fa</td>\n",
       "      <td>пеларгония</td>\n",
       "    </tr>\n",
       "    <tr>\n",
       "      <th>49</th>\n",
       "      <td>49b9c587-c19e-4481-bace-967aeac357fa</td>\n",
       "      <td>пеларгония</td>\n",
       "    </tr>\n",
       "  </tbody>\n",
       "</table>\n",
       "</div>"
      ],
      "text/plain": [
       "                             customer_id first_items\n",
       "9   c971fb21-d54c-4134-938f-16b62ee86d3b       чехол\n",
       "11  4d93d3f6-8b24-403b-a74b-f5173e40d7db       чехол\n",
       "47  49b9c587-c19e-4481-bace-967aeac357fa  пеларгония\n",
       "48  49b9c587-c19e-4481-bace-967aeac357fa  пеларгония\n",
       "49  49b9c587-c19e-4481-bace-967aeac357fa  пеларгония"
      ]
     },
     "execution_count": 18,
     "metadata": {},
     "output_type": "execute_result"
    }
   ],
   "source": [
    "first_items.head()"
   ]
  },
  {
   "cell_type": "code",
   "execution_count": 19,
   "metadata": {
    "ExecuteTime": {
     "end_time": "2021-05-16T20:19:40.792162Z",
     "start_time": "2021-05-16T20:19:40.786513Z"
    }
   },
   "outputs": [
    {
     "data": {
      "text/plain": [
       "77"
      ]
     },
     "execution_count": 19,
     "metadata": {},
     "output_type": "execute_result"
    }
   ],
   "source": [
    "# количество уникальных товаров\n",
    "\n",
    "n_first_items = first_items['first_items'].nunique()\n",
    "n_first_items"
   ]
  },
  {
   "cell_type": "code",
   "execution_count": 20,
   "metadata": {
    "ExecuteTime": {
     "end_time": "2021-05-16T20:19:42.827526Z",
     "start_time": "2021-05-16T20:19:42.810380Z"
    }
   },
   "outputs": [
    {
     "data": {
      "text/plain": [
       "1   0.597\n",
       "2   0.143\n",
       "3   0.039\n",
       "4   0.039\n",
       "5   0.026\n",
       "Name: first_items, dtype: float64"
      ]
     },
     "execution_count": 20,
     "metadata": {},
     "output_type": "execute_result"
    }
   ],
   "source": [
    "# распределение по уникальным товарам в первых заказах\n",
    "\n",
    "first_items.groupby('first_items')['first_items'].count().value_counts(normalize=True).sort_index().head()"
   ]
  },
  {
   "cell_type": "markdown",
   "metadata": {},
   "source": [
    "**Комментарий**\n",
    "\n",
    "Наблюдаем ~60% уникальных товаров, которые встречались лишь 1 раз среди первых заказов. Выводы на таком количестве данных будут носить недостоверный характер. \n",
    "Но, при их удалении количество уникальных товаров появится другая проблема - нехватка данных для рекомендаций.\n",
    "\n",
    "Из-за размера датасета было принято решение оставить товары, которые встречались лишь 1 раз среди первых заказов"
   ]
  },
  {
   "cell_type": "markdown",
   "metadata": {},
   "source": [
    "## Определяем товары, участвующие в последующих заказах постоянных клиентов"
   ]
  },
  {
   "cell_type": "code",
   "execution_count": 21,
   "metadata": {
    "ExecuteTime": {
     "end_time": "2021-05-16T20:19:53.553554Z",
     "start_time": "2021-05-16T20:19:53.538700Z"
    }
   },
   "outputs": [],
   "source": [
    "# создадим датасет с товарами для заказов, которые являются вторыми и следующими\n",
    "\n",
    "next_items = df[(df['serial_number_order'].between(2, max_orders_for_client))][[normalize, item, 'serial_number_order']]\n",
    "\n",
    "next_items.columns = [normalize, 'next_items', 'serial_number_order']"
   ]
  },
  {
   "cell_type": "code",
   "execution_count": 22,
   "metadata": {
    "ExecuteTime": {
     "end_time": "2021-05-16T20:19:54.460746Z",
     "start_time": "2021-05-16T20:19:54.449512Z"
    }
   },
   "outputs": [
    {
     "data": {
      "text/plain": [
       "91"
      ]
     },
     "execution_count": 22,
     "metadata": {},
     "output_type": "execute_result"
    }
   ],
   "source": [
    "# количество уникальных товаров\n",
    "\n",
    "n_next_items = next_items['next_items'].nunique()\n",
    "n_next_items"
   ]
  },
  {
   "cell_type": "code",
   "execution_count": 23,
   "metadata": {
    "ExecuteTime": {
     "end_time": "2021-05-16T20:19:55.648826Z",
     "start_time": "2021-05-16T20:19:55.631093Z"
    }
   },
   "outputs": [
    {
     "data": {
      "text/plain": [
       "1   0.484\n",
       "2   0.165\n",
       "3   0.088\n",
       "4   0.077\n",
       "5   0.022\n",
       "Name: next_items, dtype: float64"
      ]
     },
     "execution_count": 23,
     "metadata": {},
     "output_type": "execute_result"
    }
   ],
   "source": [
    "# распределение частоты встречания по уникальным товарам в последующих заказах\n",
    "\n",
    "next_items.groupby('next_items')['next_items'].count().value_counts(normalize=True).sort_index().head()"
   ]
  },
  {
   "cell_type": "markdown",
   "metadata": {
    "ExecuteTime": {
     "end_time": "2021-05-02T20:38:16.265707Z",
     "start_time": "2021-05-02T20:38:16.255261Z"
    }
   },
   "source": [
    "## Расчет матрицы вероятности последующего заказа товара"
   ]
  },
  {
   "cell_type": "code",
   "execution_count": 24,
   "metadata": {
    "ExecuteTime": {
     "end_time": "2021-05-16T20:19:58.227129Z",
     "start_time": "2021-05-16T20:19:58.208419Z"
    }
   },
   "outputs": [],
   "source": [
    "# объединим датасет с товарами для первых заказов и датасет с товарами для вторых и последующих заказов\n",
    "\n",
    "products = first_items.merge(next_items, on=normalize)\n",
    "products = products.iloc[:,1:-1]"
   ]
  },
  {
   "cell_type": "code",
   "execution_count": 25,
   "metadata": {
    "ExecuteTime": {
     "end_time": "2021-05-16T20:20:01.802746Z",
     "start_time": "2021-05-16T20:20:00.620607Z"
    }
   },
   "outputs": [],
   "source": [
    "# создадим пустой датасет с индексом на котором будем делать матрицresult_prob.columns = ['next_items']\n",
    "\n",
    "result_prob = pd.DataFrame(products['next_items'].unique(), columns=['next_items']) \n",
    "\n",
    "for first_item in products['first_items'].unique(): # пройдемся по уникальным значениям товаров из первых заказов\n",
    "    \n",
    "    # сформируем вероятность для каждого первого товара\n",
    "    \n",
    "    prob_next_items = products[products['first_items'] == first_item]['next_items'].value_counts(normalize=True).reset_index() \n",
    "    prob_next_items.columns = ['next_items', first_item] \n",
    "    \n",
    "    # присоединим к подготовленному датасету\n",
    "    \n",
    "    result_prob = result_prob.merge(prob_next_items, on='next_items', how='outer')  \n",
    "\n",
    "result_prob = result_prob.set_index('next_items')\n",
    "result_prob = result_prob.fillna(0)"
   ]
  },
  {
   "cell_type": "code",
   "execution_count": 26,
   "metadata": {
    "ExecuteTime": {
     "end_time": "2021-05-16T20:20:03.116655Z",
     "start_time": "2021-05-16T20:20:03.108027Z"
    }
   },
   "outputs": [
    {
     "data": {
      "text/plain": [
       "False"
      ]
     },
     "execution_count": 26,
     "metadata": {},
     "output_type": "execute_result"
    }
   ],
   "source": [
    "# проверяем, что в получившейся таблице количество первых и последующих уникальных товаров соответствует начальным\n",
    "\n",
    "result_prob.shape == (n_next_items, n_first_items)"
   ]
  },
  {
   "cell_type": "code",
   "execution_count": 27,
   "metadata": {
    "ExecuteTime": {
     "end_time": "2021-05-16T20:20:07.473557Z",
     "start_time": "2021-05-16T20:20:06.468743Z"
    }
   },
   "outputs": [
    {
     "data": {
      "image/png": "[encoded data removed]",
      "text/plain": [
       "<Figure size 864x432 with 2 Axes>"
      ]
     },
     "metadata": {},
     "output_type": "display_data"
    }
   ],
   "source": [
    "# вид матрицы для первых 10 столбцов и строк\n",
    "sns.heatmap(result_prob.iloc[:10,:10], annot=True, fmt=\".2f\")\n",
    "plt.title('Matrix probability for products'+ '\\n')\n",
    "plt.xlabel('first_items')\n",
    "plt.show();"
   ]
  },
  {
   "cell_type": "code",
   "execution_count": 28,
   "metadata": {
    "ExecuteTime": {
     "end_time": "2021-05-16T20:20:15.953071Z",
     "start_time": "2021-05-16T20:20:15.932906Z"
    }
   },
   "outputs": [
    {
     "data": {
      "text/html": [
       "<div>\n",
       "<style scoped>\n",
       "    .dataframe tbody tr th:only-of-type {\n",
       "        vertical-align: middle;\n",
       "    }\n",
       "\n",
       "    .dataframe tbody tr th {\n",
       "        vertical-align: top;\n",
       "    }\n",
       "\n",
       "    .dataframe thead th {\n",
       "        text-align: right;\n",
       "    }\n",
       "</style>\n",
       "<table border=\"1\" class=\"dataframe\">\n",
       "  <thead>\n",
       "    <tr style=\"text-align: right;\">\n",
       "      <th></th>\n",
       "      <th>next_items</th>\n",
       "      <th>чехол</th>\n",
       "    </tr>\n",
       "  </thead>\n",
       "  <tbody>\n",
       "    <tr>\n",
       "      <th>0</th>\n",
       "      <td>сушилка</td>\n",
       "      <td>0.161</td>\n",
       "    </tr>\n",
       "    <tr>\n",
       "      <th>1</th>\n",
       "      <td>чехол</td>\n",
       "      <td>0.129</td>\n",
       "    </tr>\n",
       "    <tr>\n",
       "      <th>2</th>\n",
       "      <td>сумка</td>\n",
       "      <td>0.129</td>\n",
       "    </tr>\n",
       "    <tr>\n",
       "      <th>3</th>\n",
       "      <td>герань</td>\n",
       "      <td>0.129</td>\n",
       "    </tr>\n",
       "    <tr>\n",
       "      <th>4</th>\n",
       "      <td>таз</td>\n",
       "      <td>0.065</td>\n",
       "    </tr>\n",
       "    <tr>\n",
       "      <th>5</th>\n",
       "      <td>ложка</td>\n",
       "      <td>0.065</td>\n",
       "    </tr>\n",
       "    <tr>\n",
       "      <th>6</th>\n",
       "      <td>тележка</td>\n",
       "      <td>0.032</td>\n",
       "    </tr>\n",
       "    <tr>\n",
       "      <th>7</th>\n",
       "      <td>скатерть</td>\n",
       "      <td>0.032</td>\n",
       "    </tr>\n",
       "    <tr>\n",
       "      <th>8</th>\n",
       "      <td>вилка</td>\n",
       "      <td>0.032</td>\n",
       "    </tr>\n",
       "    <tr>\n",
       "      <th>9</th>\n",
       "      <td>нож</td>\n",
       "      <td>0.032</td>\n",
       "    </tr>\n",
       "    <tr>\n",
       "      <th>10</th>\n",
       "      <td>контейнер</td>\n",
       "      <td>0.032</td>\n",
       "    </tr>\n",
       "    <tr>\n",
       "      <th>11</th>\n",
       "      <td>чайник</td>\n",
       "      <td>0.032</td>\n",
       "    </tr>\n",
       "  </tbody>\n",
       "</table>\n",
       "</div>"
      ],
      "text/plain": [
       "   next_items  чехол\n",
       "0     сушилка  0.161\n",
       "1       чехол  0.129\n",
       "2       сумка  0.129\n",
       "3      герань  0.129\n",
       "4         таз  0.065\n",
       "5       ложка  0.065\n",
       "6     тележка  0.032\n",
       "7    скатерть  0.032\n",
       "8       вилка  0.032\n",
       "9         нож  0.032\n",
       "10  контейнер  0.032\n",
       "11     чайник  0.032"
      ]
     },
     "execution_count": 28,
     "metadata": {},
     "output_type": "execute_result"
    }
   ],
   "source": [
    "result_prob['чехол'].nlargest(max_n_rec_items*2).reset_index()"
   ]
  },
  {
   "cell_type": "code",
   "execution_count": 29,
   "metadata": {
    "ExecuteTime": {
     "end_time": "2021-05-16T20:20:17.746419Z",
     "start_time": "2021-05-16T20:20:17.720565Z"
    }
   },
   "outputs": [],
   "source": [
    "result_prob.to_csv('probability_matrix.csv')"
   ]
  },
  {
   "cell_type": "markdown",
   "metadata": {
    "ExecuteTime": {
     "start_time": "2021-02-12T06:58:40.719Z"
    }
   },
   "source": [
    "# Расчет скоринга для сортировки товарных рекомендаций"
   ]
  },
  {
   "cell_type": "markdown",
   "metadata": {},
   "source": [
    "Полученные рекомендации необходимо отсортировать и выбрать лучшие. Выбранные товарные рекомендации будут помещены в E-mail письмо, которое направляется клиенту. \n",
    "\n",
    "Для того чтобы увеличить эффективность товарных рекомендаций для бизнес - заказчика мы применим скоринг на основании математического ожидания выручки, рассчитанное как произведение медианной выручки товара и вероятности покупки данного товара в составе следующего заказа"
   ]
  },
  {
   "cell_type": "code",
   "execution_count": 33,
   "metadata": {
    "ExecuteTime": {
     "end_time": "2021-05-16T20:21:43.961075Z",
     "start_time": "2021-05-16T20:21:43.946496Z"
    }
   },
   "outputs": [],
   "source": [
    "items_price_median = df.groupby('category')['price'].median().reset_index()"
   ]
  },
  {
   "cell_type": "code",
   "execution_count": 34,
   "metadata": {
    "ExecuteTime": {
     "end_time": "2021-05-16T20:21:44.713804Z",
     "start_time": "2021-05-16T20:21:44.589751Z"
    }
   },
   "outputs": [],
   "source": [
    "result_scoring = result_prob.copy()\n",
    "result_scoring = result_scoring.T\n",
    "\n",
    "\n",
    "for column in result_scoring:\n",
    "    cost = items_price_median[items_price_median[item] == column]['price'].sum()\n",
    "    result_scoring[column] = result_scoring[column] * cost\n",
    "    \n",
    "result_scoring = result_scoring.T"
   ]
  },
  {
   "cell_type": "code",
   "execution_count": 35,
   "metadata": {
    "ExecuteTime": {
     "end_time": "2021-05-16T20:21:45.499306Z",
     "start_time": "2021-05-16T20:21:45.487628Z"
    },
    "scrolled": true
   },
   "outputs": [
    {
     "data": {
      "text/html": [
       "<div>\n",
       "<style scoped>\n",
       "    .dataframe tbody tr th:only-of-type {\n",
       "        vertical-align: middle;\n",
       "    }\n",
       "\n",
       "    .dataframe tbody tr th {\n",
       "        vertical-align: top;\n",
       "    }\n",
       "\n",
       "    .dataframe thead th {\n",
       "        text-align: right;\n",
       "    }\n",
       "</style>\n",
       "<table border=\"1\" class=\"dataframe\">\n",
       "  <thead>\n",
       "    <tr style=\"text-align: right;\">\n",
       "      <th></th>\n",
       "      <th>next_items</th>\n",
       "      <th>чехол</th>\n",
       "    </tr>\n",
       "  </thead>\n",
       "  <tbody>\n",
       "    <tr>\n",
       "      <th>0</th>\n",
       "      <td>сумка</td>\n",
       "      <td>212.774</td>\n",
       "    </tr>\n",
       "    <tr>\n",
       "      <th>1</th>\n",
       "      <td>сушилка</td>\n",
       "      <td>105.161</td>\n",
       "    </tr>\n",
       "    <tr>\n",
       "      <th>2</th>\n",
       "      <td>чехол</td>\n",
       "      <td>38.581</td>\n",
       "    </tr>\n",
       "    <tr>\n",
       "      <th>3</th>\n",
       "      <td>скатерть</td>\n",
       "      <td>31.419</td>\n",
       "    </tr>\n",
       "    <tr>\n",
       "      <th>4</th>\n",
       "      <td>штора</td>\n",
       "      <td>31.419</td>\n",
       "    </tr>\n",
       "    <tr>\n",
       "      <th>5</th>\n",
       "      <td>простыня</td>\n",
       "      <td>29.613</td>\n",
       "    </tr>\n",
       "    <tr>\n",
       "      <th>6</th>\n",
       "      <td>чайник</td>\n",
       "      <td>24.161</td>\n",
       "    </tr>\n",
       "    <tr>\n",
       "      <th>7</th>\n",
       "      <td>тележка</td>\n",
       "      <td>23.677</td>\n",
       "    </tr>\n",
       "    <tr>\n",
       "      <th>8</th>\n",
       "      <td>контейнер</td>\n",
       "      <td>21.742</td>\n",
       "    </tr>\n",
       "    <tr>\n",
       "      <th>9</th>\n",
       "      <td>герань</td>\n",
       "      <td>19.226</td>\n",
       "    </tr>\n",
       "    <tr>\n",
       "      <th>10</th>\n",
       "      <td>таз</td>\n",
       "      <td>15.903</td>\n",
       "    </tr>\n",
       "    <tr>\n",
       "      <th>11</th>\n",
       "      <td>ложка</td>\n",
       "      <td>9.161</td>\n",
       "    </tr>\n",
       "  </tbody>\n",
       "</table>\n",
       "</div>"
      ],
      "text/plain": [
       "   next_items   чехол\n",
       "0       сумка 212.774\n",
       "1     сушилка 105.161\n",
       "2       чехол  38.581\n",
       "3    скатерть  31.419\n",
       "4       штора  31.419\n",
       "5    простыня  29.613\n",
       "6      чайник  24.161\n",
       "7     тележка  23.677\n",
       "8   контейнер  21.742\n",
       "9      герань  19.226\n",
       "10        таз  15.903\n",
       "11      ложка   9.161"
      ]
     },
     "execution_count": 35,
     "metadata": {},
     "output_type": "execute_result"
    }
   ],
   "source": [
    "result_scoring['чехол'].nlargest(round(max_n_rec_items*2)).reset_index()"
   ]
  },
  {
   "cell_type": "code",
   "execution_count": 36,
   "metadata": {
    "ExecuteTime": {
     "end_time": "2021-05-16T20:22:01.437144Z",
     "start_time": "2021-05-16T20:22:01.056384Z"
    }
   },
   "outputs": [
    {
     "data": {
      "text/plain": [
       "Text(0.5, 1.0, 'Диаграмма скоринга для каждого товара\\n')"
      ]
     },
     "execution_count": 36,
     "metadata": {},
     "output_type": "execute_result"
    },
    {
     "data": {
      "image/png": "[encoded data removed]",
      "text/plain": [
       "<Figure size 864x432 with 1 Axes>"
      ]
     },
     "metadata": {},
     "output_type": "display_data"
    }
   ],
   "source": [
    "result_scoring[result_scoring>0].plot(style='o', legend=False)\n",
    "\n",
    "plt.ylabel('Скоринг')\n",
    "plt.title('Диаграмма скоринга для каждого товара'+'\\n')"
   ]
  },
  {
   "cell_type": "code",
   "execution_count": 37,
   "metadata": {
    "ExecuteTime": {
     "end_time": "2021-05-16T20:22:11.420770Z",
     "start_time": "2021-05-16T20:22:10.427076Z"
    }
   },
   "outputs": [
    {
     "data": {
      "image/png": "[encoded data removed]",
      "text/plain": [
       "<Figure size 864x432 with 2 Axes>"
      ]
     },
     "metadata": {},
     "output_type": "display_data"
    }
   ],
   "source": [
    "# вид матрицы для первых 10 столбцов и строк\n",
    "\n",
    "sns.heatmap(result_scoring.iloc[:10,:10], annot=True, fmt=\".2f\")\n",
    "plt.title('Matrix scoring for products'+ '\\n')\n",
    "plt.xlabel('first_items')\n",
    "plt.show();"
   ]
  },
  {
   "cell_type": "code",
   "execution_count": 38,
   "metadata": {
    "ExecuteTime": {
     "end_time": "2021-05-16T20:22:29.081937Z",
     "start_time": "2021-05-16T20:22:29.067462Z"
    }
   },
   "outputs": [
    {
     "data": {
      "text/plain": [
       "246.5"
      ]
     },
     "execution_count": 38,
     "metadata": {},
     "output_type": "execute_result"
    }
   ],
   "source": [
    "df[df['category'] == 'таз']['price'].median()"
   ]
  },
  {
   "cell_type": "markdown",
   "metadata": {
    "ExecuteTime": {
     "end_time": "2021-05-04T10:35:09.676358Z",
     "start_time": "2021-05-04T10:35:09.668121Z"
    }
   },
   "source": [
    "# Формирование товарных рекомендаций для клиентов"
   ]
  },
  {
   "cell_type": "markdown",
   "metadata": {
    "ExecuteTime": {
     "end_time": "2021-05-16T20:22:32.408811Z",
     "start_time": "2021-05-16T20:22:32.403625Z"
    }
   },
   "source": [
    "## Найдем х2 рекомендуемых товаров для каждого клиента"
   ]
  },
  {
   "cell_type": "code",
   "execution_count": 40,
   "metadata": {
    "ExecuteTime": {
     "end_time": "2021-05-16T20:23:01.951788Z",
     "start_time": "2021-05-16T20:23:01.933809Z"
    }
   },
   "outputs": [],
   "source": [
    "first_orders = df[df['serial_number_order'] == 1][['order_id', 'customer_id', 'is_regular_customer']].drop_duplicates()"
   ]
  },
  {
   "cell_type": "code",
   "execution_count": 41,
   "metadata": {
    "ExecuteTime": {
     "end_time": "2021-05-16T20:23:02.524720Z",
     "start_time": "2021-05-16T20:23:02.510158Z"
    }
   },
   "outputs": [
    {
     "data": {
      "text/html": [
       "<div>\n",
       "<style scoped>\n",
       "    .dataframe tbody tr th:only-of-type {\n",
       "        vertical-align: middle;\n",
       "    }\n",
       "\n",
       "    .dataframe tbody tr th {\n",
       "        vertical-align: top;\n",
       "    }\n",
       "\n",
       "    .dataframe thead th {\n",
       "        text-align: right;\n",
       "    }\n",
       "</style>\n",
       "<table border=\"1\" class=\"dataframe\">\n",
       "  <thead>\n",
       "    <tr style=\"text-align: right;\">\n",
       "      <th></th>\n",
       "      <th>order_id</th>\n",
       "      <th>customer_id</th>\n",
       "      <th>category</th>\n",
       "    </tr>\n",
       "  </thead>\n",
       "  <tbody>\n",
       "    <tr>\n",
       "      <th>3093</th>\n",
       "      <td>14771</td>\n",
       "      <td>c33a3932-6247-4d7e-a48e-66d3eeaefb48</td>\n",
       "      <td>томата</td>\n",
       "    </tr>\n",
       "  </tbody>\n",
       "</table>\n",
       "</div>"
      ],
      "text/plain": [
       "      order_id                           customer_id category\n",
       "3093     14771  c33a3932-6247-4d7e-a48e-66d3eeaefb48   томата"
      ]
     },
     "execution_count": 41,
     "metadata": {},
     "output_type": "execute_result"
    }
   ],
   "source": [
    "# создадим таблицу с товарами в разрезе первых заказов\n",
    "\n",
    "items_first_all = df[(df['order_id'].isin(first_orders['order_id']))][['order_id', 'customer_id', 'category']]\n",
    "items_first_all.sample()"
   ]
  },
  {
   "cell_type": "code",
   "execution_count": 42,
   "metadata": {
    "ExecuteTime": {
     "end_time": "2021-05-16T20:23:03.112721Z",
     "start_time": "2021-05-16T20:23:03.092043Z"
    }
   },
   "outputs": [],
   "source": [
    "# добавим в result товары по которым отсутствуют рекомендации\n",
    "\n",
    "temp2 = pd.DataFrame(index=df[~df['category'].isin(result_scoring.T.reset_index()['index'])]['category'].unique().tolist())\n",
    "result_scoring = pd.concat([result_scoring.T, temp2]).fillna(0).T"
   ]
  },
  {
   "cell_type": "code",
   "execution_count": 43,
   "metadata": {
    "ExecuteTime": {
     "end_time": "2021-05-16T20:25:09.015608Z",
     "start_time": "2021-05-16T20:23:04.524043Z"
    },
    "scrolled": true
   },
   "outputs": [
    {
     "data": {
      "application/vnd.jupyter.widget-view+json": {
       "model_id": "9fca4bac090242e6bafde5cd752fcc06",
       "version_major": 2,
       "version_minor": 0
      },
      "text/plain": [
       "HBox(children=(IntProgress(value=0, max=2254), HTML(value='')))"
      ]
     },
     "metadata": {},
     "output_type": "display_data"
    },
    {
     "name": "stdout",
     "output_type": "stream",
     "text": [
      "\n",
      "CPU times: user 1min 18s, sys: 46.4 s, total: 2min 5s\n",
      "Wall time: 2min 4s\n"
     ]
    }
   ],
   "source": [
    "%%time\n",
    "rec_items_orders = pd.DataFrame() # заготовка для будущего результата\n",
    "\n",
    "for order_number in tqdm(items_first_all['order_id'].unique()): # идем по всем уникальным первым заказам\n",
    "\n",
    "    # обнуляем таблицу куда складываем все товары, которые рекомендуем для заказа\n",
    "    \n",
    "    all_items = pd.DataFrame(columns=[0]) \n",
    "    \n",
    "    for items in items_first_all[items_first_all['order_id'] == order_number]['category'].unique():\n",
    "        \n",
    "        # складываем все рекомендуемые товары\n",
    "        \n",
    "        items_for_orders = result_scoring[result_scoring[items]>0][items].sort_values(ascending=False)\n",
    "        all_items = pd.concat([items_for_orders, all_items])\n",
    "        \n",
    "        # сортируем и удаляем дубликаты из таблицы, куда складываем все товары\n",
    "        \n",
    "        all_items_update = all_items.sort_values(by=0, ascending=False).reset_index().drop_duplicates(subset='index').set_index('index')\n",
    "        all_items_update.columns = [order_number]\n",
    "        all_items_update = all_items_update.fillna(0)\n",
    "        \n",
    "        # если находим товары для рекомендаций, то берем max и добавляем в результирующую таблицу\n",
    "        \n",
    "        if all_items_update.sum().sum() > 0:\n",
    "            all_items_update = all_items_update.nlargest(max_n_rec_items*2, order_number)\n",
    "            rec_items_orders = pd.concat([rec_items_orders, all_items_update])\n",
    "\n",
    "rec_items_orders = rec_items_orders.fillna(0).reset_index().groupby('index').sum()"
   ]
  },
  {
   "cell_type": "code",
   "execution_count": 44,
   "metadata": {
    "ExecuteTime": {
     "end_time": "2021-05-16T20:25:24.577921Z",
     "start_time": "2021-05-16T20:25:24.447984Z"
    }
   },
   "outputs": [
    {
     "name": "stdout",
     "output_type": "stream",
     "text": [
      "<class 'pandas.core.frame.DataFrame'>\n",
      "Index: 86 entries, алиссум to ясколка\n",
      "Columns: 1859 entries, 13547 to 73162\n",
      "dtypes: float64(1859)\n",
      "memory usage: 1.2+ MB\n"
     ]
    }
   ],
   "source": [
    "rec_items_orders.info()"
   ]
  },
  {
   "cell_type": "code",
   "execution_count": 60,
   "metadata": {
    "ExecuteTime": {
     "end_time": "2021-05-16T20:32:27.830130Z",
     "start_time": "2021-05-16T20:32:27.486043Z"
    },
    "scrolled": true
   },
   "outputs": [
    {
     "data": {
      "text/html": [
       "<div>\n",
       "<style scoped>\n",
       "    .dataframe tbody tr th:only-of-type {\n",
       "        vertical-align: middle;\n",
       "    }\n",
       "\n",
       "    .dataframe tbody tr th {\n",
       "        vertical-align: top;\n",
       "    }\n",
       "\n",
       "    .dataframe thead th {\n",
       "        text-align: right;\n",
       "    }\n",
       "</style>\n",
       "<table border=\"1\" class=\"dataframe\">\n",
       "  <thead>\n",
       "    <tr style=\"text-align: right;\">\n",
       "      <th></th>\n",
       "      <th>scoring</th>\n",
       "    </tr>\n",
       "  </thead>\n",
       "  <tbody>\n",
       "    <tr>\n",
       "      <th>71954</th>\n",
       "      <td>29.000</td>\n",
       "    </tr>\n",
       "    <tr>\n",
       "      <th>70450</th>\n",
       "      <td>29.000</td>\n",
       "    </tr>\n",
       "    <tr>\n",
       "      <th>70179</th>\n",
       "      <td>29.000</td>\n",
       "    </tr>\n",
       "    <tr>\n",
       "      <th>72748</th>\n",
       "      <td>29.000</td>\n",
       "    </tr>\n",
       "    <tr>\n",
       "      <th>69934</th>\n",
       "      <td>29.000</td>\n",
       "    </tr>\n",
       "  </tbody>\n",
       "</table>\n",
       "</div>"
      ],
      "text/plain": [
       "       scoring\n",
       "71954   29.000\n",
       "70450   29.000\n",
       "70179   29.000\n",
       "72748   29.000\n",
       "69934   29.000"
      ]
     },
     "execution_count": 60,
     "metadata": {},
     "output_type": "execute_result"
    }
   ],
   "source": [
    "# проверяем заказы с самым низким скором\n",
    "\n",
    "min_score = rec_items_orders.sum(axis=0).min()\n",
    "\n",
    "min_score_orders = {}\n",
    "\n",
    "for x in rec_items_orders.columns:\n",
    "    if rec_items_orders[x].sum() < min_score * 2:\n",
    "        min_score_orders[x] = rec_items_orders[x].sum()\n",
    "        \n",
    "min_score_orders = pd.DataFrame.from_dict(min_score_orders, orient='index', columns=['scoring']).sort_values('scoring')\n",
    "min_score_orders.head()"
   ]
  },
  {
   "cell_type": "code",
   "execution_count": 61,
   "metadata": {
    "ExecuteTime": {
     "end_time": "2021-05-16T20:32:43.300559Z",
     "start_time": "2021-05-16T20:32:29.722259Z"
    }
   },
   "outputs": [
    {
     "data": {
      "application/vnd.jupyter.widget-view+json": {
       "model_id": "43d068d164d64864a09781c7392884e2",
       "version_major": 2,
       "version_minor": 0
      },
      "text/plain": [
       "HBox(children=(IntProgress(value=0, max=1859), HTML(value='')))"
      ]
     },
     "metadata": {},
     "output_type": "display_data"
    },
    {
     "name": "stdout",
     "output_type": "stream",
     "text": [
      "\n",
      "CPU times: user 13.6 s, sys: 371 ms, total: 13.9 s\n",
      "Wall time: 13.6 s\n"
     ]
    }
   ],
   "source": [
    "%%time\n",
    "\n",
    "# Найдем лучшие товары для клиентов, которым удалось подобрать рекомендации\n",
    "\n",
    "rec_items_clients = pd.DataFrame(columns=['items', 'scoring', 'order_id', 'customer_id'])\n",
    "\n",
    "# идем по всем уникальным заказам для которых мы смогли подобрать рекомендации\n",
    "\n",
    "for order_id in tqdm(rec_items_orders.columns):\n",
    "    \n",
    "    # ищем Топ-6 товаров, больше нуля для каждого номера заказа\n",
    "    \n",
    "    temp = pd.DataFrame(rec_items_orders[order_id].nlargest(max_n_rec_items)[rec_items_orders[order_id].nlargest(max_n_rec_items) > 0]).reset_index()\n",
    "    \n",
    "    # формируем датасет в нашем стиле\n",
    "    \n",
    "    temp['order_id'] = order_id\n",
    "    temp['customer_id'] = df[df['order_id']==order_id]['customer_id'].unique().min()\n",
    "    temp.columns = ['items', 'scoring', 'order_id', 'customer_id']\n",
    "    if len(temp) >= min_n_rec_items: # проверяем что рекомендованных товаров больше min_n_rec_items\n",
    "        rec_items_clients = pd.concat([rec_items_clients,temp]) # объединяем со всеми предыдущими"
   ]
  },
  {
   "cell_type": "code",
   "execution_count": 62,
   "metadata": {
    "ExecuteTime": {
     "end_time": "2021-05-16T20:32:44.249779Z",
     "start_time": "2021-05-16T20:32:44.226122Z"
    }
   },
   "outputs": [
    {
     "data": {
      "text/html": [
       "<div>\n",
       "<style scoped>\n",
       "    .dataframe tbody tr th:only-of-type {\n",
       "        vertical-align: middle;\n",
       "    }\n",
       "\n",
       "    .dataframe tbody tr th {\n",
       "        vertical-align: top;\n",
       "    }\n",
       "\n",
       "    .dataframe thead th {\n",
       "        text-align: right;\n",
       "    }\n",
       "</style>\n",
       "<table border=\"1\" class=\"dataframe\">\n",
       "  <thead>\n",
       "    <tr style=\"text-align: right;\">\n",
       "      <th></th>\n",
       "      <th>items</th>\n",
       "      <th>scoring</th>\n",
       "      <th>order_id</th>\n",
       "      <th>customer_id</th>\n",
       "    </tr>\n",
       "  </thead>\n",
       "  <tbody>\n",
       "    <tr>\n",
       "      <th>0</th>\n",
       "      <td>рассада</td>\n",
       "      <td>53.250</td>\n",
       "      <td>13547</td>\n",
       "      <td>b80e4826-7218-4bf9-ac08-eb2c81ab3f62</td>\n",
       "    </tr>\n",
       "    <tr>\n",
       "      <th>1</th>\n",
       "      <td>петуния</td>\n",
       "      <td>12.000</td>\n",
       "      <td>13547</td>\n",
       "      <td>b80e4826-7218-4bf9-ac08-eb2c81ab3f62</td>\n",
       "    </tr>\n",
       "    <tr>\n",
       "      <th>2</th>\n",
       "      <td>пеларгония</td>\n",
       "      <td>10.547</td>\n",
       "      <td>13547</td>\n",
       "      <td>b80e4826-7218-4bf9-ac08-eb2c81ab3f62</td>\n",
       "    </tr>\n",
       "    <tr>\n",
       "      <th>3</th>\n",
       "      <td>томата</td>\n",
       "      <td>5.700</td>\n",
       "      <td>13547</td>\n",
       "      <td>b80e4826-7218-4bf9-ac08-eb2c81ab3f62</td>\n",
       "    </tr>\n",
       "    <tr>\n",
       "      <th>4</th>\n",
       "      <td>растение</td>\n",
       "      <td>5.125</td>\n",
       "      <td>13547</td>\n",
       "      <td>b80e4826-7218-4bf9-ac08-eb2c81ab3f62</td>\n",
       "    </tr>\n",
       "    <tr>\n",
       "      <th>...</th>\n",
       "      <td>...</td>\n",
       "      <td>...</td>\n",
       "      <td>...</td>\n",
       "      <td>...</td>\n",
       "    </tr>\n",
       "    <tr>\n",
       "      <th>1</th>\n",
       "      <td>штора</td>\n",
       "      <td>74.923</td>\n",
       "      <td>73162</td>\n",
       "      <td>25df96a7-c453-4708-9cea-a3dfc7c342ea</td>\n",
       "    </tr>\n",
       "    <tr>\n",
       "      <th>2</th>\n",
       "      <td>герань</td>\n",
       "      <td>22.923</td>\n",
       "      <td>73162</td>\n",
       "      <td>25df96a7-c453-4708-9cea-a3dfc7c342ea</td>\n",
       "    </tr>\n",
       "    <tr>\n",
       "      <th>3</th>\n",
       "      <td>другое</td>\n",
       "      <td>14.077</td>\n",
       "      <td>73162</td>\n",
       "      <td>25df96a7-c453-4708-9cea-a3dfc7c342ea</td>\n",
       "    </tr>\n",
       "    <tr>\n",
       "      <th>4</th>\n",
       "      <td>пеларгония</td>\n",
       "      <td>10.385</td>\n",
       "      <td>73162</td>\n",
       "      <td>25df96a7-c453-4708-9cea-a3dfc7c342ea</td>\n",
       "    </tr>\n",
       "    <tr>\n",
       "      <th>5</th>\n",
       "      <td>пробка</td>\n",
       "      <td>5.115</td>\n",
       "      <td>73162</td>\n",
       "      <td>25df96a7-c453-4708-9cea-a3dfc7c342ea</td>\n",
       "    </tr>\n",
       "  </tbody>\n",
       "</table>\n",
       "<p>6126 rows × 4 columns</p>\n",
       "</div>"
      ],
      "text/plain": [
       "         items  scoring order_id                           customer_id\n",
       "0      рассада   53.250    13547  b80e4826-7218-4bf9-ac08-eb2c81ab3f62\n",
       "1      петуния   12.000    13547  b80e4826-7218-4bf9-ac08-eb2c81ab3f62\n",
       "2   пеларгония   10.547    13547  b80e4826-7218-4bf9-ac08-eb2c81ab3f62\n",
       "3       томата    5.700    13547  b80e4826-7218-4bf9-ac08-eb2c81ab3f62\n",
       "4     растение    5.125    13547  b80e4826-7218-4bf9-ac08-eb2c81ab3f62\n",
       "..         ...      ...      ...                                   ...\n",
       "1        штора   74.923    73162  25df96a7-c453-4708-9cea-a3dfc7c342ea\n",
       "2       герань   22.923    73162  25df96a7-c453-4708-9cea-a3dfc7c342ea\n",
       "3       другое   14.077    73162  25df96a7-c453-4708-9cea-a3dfc7c342ea\n",
       "4   пеларгония   10.385    73162  25df96a7-c453-4708-9cea-a3dfc7c342ea\n",
       "5       пробка    5.115    73162  25df96a7-c453-4708-9cea-a3dfc7c342ea\n",
       "\n",
       "[6126 rows x 4 columns]"
      ]
     },
     "execution_count": 62,
     "metadata": {},
     "output_type": "execute_result"
    }
   ],
   "source": [
    "rec_items_clients"
   ]
  },
  {
   "cell_type": "markdown",
   "metadata": {
    "ExecuteTime": {
     "end_time": "2021-05-04T11:02:44.225085Z",
     "start_time": "2021-05-04T11:02:44.220110Z"
    }
   },
   "source": [
    "# Анализ результирующего файла"
   ]
  },
  {
   "cell_type": "markdown",
   "metadata": {},
   "source": [
    "## Пример"
   ]
  },
  {
   "cell_type": "code",
   "execution_count": 122,
   "metadata": {
    "ExecuteTime": {
     "end_time": "2021-05-16T20:40:09.045656Z",
     "start_time": "2021-05-16T20:40:09.022216Z"
    }
   },
   "outputs": [
    {
     "data": {
      "text/html": [
       "<div>\n",
       "<style scoped>\n",
       "    .dataframe tbody tr th:only-of-type {\n",
       "        vertical-align: middle;\n",
       "    }\n",
       "\n",
       "    .dataframe tbody tr th {\n",
       "        vertical-align: top;\n",
       "    }\n",
       "\n",
       "    .dataframe thead th {\n",
       "        text-align: right;\n",
       "    }\n",
       "</style>\n",
       "<table border=\"1\" class=\"dataframe\">\n",
       "  <thead>\n",
       "    <tr style=\"text-align: right;\">\n",
       "      <th></th>\n",
       "      <th>category</th>\n",
       "      <th>order_id</th>\n",
       "      <th>product</th>\n",
       "    </tr>\n",
       "  </thead>\n",
       "  <tbody>\n",
       "    <tr>\n",
       "      <th>3222</th>\n",
       "      <td>чехол</td>\n",
       "      <td>71460</td>\n",
       "      <td>чехол для одежды дорожный eva 100х65 см mhl06</td>\n",
       "    </tr>\n",
       "  </tbody>\n",
       "</table>\n",
       "</div>"
      ],
      "text/plain": [
       "     category  order_id                                        product\n",
       "3222    чехол     71460  чехол для одежды дорожный eva 100х65 см mhl06"
      ]
     },
     "execution_count": 122,
     "metadata": {},
     "output_type": "execute_result"
    }
   ],
   "source": [
    "df[df['order_id']==71460][['category','order_id','product']]"
   ]
  },
  {
   "cell_type": "code",
   "execution_count": 123,
   "metadata": {
    "ExecuteTime": {
     "end_time": "2021-05-16T20:40:09.701726Z",
     "start_time": "2021-05-16T20:40:09.683315Z"
    }
   },
   "outputs": [
    {
     "data": {
      "text/html": [
       "<div>\n",
       "<style scoped>\n",
       "    .dataframe tbody tr th:only-of-type {\n",
       "        vertical-align: middle;\n",
       "    }\n",
       "\n",
       "    .dataframe tbody tr th {\n",
       "        vertical-align: top;\n",
       "    }\n",
       "\n",
       "    .dataframe thead th {\n",
       "        text-align: right;\n",
       "    }\n",
       "</style>\n",
       "<table border=\"1\" class=\"dataframe\">\n",
       "  <thead>\n",
       "    <tr style=\"text-align: right;\">\n",
       "      <th></th>\n",
       "      <th>items</th>\n",
       "      <th>scoring</th>\n",
       "      <th>order_id</th>\n",
       "      <th>customer_id</th>\n",
       "    </tr>\n",
       "  </thead>\n",
       "  <tbody>\n",
       "    <tr>\n",
       "      <th>0</th>\n",
       "      <td>сумка</td>\n",
       "      <td>212.774</td>\n",
       "      <td>71460</td>\n",
       "      <td>bbc82122-eac1-418f-a808-213949c10147</td>\n",
       "    </tr>\n",
       "    <tr>\n",
       "      <th>1</th>\n",
       "      <td>сушилка</td>\n",
       "      <td>105.161</td>\n",
       "      <td>71460</td>\n",
       "      <td>bbc82122-eac1-418f-a808-213949c10147</td>\n",
       "    </tr>\n",
       "    <tr>\n",
       "      <th>2</th>\n",
       "      <td>чехол</td>\n",
       "      <td>38.581</td>\n",
       "      <td>71460</td>\n",
       "      <td>bbc82122-eac1-418f-a808-213949c10147</td>\n",
       "    </tr>\n",
       "    <tr>\n",
       "      <th>3</th>\n",
       "      <td>скатерть</td>\n",
       "      <td>31.419</td>\n",
       "      <td>71460</td>\n",
       "      <td>bbc82122-eac1-418f-a808-213949c10147</td>\n",
       "    </tr>\n",
       "    <tr>\n",
       "      <th>4</th>\n",
       "      <td>штора</td>\n",
       "      <td>31.419</td>\n",
       "      <td>71460</td>\n",
       "      <td>bbc82122-eac1-418f-a808-213949c10147</td>\n",
       "    </tr>\n",
       "    <tr>\n",
       "      <th>5</th>\n",
       "      <td>простыня</td>\n",
       "      <td>29.613</td>\n",
       "      <td>71460</td>\n",
       "      <td>bbc82122-eac1-418f-a808-213949c10147</td>\n",
       "    </tr>\n",
       "  </tbody>\n",
       "</table>\n",
       "</div>"
      ],
      "text/plain": [
       "      items  scoring order_id                           customer_id\n",
       "0     сумка  212.774    71460  bbc82122-eac1-418f-a808-213949c10147\n",
       "1   сушилка  105.161    71460  bbc82122-eac1-418f-a808-213949c10147\n",
       "2     чехол   38.581    71460  bbc82122-eac1-418f-a808-213949c10147\n",
       "3  скатерть   31.419    71460  bbc82122-eac1-418f-a808-213949c10147\n",
       "4     штора   31.419    71460  bbc82122-eac1-418f-a808-213949c10147\n",
       "5  простыня   29.613    71460  bbc82122-eac1-418f-a808-213949c10147"
      ]
     },
     "execution_count": 123,
     "metadata": {},
     "output_type": "execute_result"
    }
   ],
   "source": [
    "rec_items_clients[rec_items_clients['order_id'] == 71460]"
   ]
  },
  {
   "cell_type": "markdown",
   "metadata": {
    "ExecuteTime": {
     "end_time": "2021-05-10T11:53:11.930040Z",
     "start_time": "2021-05-10T11:53:11.925168Z"
    }
   },
   "source": [
    "## По товарам"
   ]
  },
  {
   "cell_type": "code",
   "execution_count": 124,
   "metadata": {
    "ExecuteTime": {
     "end_time": "2021-05-16T20:40:13.190621Z",
     "start_time": "2021-05-16T20:40:12.973767Z"
    }
   },
   "outputs": [
    {
     "data": {
      "image/png": "[encoded data removed]",
      "text/plain": [
       "<Figure size 864x432 with 1 Axes>"
      ]
     },
     "metadata": {},
     "output_type": "display_data"
    }
   ],
   "source": [
    "rec_items_clients['items'].value_counts().plot(style='o-')\n",
    "plt.xlabel('Название товара')\n",
    "plt.ylabel('Количество')\n",
    "plt.title('Количество товаров, встречающихся в рекомендациях'+'\\n');"
   ]
  },
  {
   "cell_type": "code",
   "execution_count": 125,
   "metadata": {
    "ExecuteTime": {
     "end_time": "2021-05-16T20:40:18.346743Z",
     "start_time": "2021-05-16T20:40:18.002464Z"
    }
   },
   "outputs": [
    {
     "data": {
      "image/png": "[encoded data removed]",
      "text/plain": [
       "<Figure size 864x432 with 1 Axes>"
      ]
     },
     "metadata": {},
     "output_type": "display_data"
    }
   ],
   "source": [
    "rec_items_clients['items'].value_counts(normalize=True).head(20).sort_values().plot(kind='barh')\n",
    "\n",
    "plt.xlabel('Охват в %')\n",
    "plt.title('Топ-20 товаров для рекомендаций по % охвата'+'\\n');"
   ]
  },
  {
   "cell_type": "code",
   "execution_count": 126,
   "metadata": {
    "ExecuteTime": {
     "end_time": "2021-05-16T20:40:20.280908Z",
     "start_time": "2021-05-16T20:40:20.265926Z"
    }
   },
   "outputs": [
    {
     "name": "stdout",
     "output_type": "stream",
     "text": [
      "Охват Топ-5 самых популярных товаров в рекомендациях: 31.00%\n"
     ]
    }
   ],
   "source": [
    "print('Охват Топ-5 самых популярных товаров в рекомендациях: {:.2%}'.format(rec_items_clients['items'].value_counts(normalize=True).head().sum()))"
   ]
  },
  {
   "cell_type": "code",
   "execution_count": 127,
   "metadata": {
    "ExecuteTime": {
     "end_time": "2021-05-16T20:40:21.773874Z",
     "start_time": "2021-05-16T20:40:21.757985Z"
    }
   },
   "outputs": [
    {
     "name": "stdout",
     "output_type": "stream",
     "text": [
      "Всего уникальных товаров для рекомендаций: 64\n",
      "Доля товаров, участвующих в рекомендациях: 28.19%\n"
     ]
    }
   ],
   "source": [
    "print('Всего уникальных товаров для рекомендаций:', rec_items_clients['items'].nunique())\n",
    "print('Доля товаров, участвующих в рекомендациях: {:.2%}'.format( \n",
    "     rec_items_clients['items'].nunique() /\\\n",
    "     df[df['is_regular_customer'] == 0]['category'].nunique()))"
   ]
  },
  {
   "cell_type": "code",
   "execution_count": 128,
   "metadata": {
    "ExecuteTime": {
     "end_time": "2021-05-16T20:40:26.476021Z",
     "start_time": "2021-05-16T20:40:26.266697Z"
    }
   },
   "outputs": [
    {
     "data": {
      "image/png": "[encoded data removed]",
      "text/plain": [
       "<Figure size 864x432 with 1 Axes>"
      ]
     },
     "metadata": {},
     "output_type": "display_data"
    }
   ],
   "source": [
    "rec_items_clients.groupby('items')['scoring'].mean().hist(bins=7)\n",
    "\n",
    "plt.xlabel('Средний скоринг для товара')\n",
    "plt.title('Гистограмма среднего скоринга по количеству товаров'+'\\n');"
   ]
  },
  {
   "cell_type": "markdown",
   "metadata": {},
   "source": [
    "## По клиентам"
   ]
  },
  {
   "cell_type": "code",
   "execution_count": 129,
   "metadata": {
    "ExecuteTime": {
     "end_time": "2021-05-16T20:40:30.610769Z",
     "start_time": "2021-05-16T20:40:30.595825Z"
    }
   },
   "outputs": [
    {
     "name": "stdout",
     "output_type": "stream",
     "text": [
      "Клиентов с рекомендациями: 1463\n",
      "Доля клиентов получивших рекомендацию: 68.81%\n"
     ]
    }
   ],
   "source": [
    "print('Клиентов с рекомендациями:', rec_items_clients['customer_id'].nunique())\n",
    "print('Доля клиентов получивших рекомендацию: {:.2%}'.format( \n",
    "     rec_items_clients['customer_id'].nunique() /\\\n",
    "     df[df['is_regular_customer'] == 0]['customer_id'].nunique()))"
   ]
  },
  {
   "cell_type": "code",
   "execution_count": 132,
   "metadata": {
    "ExecuteTime": {
     "end_time": "2021-05-16T20:40:50.584162Z",
     "start_time": "2021-05-16T20:40:50.288234Z"
    }
   },
   "outputs": [
    {
     "data": {
      "image/png": "[encoded data removed]",
      "text/plain": [
       "<Figure size 864x432 with 1 Axes>"
      ]
     },
     "metadata": {},
     "output_type": "display_data"
    }
   ],
   "source": [
    "rec_items_clients.groupby('customer_id')['scoring'].mean().hist(bins=40)\n",
    "\n",
    "plt.xlabel('Средний скоринг для клиентов')\n",
    "plt.title('Гистограмма среднего скоринга по клиентам');"
   ]
  },
  {
   "cell_type": "code",
   "execution_count": 133,
   "metadata": {
    "ExecuteTime": {
     "end_time": "2021-05-16T20:40:56.521518Z",
     "start_time": "2021-05-16T20:40:56.294260Z"
    }
   },
   "outputs": [
    {
     "data": {
      "image/png": "[encoded data removed]",
      "text/plain": [
       "<Figure size 864x432 with 1 Axes>"
      ]
     },
     "metadata": {},
     "output_type": "display_data"
    }
   ],
   "source": [
    "# как распределяется количество товаров на одного клиента\n",
    "\n",
    "rec_items_clients['order_id'].value_counts().value_counts(normalize=True).sort_index().plot(kind='barh')\n",
    "\n",
    "plt.xlabel('Охват в %')\n",
    "plt.ylabel('Количество товаров в одной рекомендации')\n",
    "plt.title('Диаграмма охвата количества товаров в одной рекомендации');"
   ]
  },
  {
   "cell_type": "code",
   "execution_count": 134,
   "metadata": {
    "ExecuteTime": {
     "end_time": "2021-05-16T20:41:00.505456Z",
     "start_time": "2021-05-16T20:41:00.481912Z"
    }
   },
   "outputs": [
    {
     "data": {
      "text/plain": [
       "0"
      ]
     },
     "execution_count": 134,
     "metadata": {},
     "output_type": "execute_result"
    }
   ],
   "source": [
    "# проверяем на наличие повторяющихся товаров в одной рекомендации\n",
    "\n",
    "temp = rec_items_clients.groupby('order_id')['items'].agg(['count', 'nunique'])\n",
    "len(temp[temp['count'] != temp['nunique']])"
   ]
  },
  {
   "cell_type": "markdown",
   "metadata": {},
   "source": [
    "# Заключение"
   ]
  },
  {
   "cell_type": "markdown",
   "metadata": {},
   "source": [
    "**Итого**\n",
    "\n",
    "На основе лога покупок в интернет магазине за определенный период были подготовлены товарные рекомендации для последующей Email рассылки. Формат результирующего файла определен сервисом Email рассылки - MindBox.\n",
    "\n",
    "Для вычисления товаров для рекомендаций использовался следующий алгоритм:\n",
    "1. Расчет вероятности заказа товара Y, если в первом заказе присутствует товар Х на основании заказов постоянных клиентов \n",
    "2. Расчет скоринга для каждого товара на основе произведения медианной стоимости и вероятности заказа\n",
    "3. Подготовка товарных рекомендаций на основе состава корзины для клиентов, совершивших первый заказ\n"
   ]
  },
  {
   "cell_type": "code",
   "execution_count": 135,
   "metadata": {
    "ExecuteTime": {
     "end_time": "2021-05-16T20:41:07.090217Z",
     "start_time": "2021-05-16T20:41:07.072621Z"
    }
   },
   "outputs": [
    {
     "ename": "NameError",
     "evalue": "name 'stop' is not defined",
     "output_type": "error",
     "traceback": [
      "\u001b[0;31m---------------------------------------------------------------------------\u001b[0m",
      "\u001b[0;31mNameError\u001b[0m                                 Traceback (most recent call last)",
      "\u001b[0;32m<ipython-input-135-4f76a9dad686>\u001b[0m in \u001b[0;36m<module>\u001b[0;34m\u001b[0m\n\u001b[0;32m----> 1\u001b[0;31m \u001b[0mstop\u001b[0m\u001b[0;34m\u001b[0m\u001b[0;34m\u001b[0m\u001b[0m\n\u001b[0m",
      "\u001b[0;31mNameError\u001b[0m: name 'stop' is not defined"
     ]
    }
   ],
   "source": [
    "stop"
   ]
  },
  {
   "cell_type": "code",
   "execution_count": null,
   "metadata": {},
   "outputs": [],
   "source": [
    "rec_items_clients.to_csv('rec_items_clients_final.csv')"
   ]
  }
 ],
 "metadata": {
  "kernelspec": {
   "display_name": "Python 3",
   "language": "python",
   "name": "python3"
  },
  "language_info": {
   "codemirror_mode": {
    "name": "ipython",
    "version": 3
   },
   "file_extension": ".py",
   "mimetype": "text/x-python",
   "name": "python",
   "nbconvert_exporter": "python",
   "pygments_lexer": "ipython3",
   "version": "3.6.7"
  },
  "latex_envs": {
   "LaTeX_envs_menu_present": true,
   "autoclose": false,
   "autocomplete": true,
   "bibliofile": "biblio.bib",
   "cite_by": "apalike",
   "current_citInitial": 1,
   "eqLabelWithNumbers": true,
   "eqNumInitial": 1,
   "hotkeys": {
    "equation": "Ctrl-E",
    "itemize": "Ctrl-I"
   },
   "labels_anchors": false,
   "latex_user_defs": false,
   "report_style_numbering": false,
   "user_envs_cfg": false
  },
  "toc": {
   "base_numbering": 1,
   "nav_menu": {},
   "number_sections": true,
   "sideBar": true,
   "skip_h1_title": false,
   "title_cell": "Table of Contents",
   "title_sidebar": "Contents",
   "toc_cell": false,
   "toc_position": {
    "height": "calc(100% - 180px)",
    "left": "10px",
    "top": "150px",
    "width": "384px"
   },
   "toc_section_display": true,
   "toc_window_display": true
  }
 },
 "nbformat": 4,
 "nbformat_minor": 2
}
