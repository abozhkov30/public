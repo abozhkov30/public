{
 "cells": [
  {
   "cell_type": "markdown",
   "metadata": {},
   "source": [
    "**ТОВАРНЫЕ РЕКОМЕНДАЦИИ ДЛЯ E-COMM**"
   ]
  },
  {
   "cell_type": "markdown",
   "metadata": {},
   "source": [
    "**Часть 2 - Процессинг**"
   ]
  },
  {
   "cell_type": "markdown",
   "metadata": {
    "ExecuteTime": {
     "end_time": "2021-05-10T13:42:18.648256Z",
     "start_time": "2021-05-10T13:42:18.638040Z"
    }
   },
   "source": [
    "**Датасет**:  Описывает лог покупок в интернет магазине за определенный период\n",
    "\n",
    "**Цель**: На основании данных предоставить товарные рекомендации для последующей Email рассылки."
   ]
  },
  {
   "cell_type": "markdown",
   "metadata": {
    "ExecuteTime": {
     "end_time": "2021-05-10T13:44:41.292476Z",
     "start_time": "2021-05-10T13:44:41.277691Z"
    }
   },
   "source": [
    "**Описание алгоритма**\n",
    "\n",
    "**Шаг 1** \n",
    "\n",
    "**Задача:** Подсчитать с какой вероятностью будет куплен товар Y, если товар в первом заказе Х на основании покупок постоянных клиентов\n",
    "\n",
    "**Результат:** Матрица вероятности, где на пересечении товара Y c товаром Х указана вероятность заказа товара Y, если товар в первом заказе X\n",
    "\n",
    "\n",
    "**Шаг 2** \n",
    "\n",
    "**Задача:** Рассчитать скоринг для каждого товара Y\n",
    "\n",
    "**Результат:** Предыдущая матрица, умноженная на среднюю стоимость товара Y\n",
    "\n",
    "**Шаг 3:** \n",
    "\n",
    "**Задача:** Подготовить список рекомендаций для каждого клиента\n",
    "\n",
    "**Результат:** Топ-N товаров c сортировкой по скорингу для каждого клиента"
   ]
  },
  {
   "cell_type": "code",
   "execution_count": 1,
   "metadata": {
    "ExecuteTime": {
     "end_time": "2021-05-10T11:10:52.733979Z",
     "start_time": "2021-05-10T11:10:51.603134Z"
    }
   },
   "outputs": [],
   "source": [
    "# import libraries\n",
    "import pandas as pd\n",
    "import numpy as np\n",
    "import matplotlib.pyplot as plt\n",
    "import seaborn as sns\n",
    "# import datetime as dt\n",
    "import re\n",
    "\n",
    "from datetime import date\n",
    "from datetime import timedelta\n",
    "\n",
    "from tqdm import tqdm_notebook as tqdm\n",
    "\n",
    "%matplotlib inline"
   ]
  },
  {
   "cell_type": "code",
   "execution_count": 2,
   "metadata": {
    "ExecuteTime": {
     "end_time": "2021-05-10T11:10:52.785448Z",
     "start_time": "2021-05-10T11:10:52.782129Z"
    }
   },
   "outputs": [],
   "source": [
    "# size of figure\n",
    "plt.rcParams[\"figure.figsize\"] = (12,6) # размер графиков для всего блокнота"
   ]
  },
  {
   "cell_type": "code",
   "execution_count": 3,
   "metadata": {
    "ExecuteTime": {
     "end_time": "2021-05-10T11:10:53.103145Z",
     "start_time": "2021-05-10T11:10:53.099687Z"
    }
   },
   "outputs": [],
   "source": [
    "plt.style.use('ggplot') # default style"
   ]
  },
  {
   "cell_type": "code",
   "execution_count": 67,
   "metadata": {
    "ExecuteTime": {
     "end_time": "2021-05-10T11:56:24.362837Z",
     "start_time": "2021-05-10T11:56:24.356537Z"
    }
   },
   "outputs": [],
   "source": [
    "# display float format\n",
    "\n",
    "pd.options.display.float_format = '{:.3f}'.format\n"
   ]
  },
  {
   "cell_type": "markdown",
   "metadata": {},
   "source": [
    "# Загрузка"
   ]
  },
  {
   "cell_type": "code",
   "execution_count": 426,
   "metadata": {
    "ExecuteTime": {
     "end_time": "2021-05-10T14:44:02.127467Z",
     "start_time": "2021-05-10T14:44:02.089560Z"
    }
   },
   "outputs": [
    {
     "data": {
      "text/html": [
       "<div>\n",
       "<style scoped>\n",
       "    .dataframe tbody tr th:only-of-type {\n",
       "        vertical-align: middle;\n",
       "    }\n",
       "\n",
       "    .dataframe tbody tr th {\n",
       "        vertical-align: top;\n",
       "    }\n",
       "\n",
       "    .dataframe thead th {\n",
       "        text-align: right;\n",
       "    }\n",
       "</style>\n",
       "<table border=\"1\" class=\"dataframe\">\n",
       "  <thead>\n",
       "    <tr style=\"text-align: right;\">\n",
       "      <th></th>\n",
       "      <th>date</th>\n",
       "      <th>customer_id</th>\n",
       "      <th>order_id</th>\n",
       "      <th>product</th>\n",
       "      <th>quantity</th>\n",
       "      <th>price</th>\n",
       "      <th>ds</th>\n",
       "      <th>cost</th>\n",
       "      <th>serial_order</th>\n",
       "      <th>regular</th>\n",
       "      <th>first_word</th>\n",
       "      <th>category</th>\n",
       "    </tr>\n",
       "  </thead>\n",
       "  <tbody>\n",
       "    <tr>\n",
       "      <th>1792</th>\n",
       "      <td>2019-02-28 00:00:00</td>\n",
       "      <td>08199320-6a87-4a2c-8565-dfc0c8484184</td>\n",
       "      <td>70501</td>\n",
       "      <td>гипсофила аврора 80 см израиль 25 штук в упаковке</td>\n",
       "      <td>1</td>\n",
       "      <td>67.000</td>\n",
       "      <td>2019-02-28 09:00:00</td>\n",
       "      <td>67.000</td>\n",
       "      <td>2</td>\n",
       "      <td>1</td>\n",
       "      <td>гипсофила</td>\n",
       "      <td>гипсофила</td>\n",
       "    </tr>\n",
       "  </tbody>\n",
       "</table>\n",
       "</div>"
      ],
      "text/plain": [
       "                     date                           customer_id  order_id  \\\n",
       "1792  2019-02-28 00:00:00  08199320-6a87-4a2c-8565-dfc0c8484184     70501   \n",
       "\n",
       "                                                product  quantity  price  \\\n",
       "1792  гипсофила аврора 80 см израиль 25 штук в упаковке         1 67.000   \n",
       "\n",
       "                       ds   cost  serial_order  regular first_word   category  \n",
       "1792  2019-02-28 09:00:00 67.000             2        1  гипсофила  гипсофила  "
      ]
     },
     "execution_count": 426,
     "metadata": {},
     "output_type": "execute_result"
    }
   ],
   "source": [
    "df = pd.read_csv('ecommerce_dataset_preprocessed.csv') # data from part1\n",
    "df.sample()"
   ]
  },
  {
   "cell_type": "code",
   "execution_count": 427,
   "metadata": {
    "ExecuteTime": {
     "end_time": "2021-05-10T14:44:03.021779Z",
     "start_time": "2021-05-10T14:44:03.003640Z"
    }
   },
   "outputs": [
    {
     "name": "stdout",
     "output_type": "stream",
     "text": [
      "<class 'pandas.core.frame.DataFrame'>\n",
      "RangeIndex: 4953 entries, 0 to 4952\n",
      "Data columns (total 12 columns):\n",
      " #   Column        Non-Null Count  Dtype  \n",
      "---  ------        --------------  -----  \n",
      " 0   date          4953 non-null   object \n",
      " 1   customer_id   4953 non-null   object \n",
      " 2   order_id      4953 non-null   int64  \n",
      " 3   product       4953 non-null   object \n",
      " 4   quantity      4953 non-null   int64  \n",
      " 5   price         4953 non-null   float64\n",
      " 6   ds            4953 non-null   object \n",
      " 7   cost          4953 non-null   float64\n",
      " 8   serial_order  4953 non-null   int64  \n",
      " 9   regular       4953 non-null   int64  \n",
      " 10  first_word    4953 non-null   object \n",
      " 11  category      4953 non-null   object \n",
      "dtypes: float64(2), int64(4), object(6)\n",
      "memory usage: 464.5+ KB\n"
     ]
    }
   ],
   "source": [
    "df.info()"
   ]
  },
  {
   "cell_type": "code",
   "execution_count": 428,
   "metadata": {
    "ExecuteTime": {
     "end_time": "2021-05-10T14:44:03.862269Z",
     "start_time": "2021-05-10T14:44:03.848060Z"
    }
   },
   "outputs": [
    {
     "name": "stdout",
     "output_type": "stream",
     "text": [
      "customer_id : 2451\n",
      "---\n",
      "order_id : 2784\n",
      "---\n",
      "product : 2341\n",
      "---\n",
      "category : 393\n",
      "---\n"
     ]
    }
   ],
   "source": [
    "for x in ['customer_id', 'order_id', 'product', 'category']:\n",
    "    print(x,':', df[x].nunique())\n",
    "    print('---')"
   ]
  },
  {
   "cell_type": "code",
   "execution_count": 429,
   "metadata": {
    "ExecuteTime": {
     "end_time": "2021-05-10T14:44:07.436696Z",
     "start_time": "2021-05-10T14:44:07.424306Z"
    }
   },
   "outputs": [
    {
     "name": "stdout",
     "output_type": "stream",
     "text": [
      "Количество клиентов, которые сделали больше 2-х заказов: 165\n"
     ]
    }
   ],
   "source": [
    "print('Количество клиентов, которые сделали больше 2-х заказов:', end=' ')\n",
    "print(df[df['regular'] == 1]['customer_id'].nunique())"
   ]
  },
  {
   "cell_type": "code",
   "execution_count": 430,
   "metadata": {
    "ExecuteTime": {
     "end_time": "2021-05-10T14:44:09.316253Z",
     "start_time": "2021-05-10T14:44:09.295180Z"
    }
   },
   "outputs": [
    {
     "data": {
      "text/plain": [
       "1      2288\n",
       "2       135\n",
       "3        20\n",
       "4         3\n",
       "5         1\n",
       "7         1\n",
       "17        1\n",
       "35        1\n",
       "126       1\n",
       "Name: serial_order, dtype: int64"
      ]
     },
     "execution_count": 430,
     "metadata": {},
     "output_type": "execute_result"
    }
   ],
   "source": [
    "# максимальное количество заказов на каждого клиента в датасете\n",
    "\n",
    "df.groupby('customer_id')['serial_order'].max().value_counts().sort_index()"
   ]
  },
  {
   "cell_type": "code",
   "execution_count": 431,
   "metadata": {
    "ExecuteTime": {
     "end_time": "2021-05-10T14:44:12.968320Z",
     "start_time": "2021-05-10T14:44:12.952487Z"
    }
   },
   "outputs": [
    {
     "name": "stdout",
     "output_type": "stream",
     "text": [
      "Уникальное количество товаров в первых заказах: 2169\n",
      "Уникальное количество товаров в последующих заказах: 452\n"
     ]
    }
   ],
   "source": [
    "print('Уникальное количество товаров в первых заказах:', df[df['serial_order'] == 1]['product'].nunique())\n",
    "print('Уникальное количество товаров в последующих заказах:', df[df['serial_order'] > 1]['product'].nunique())"
   ]
  },
  {
   "cell_type": "code",
   "execution_count": 432,
   "metadata": {
    "ExecuteTime": {
     "end_time": "2021-05-10T14:44:14.616224Z",
     "start_time": "2021-05-10T14:44:14.598103Z"
    }
   },
   "outputs": [
    {
     "name": "stdout",
     "output_type": "stream",
     "text": [
      "Уникальное количество категорий в первых заказах: 383\n",
      "Уникальное количество категорий в последующих заказах: 129\n"
     ]
    }
   ],
   "source": [
    "print('Уникальное количество категорий в первых заказах:', df[df['serial_order'] == 1]['category'].nunique())\n",
    "print('Уникальное количество категорий в последующих заказах:', df[df['serial_order'] > 1]['category'].nunique())"
   ]
  },
  {
   "cell_type": "markdown",
   "metadata": {
    "ExecuteTime": {
     "end_time": "2021-05-10T13:59:34.969277Z",
     "start_time": "2021-05-10T13:59:34.960633Z"
    }
   },
   "source": [
    "**Итог**\n",
    "\n",
    "Для группировки товарных рекомендаций были выбраны категории товаров (`category`), поскольку товар (`product`) обладает слишком высокой разрядностью. \n",
    "\n",
    "Далее в комментариях и описании под товаром подразумевается категория товара (`category`)."
   ]
  },
  {
   "cell_type": "markdown",
   "metadata": {},
   "source": [
    "# Config"
   ]
  },
  {
   "cell_type": "code",
   "execution_count": 443,
   "metadata": {
    "ExecuteTime": {
     "end_time": "2021-05-10T14:45:52.312450Z",
     "start_time": "2021-05-10T14:45:52.305558Z"
    }
   },
   "outputs": [],
   "source": [
    "max_orders_for_client # отсечка для количества покупок, совершенных постоянным клиентом\n",
    "normalize = 'customer_id' # как нормализировать рекомендации\n",
    "item = 'category' # что именно рекомендуем\n",
    "\n",
    "min_n_rec_items = 2 # минимальное количество товаров для рекомендаций\n",
    "max_n_rec_items = 6 # максимальное количество товаров для рекомендаций"
   ]
  },
  {
   "cell_type": "code",
   "execution_count": 444,
   "metadata": {
    "ExecuteTime": {
     "end_time": "2021-05-10T14:45:52.775601Z",
     "start_time": "2021-05-10T14:45:52.760363Z"
    }
   },
   "outputs": [],
   "source": [
    "# отсечка для количества покупок, совершенных постоянным клиентом\n",
    "\n",
    "max_orders_for_client = (df\n",
    "                         .groupby('customer_id')['serial_order'].max()\n",
    "                         .quantile(.999)) "
   ]
  },
  {
   "cell_type": "code",
   "execution_count": 445,
   "metadata": {
    "ExecuteTime": {
     "end_time": "2021-05-10T14:45:53.152294Z",
     "start_time": "2021-05-10T14:45:53.148220Z"
    }
   },
   "outputs": [
    {
     "name": "stdout",
     "output_type": "stream",
     "text": [
      "max_orders_for_client = 12.50\n"
     ]
    }
   ],
   "source": [
    "print('max_orders_for_client = {:.2f}'.format(max_orders_for_client))"
   ]
  },
  {
   "cell_type": "markdown",
   "metadata": {},
   "source": [
    "# Матрица вероятности для товаров"
   ]
  },
  {
   "cell_type": "markdown",
   "metadata": {
    "code_folding": []
   },
   "source": [
    "## Определяем товары, участвующие в первых заказах постоянных клиентов"
   ]
  },
  {
   "cell_type": "code",
   "execution_count": 446,
   "metadata": {
    "ExecuteTime": {
     "end_time": "2021-05-10T14:45:59.710110Z",
     "start_time": "2021-05-10T14:45:59.696154Z"
    }
   },
   "outputs": [],
   "source": [
    "# выберем все товары в первых заказах тех клиентов, которые делали больше одной покупки \n",
    "\n",
    "first_items = df[(df['serial_order'] == 1)&(df['regular'] == 1)][[normalize, item]]\n",
    "first_items.columns = [normalize, 'first_items']"
   ]
  },
  {
   "cell_type": "code",
   "execution_count": 447,
   "metadata": {
    "ExecuteTime": {
     "end_time": "2021-05-10T14:46:04.400151Z",
     "start_time": "2021-05-10T14:46:04.382683Z"
    }
   },
   "outputs": [
    {
     "data": {
      "text/html": [
       "<div>\n",
       "<style scoped>\n",
       "    .dataframe tbody tr th:only-of-type {\n",
       "        vertical-align: middle;\n",
       "    }\n",
       "\n",
       "    .dataframe tbody tr th {\n",
       "        vertical-align: top;\n",
       "    }\n",
       "\n",
       "    .dataframe thead th {\n",
       "        text-align: right;\n",
       "    }\n",
       "</style>\n",
       "<table border=\"1\" class=\"dataframe\">\n",
       "  <thead>\n",
       "    <tr style=\"text-align: right;\">\n",
       "      <th></th>\n",
       "      <th>customer_id</th>\n",
       "      <th>first_items</th>\n",
       "    </tr>\n",
       "  </thead>\n",
       "  <tbody>\n",
       "    <tr>\n",
       "      <th>9</th>\n",
       "      <td>c971fb21-d54c-4134-938f-16b62ee86d3b</td>\n",
       "      <td>чехол</td>\n",
       "    </tr>\n",
       "    <tr>\n",
       "      <th>12</th>\n",
       "      <td>4d93d3f6-8b24-403b-a74b-f5173e40d7db</td>\n",
       "      <td>чехол</td>\n",
       "    </tr>\n",
       "    <tr>\n",
       "      <th>52</th>\n",
       "      <td>49b9c587-c19e-4481-bace-967aeac357fa</td>\n",
       "      <td>пеларгония</td>\n",
       "    </tr>\n",
       "    <tr>\n",
       "      <th>53</th>\n",
       "      <td>49b9c587-c19e-4481-bace-967aeac357fa</td>\n",
       "      <td>пеларгония</td>\n",
       "    </tr>\n",
       "    <tr>\n",
       "      <th>54</th>\n",
       "      <td>49b9c587-c19e-4481-bace-967aeac357fa</td>\n",
       "      <td>пеларгония</td>\n",
       "    </tr>\n",
       "  </tbody>\n",
       "</table>\n",
       "</div>"
      ],
      "text/plain": [
       "                             customer_id first_items\n",
       "9   c971fb21-d54c-4134-938f-16b62ee86d3b       чехол\n",
       "12  4d93d3f6-8b24-403b-a74b-f5173e40d7db       чехол\n",
       "52  49b9c587-c19e-4481-bace-967aeac357fa  пеларгония\n",
       "53  49b9c587-c19e-4481-bace-967aeac357fa  пеларгония\n",
       "54  49b9c587-c19e-4481-bace-967aeac357fa  пеларгония"
      ]
     },
     "execution_count": 447,
     "metadata": {},
     "output_type": "execute_result"
    }
   ],
   "source": [
    "first_items.head()"
   ]
  },
  {
   "cell_type": "code",
   "execution_count": 454,
   "metadata": {
    "ExecuteTime": {
     "end_time": "2021-05-10T14:46:54.873828Z",
     "start_time": "2021-05-10T14:46:54.863843Z"
    }
   },
   "outputs": [
    {
     "data": {
      "text/plain": [
       "82"
      ]
     },
     "execution_count": 454,
     "metadata": {},
     "output_type": "execute_result"
    }
   ],
   "source": [
    "# количество уникальных товаров\n",
    "\n",
    "n_first_items = first_items['first_items'].nunique()\n",
    "n_first_items"
   ]
  },
  {
   "cell_type": "code",
   "execution_count": 449,
   "metadata": {
    "ExecuteTime": {
     "end_time": "2021-05-10T14:46:12.846209Z",
     "start_time": "2021-05-10T14:46:12.828638Z"
    }
   },
   "outputs": [
    {
     "data": {
      "text/plain": [
       "1   0.598\n",
       "2   0.134\n",
       "3   0.024\n",
       "4   0.049\n",
       "5   0.061\n",
       "Name: first_items, dtype: float64"
      ]
     },
     "execution_count": 449,
     "metadata": {},
     "output_type": "execute_result"
    }
   ],
   "source": [
    "# распределение по уникальным товарам в первых заказах\n",
    "\n",
    "first_items.groupby('first_items')['first_items'].count().value_counts(normalize=True).sort_index().head()"
   ]
  },
  {
   "cell_type": "markdown",
   "metadata": {},
   "source": [
    "**Комментарий**\n",
    "\n",
    "Наблюдаем ~60% уникальных товаров, которые встречались лишь 1 раз среди первых заказов. Выводы на таком количестве данных будут носить недостоверный характер. \n",
    "Но, при их удалении количество уникальных товаров появится другая проблема - нехватка данных для рекомендаций.\n",
    "\n",
    "Из-за размера датасета было принято решение оставить товары, которые встречались лишь 1 раз среди первых заказов"
   ]
  },
  {
   "cell_type": "markdown",
   "metadata": {},
   "source": [
    "## Определяем товары, участвующие в последующих заказах постоянных клиентов"
   ]
  },
  {
   "cell_type": "code",
   "execution_count": 450,
   "metadata": {
    "ExecuteTime": {
     "end_time": "2021-05-10T14:46:24.310280Z",
     "start_time": "2021-05-10T14:46:24.294398Z"
    }
   },
   "outputs": [],
   "source": [
    "# создадим датасет с товарами для заказов, которые являются вторыми и следующими\n",
    "\n",
    "next_items = df[(df['serial_order'].between(2, max_orders_for_client))][[normalize, item, 'serial_order']]\n",
    "\n",
    "next_items.columns = [normalize, 'next_items', 'serial_order']"
   ]
  },
  {
   "cell_type": "code",
   "execution_count": 453,
   "metadata": {
    "ExecuteTime": {
     "end_time": "2021-05-10T14:46:41.312725Z",
     "start_time": "2021-05-10T14:46:41.302970Z"
    }
   },
   "outputs": [
    {
     "data": {
      "text/plain": [
       "98"
      ]
     },
     "execution_count": 453,
     "metadata": {},
     "output_type": "execute_result"
    }
   ],
   "source": [
    "# количество уникальных товаров\n",
    "\n",
    "n_next_items = next_items['next_items'].nunique()\n",
    "n_next_items"
   ]
  },
  {
   "cell_type": "code",
   "execution_count": 259,
   "metadata": {
    "ExecuteTime": {
     "end_time": "2021-05-10T14:06:16.764085Z",
     "start_time": "2021-05-10T14:06:16.750120Z"
    }
   },
   "outputs": [
    {
     "data": {
      "text/plain": [
       "1   0.449\n",
       "2   0.214\n",
       "3   0.082\n",
       "4   0.092\n",
       "5   0.020\n",
       "Name: next_items, dtype: float64"
      ]
     },
     "execution_count": 259,
     "metadata": {},
     "output_type": "execute_result"
    }
   ],
   "source": [
    "# распределение частоты встречания по уникальным товарам в последующих заказах\n",
    "\n",
    "next_items.groupby('next_items')['next_items'].count().value_counts(normalize=True).sort_index().head()"
   ]
  },
  {
   "cell_type": "markdown",
   "metadata": {
    "ExecuteTime": {
     "end_time": "2021-05-02T20:38:16.265707Z",
     "start_time": "2021-05-02T20:38:16.255261Z"
    }
   },
   "source": [
    "## Расчет матрицы вероятности заказа товара"
   ]
  },
  {
   "cell_type": "code",
   "execution_count": 457,
   "metadata": {
    "ExecuteTime": {
     "end_time": "2021-05-10T14:47:21.700099Z",
     "start_time": "2021-05-10T14:47:21.686583Z"
    }
   },
   "outputs": [],
   "source": [
    "# объединим датасет с товарами для первых заказов и датасет с товарами для вторых и последующих заказов\n",
    "\n",
    "products = first_items.merge(next_items, on=normalize)\n",
    "products = products.iloc[:,1:-1]"
   ]
  },
  {
   "cell_type": "code",
   "execution_count": 467,
   "metadata": {
    "ExecuteTime": {
     "end_time": "2021-05-10T14:50:31.360631Z",
     "start_time": "2021-05-10T14:50:29.977908Z"
    }
   },
   "outputs": [],
   "source": [
    "# создадим пустой датасет с индексом на котором будем делать матрицresult_prob.columns = ['next_items']\n",
    "\n",
    "result_prob = pd.DataFrame(products['next_items'].unique(), columns=['next_items']) \n",
    "\n",
    "for first_item in products['first_items'].unique(): # пройдемся по уникальным значениям товаров из первых заказов\n",
    "    \n",
    "    # сформируем вероятность для каждого первого товара\n",
    "    \n",
    "    prob_next_items = products[products['first_items'] == first_item]['next_items'].value_counts(normalize=True).reset_index() \n",
    "    prob_next_items.columns = ['next_items', first_item] \n",
    "    \n",
    "    # присоединим к подготовленному датасету\n",
    "    \n",
    "    result_prob = result_prob.merge(prob_next_items, on='next_items', how='outer')  \n",
    "\n",
    "result_prob = result_prob.set_index('next_items')\n",
    "result_prob = result_prob.fillna(0)"
   ]
  },
  {
   "cell_type": "code",
   "execution_count": 476,
   "metadata": {
    "ExecuteTime": {
     "end_time": "2021-05-10T14:52:28.578381Z",
     "start_time": "2021-05-10T14:52:28.569886Z"
    }
   },
   "outputs": [
    {
     "data": {
      "text/plain": [
       "True"
      ]
     },
     "execution_count": 476,
     "metadata": {},
     "output_type": "execute_result"
    }
   ],
   "source": [
    "# проверяем, что в получившейся таблице количество первых и последующих уникальных товаров соответствует начальным\n",
    "\n",
    "result_prob.shape == (n_next_items, n_first_items)"
   ]
  },
  {
   "cell_type": "code",
   "execution_count": 477,
   "metadata": {
    "ExecuteTime": {
     "end_time": "2021-05-10T14:52:31.236419Z",
     "start_time": "2021-05-10T14:52:30.236572Z"
    }
   },
   "outputs": [
    {
     "data": {
      "image/png": "[encoded data removed]",
      "text/plain": [
       "<Figure size 864x432 with 2 Axes>"
      ]
     },
     "metadata": {},
     "output_type": "display_data"
    }
   ],
   "source": [
    "# вид матрицы для первых 10 столбцов и строк\n",
    "sns.heatmap(result_prob.iloc[:10,:10], annot=True, fmt=\".2f\")\n",
    "plt.title('Matrix probability for products'+ '\\n')\n",
    "plt.xlabel('first_items')\n",
    "plt.show();"
   ]
  },
  {
   "cell_type": "code",
   "execution_count": 484,
   "metadata": {
    "ExecuteTime": {
     "end_time": "2021-05-10T14:53:56.661279Z",
     "start_time": "2021-05-10T14:53:56.644486Z"
    }
   },
   "outputs": [
    {
     "data": {
      "text/html": [
       "<div>\n",
       "<style scoped>\n",
       "    .dataframe tbody tr th:only-of-type {\n",
       "        vertical-align: middle;\n",
       "    }\n",
       "\n",
       "    .dataframe tbody tr th {\n",
       "        vertical-align: top;\n",
       "    }\n",
       "\n",
       "    .dataframe thead th {\n",
       "        text-align: right;\n",
       "    }\n",
       "</style>\n",
       "<table border=\"1\" class=\"dataframe\">\n",
       "  <thead>\n",
       "    <tr style=\"text-align: right;\">\n",
       "      <th></th>\n",
       "      <th>next_items</th>\n",
       "      <th>чехол</th>\n",
       "    </tr>\n",
       "  </thead>\n",
       "  <tbody>\n",
       "    <tr>\n",
       "      <th>0</th>\n",
       "      <td>сушилка</td>\n",
       "      <td>0.125</td>\n",
       "    </tr>\n",
       "    <tr>\n",
       "      <th>1</th>\n",
       "      <td>сумка</td>\n",
       "      <td>0.125</td>\n",
       "    </tr>\n",
       "    <tr>\n",
       "      <th>2</th>\n",
       "      <td>чехол</td>\n",
       "      <td>0.094</td>\n",
       "    </tr>\n",
       "    <tr>\n",
       "      <th>3</th>\n",
       "      <td>таз</td>\n",
       "      <td>0.062</td>\n",
       "    </tr>\n",
       "    <tr>\n",
       "      <th>4</th>\n",
       "      <td>щетка</td>\n",
       "      <td>0.062</td>\n",
       "    </tr>\n",
       "    <tr>\n",
       "      <th>5</th>\n",
       "      <td>ложка</td>\n",
       "      <td>0.062</td>\n",
       "    </tr>\n",
       "    <tr>\n",
       "      <th>6</th>\n",
       "      <td>набор</td>\n",
       "      <td>0.031</td>\n",
       "    </tr>\n",
       "    <tr>\n",
       "      <th>7</th>\n",
       "      <td>тележка</td>\n",
       "      <td>0.031</td>\n",
       "    </tr>\n",
       "    <tr>\n",
       "      <th>8</th>\n",
       "      <td>скатерть</td>\n",
       "      <td>0.031</td>\n",
       "    </tr>\n",
       "    <tr>\n",
       "      <th>9</th>\n",
       "      <td>стяжка</td>\n",
       "      <td>0.031</td>\n",
       "    </tr>\n",
       "    <tr>\n",
       "      <th>10</th>\n",
       "      <td>цветок</td>\n",
       "      <td>0.031</td>\n",
       "    </tr>\n",
       "    <tr>\n",
       "      <th>11</th>\n",
       "      <td>композиция</td>\n",
       "      <td>0.031</td>\n",
       "    </tr>\n",
       "  </tbody>\n",
       "</table>\n",
       "</div>"
      ],
      "text/plain": [
       "    next_items  чехол\n",
       "0      сушилка  0.125\n",
       "1        сумка  0.125\n",
       "2        чехол  0.094\n",
       "3          таз  0.062\n",
       "4        щетка  0.062\n",
       "5        ложка  0.062\n",
       "6        набор  0.031\n",
       "7      тележка  0.031\n",
       "8     скатерть  0.031\n",
       "9       стяжка  0.031\n",
       "10      цветок  0.031\n",
       "11  композиция  0.031"
      ]
     },
     "execution_count": 484,
     "metadata": {},
     "output_type": "execute_result"
    }
   ],
   "source": [
    "result_prob['чехол'].nlargest(max_n_rec_items*2).reset_index()"
   ]
  },
  {
   "cell_type": "code",
   "execution_count": 479,
   "metadata": {
    "ExecuteTime": {
     "end_time": "2021-05-10T14:52:36.015284Z",
     "start_time": "2021-05-10T14:52:35.994661Z"
    }
   },
   "outputs": [],
   "source": [
    "result_prob.to_csv('probability_matrix.csv')"
   ]
  },
  {
   "cell_type": "markdown",
   "metadata": {
    "ExecuteTime": {
     "start_time": "2021-02-12T06:58:40.719Z"
    }
   },
   "source": [
    "# Расчет скоринга для сортировки товарных рекомендаций\n",
    "\n",
    "Если к вероятности добавим информацию о стоимости товара, то получим математическое ожидание выручки.\n",
    "\n",
    "Мат. ожидание выручки будем использовать для сортировки товаров для рекомендаций."
   ]
  },
  {
   "cell_type": "code",
   "execution_count": 480,
   "metadata": {
    "ExecuteTime": {
     "end_time": "2021-05-10T14:52:42.311257Z",
     "start_time": "2021-05-10T14:52:42.298800Z"
    }
   },
   "outputs": [],
   "source": [
    "items_price_median = df.groupby('category')['price'].median().reset_index()"
   ]
  },
  {
   "cell_type": "code",
   "execution_count": 481,
   "metadata": {
    "ExecuteTime": {
     "end_time": "2021-05-10T14:53:22.757666Z",
     "start_time": "2021-05-10T14:53:22.625929Z"
    }
   },
   "outputs": [],
   "source": [
    "result_scoring = result_prob.copy()\n",
    "result_scoring = result_scoring.T\n",
    "\n",
    "\n",
    "for column in result_scoring:\n",
    "    cost = items_price_median[items_price_median[item] == column]['price'].sum()\n",
    "    result_scoring[column] = result_scoring[column] * cost\n",
    "    \n",
    "result_scoring = result_scoring.T"
   ]
  },
  {
   "cell_type": "code",
   "execution_count": 482,
   "metadata": {
    "ExecuteTime": {
     "end_time": "2021-05-10T14:53:25.017234Z",
     "start_time": "2021-05-10T14:53:25.000671Z"
    },
    "scrolled": true
   },
   "outputs": [
    {
     "data": {
      "text/html": [
       "<div>\n",
       "<style scoped>\n",
       "    .dataframe tbody tr th:only-of-type {\n",
       "        vertical-align: middle;\n",
       "    }\n",
       "\n",
       "    .dataframe tbody tr th {\n",
       "        vertical-align: top;\n",
       "    }\n",
       "\n",
       "    .dataframe thead th {\n",
       "        text-align: right;\n",
       "    }\n",
       "</style>\n",
       "<table border=\"1\" class=\"dataframe\">\n",
       "  <thead>\n",
       "    <tr style=\"text-align: right;\">\n",
       "      <th></th>\n",
       "      <th>next_items</th>\n",
       "      <th>чехол</th>\n",
       "    </tr>\n",
       "  </thead>\n",
       "  <tbody>\n",
       "    <tr>\n",
       "      <th>0</th>\n",
       "      <td>сумка</td>\n",
       "      <td>206.125</td>\n",
       "    </tr>\n",
       "    <tr>\n",
       "      <th>1</th>\n",
       "      <td>сушилка</td>\n",
       "      <td>81.500</td>\n",
       "    </tr>\n",
       "    <tr>\n",
       "      <th>2</th>\n",
       "      <td>скатерть</td>\n",
       "      <td>30.438</td>\n",
       "    </tr>\n",
       "    <tr>\n",
       "      <th>3</th>\n",
       "      <td>штора</td>\n",
       "      <td>30.438</td>\n",
       "    </tr>\n",
       "    <tr>\n",
       "      <th>4</th>\n",
       "      <td>простыня</td>\n",
       "      <td>29.281</td>\n",
       "    </tr>\n",
       "    <tr>\n",
       "      <th>5</th>\n",
       "      <td>чехол</td>\n",
       "      <td>28.031</td>\n",
       "    </tr>\n",
       "    <tr>\n",
       "      <th>6</th>\n",
       "      <td>чайник</td>\n",
       "      <td>23.406</td>\n",
       "    </tr>\n",
       "    <tr>\n",
       "      <th>7</th>\n",
       "      <td>тележка</td>\n",
       "      <td>22.938</td>\n",
       "    </tr>\n",
       "    <tr>\n",
       "      <th>8</th>\n",
       "      <td>контейнер</td>\n",
       "      <td>21.062</td>\n",
       "    </tr>\n",
       "    <tr>\n",
       "      <th>9</th>\n",
       "      <td>таз</td>\n",
       "      <td>14.938</td>\n",
       "    </tr>\n",
       "    <tr>\n",
       "      <th>10</th>\n",
       "      <td>набор</td>\n",
       "      <td>14.281</td>\n",
       "    </tr>\n",
       "    <tr>\n",
       "      <th>11</th>\n",
       "      <td>ложка</td>\n",
       "      <td>8.875</td>\n",
       "    </tr>\n",
       "  </tbody>\n",
       "</table>\n",
       "</div>"
      ],
      "text/plain": [
       "   next_items   чехол\n",
       "0       сумка 206.125\n",
       "1     сушилка  81.500\n",
       "2    скатерть  30.438\n",
       "3       штора  30.438\n",
       "4    простыня  29.281\n",
       "5       чехол  28.031\n",
       "6      чайник  23.406\n",
       "7     тележка  22.938\n",
       "8   контейнер  21.062\n",
       "9         таз  14.938\n",
       "10      набор  14.281\n",
       "11      ложка   8.875"
      ]
     },
     "execution_count": 482,
     "metadata": {},
     "output_type": "execute_result"
    }
   ],
   "source": [
    "result_scoring['чехол'].nlargest(round(max_n_rec_items*2)).reset_index()"
   ]
  },
  {
   "cell_type": "code",
   "execution_count": 497,
   "metadata": {
    "ExecuteTime": {
     "end_time": "2021-05-10T15:00:59.302927Z",
     "start_time": "2021-05-10T15:00:58.898101Z"
    }
   },
   "outputs": [
    {
     "data": {
      "text/plain": [
       "Text(0.5, 1.0, 'Диаграмма скоринга для каждого следующего товара\\n')"
      ]
     },
     "execution_count": 497,
     "metadata": {},
     "output_type": "execute_result"
    },
    {
     "data": {
      "image/png": "[encoded data removed]",
      "text/plain": [
       "<Figure size 864x432 with 1 Axes>"
      ]
     },
     "metadata": {},
     "output_type": "display_data"
    }
   ],
   "source": [
    "result_scoring[result_scoring>0].plot(style='o', legend=False)\n",
    "\n",
    "plt.ylabel('Скоринг')\n",
    "plt.title('Диаграмма скоринга для каждого следующего товара'+'\\n')"
   ]
  },
  {
   "cell_type": "code",
   "execution_count": 498,
   "metadata": {
    "ExecuteTime": {
     "end_time": "2021-05-10T15:01:10.166664Z",
     "start_time": "2021-05-10T15:01:09.185894Z"
    }
   },
   "outputs": [
    {
     "data": {
      "image/png": "[encoded data removed]",
      "text/plain": [
       "<Figure size 864x432 with 2 Axes>"
      ]
     },
     "metadata": {},
     "output_type": "display_data"
    }
   ],
   "source": [
    "# вид матрицы для первых 10 столбцов и строк\n",
    "sns.heatmap(result_scoring.iloc[:10,:10], annot=True, fmt=\".2f\")\n",
    "plt.title('Matrix scoring for products'+ '\\n')\n",
    "plt.xlabel('first_items')\n",
    "plt.show();"
   ]
  },
  {
   "cell_type": "code",
   "execution_count": 499,
   "metadata": {
    "ExecuteTime": {
     "end_time": "2021-05-10T15:01:31.862398Z",
     "start_time": "2021-05-10T15:01:31.849121Z"
    }
   },
   "outputs": [
    {
     "data": {
      "text/plain": [
       "239.0"
      ]
     },
     "execution_count": 499,
     "metadata": {},
     "output_type": "execute_result"
    }
   ],
   "source": [
    "df[df['category'] == 'таз']['price'].median()"
   ]
  },
  {
   "cell_type": "markdown",
   "metadata": {
    "ExecuteTime": {
     "end_time": "2021-05-04T10:35:09.676358Z",
     "start_time": "2021-05-04T10:35:09.668121Z"
    }
   },
   "source": [
    "# Формирование товарных рекомендаций для клиентов"
   ]
  },
  {
   "cell_type": "code",
   "execution_count": 500,
   "metadata": {
    "ExecuteTime": {
     "end_time": "2021-05-10T15:02:28.039632Z",
     "start_time": "2021-05-10T15:02:28.034780Z"
    }
   },
   "outputs": [],
   "source": [
    "# найдем х2 рекомендуемых товаров для каждого клиента"
   ]
  },
  {
   "cell_type": "code",
   "execution_count": 501,
   "metadata": {
    "ExecuteTime": {
     "end_time": "2021-05-10T15:02:32.916803Z",
     "start_time": "2021-05-10T15:02:32.901779Z"
    }
   },
   "outputs": [],
   "source": [
    "first_orders = df[df['serial_order'] == 1][['order_id', 'customer_id', 'regular']].drop_duplicates()"
   ]
  },
  {
   "cell_type": "code",
   "execution_count": 502,
   "metadata": {
    "ExecuteTime": {
     "end_time": "2021-05-10T15:02:34.034475Z",
     "start_time": "2021-05-10T15:02:34.014005Z"
    }
   },
   "outputs": [
    {
     "data": {
      "text/html": [
       "<div>\n",
       "<style scoped>\n",
       "    .dataframe tbody tr th:only-of-type {\n",
       "        vertical-align: middle;\n",
       "    }\n",
       "\n",
       "    .dataframe tbody tr th {\n",
       "        vertical-align: top;\n",
       "    }\n",
       "\n",
       "    .dataframe thead th {\n",
       "        text-align: right;\n",
       "    }\n",
       "</style>\n",
       "<table border=\"1\" class=\"dataframe\">\n",
       "  <thead>\n",
       "    <tr style=\"text-align: right;\">\n",
       "      <th></th>\n",
       "      <th>order_id</th>\n",
       "      <th>customer_id</th>\n",
       "      <th>category</th>\n",
       "    </tr>\n",
       "  </thead>\n",
       "  <tbody>\n",
       "    <tr>\n",
       "      <th>3765</th>\n",
       "      <td>14848</td>\n",
       "      <td>7d5d5657-5fdc-40d1-b7b6-bb04ede92b53</td>\n",
       "      <td>роза</td>\n",
       "    </tr>\n",
       "  </tbody>\n",
       "</table>\n",
       "</div>"
      ],
      "text/plain": [
       "      order_id                           customer_id category\n",
       "3765     14848  7d5d5657-5fdc-40d1-b7b6-bb04ede92b53     роза"
      ]
     },
     "execution_count": 502,
     "metadata": {},
     "output_type": "execute_result"
    }
   ],
   "source": [
    "# создадим таблицу с товарами в разрезе первых заказов\n",
    "\n",
    "items_first_all = df[(df['order_id'].isin(first_orders['order_id']))][['order_id', 'customer_id', 'category']]\n",
    "items_first_all.sample()"
   ]
  },
  {
   "cell_type": "code",
   "execution_count": 503,
   "metadata": {
    "ExecuteTime": {
     "end_time": "2021-05-10T15:03:02.517266Z",
     "start_time": "2021-05-10T15:03:02.496875Z"
    }
   },
   "outputs": [],
   "source": [
    "# добавим в result товары по которым отсутствуют рекомендации\n",
    "\n",
    "temp2 = pd.DataFrame(index=df[~df['category'].isin(result_scoring.T.reset_index()['index'])]['category'].unique().tolist())\n",
    "result_scoring = pd.concat([result_scoring.T, temp2]).fillna(0).T"
   ]
  },
  {
   "cell_type": "code",
   "execution_count": 408,
   "metadata": {
    "ExecuteTime": {
     "end_time": "2021-05-10T14:39:49.370846Z",
     "start_time": "2021-05-10T14:37:30.741922Z"
    },
    "scrolled": true
   },
   "outputs": [
    {
     "data": {
      "application/vnd.jupyter.widget-view+json": {
       "model_id": "01bea49d85244d3d9c2c4ca4e0ff9fd3",
       "version_major": 2,
       "version_minor": 0
      },
      "text/plain": [
       "HBox(children=(IntProgress(value=0, max=2421), HTML(value='')))"
      ]
     },
     "metadata": {},
     "output_type": "display_data"
    },
    {
     "name": "stdout",
     "output_type": "stream",
     "text": [
      "\n",
      "CPU times: user 1min 33s, sys: 46.2 s, total: 2min 19s\n",
      "Wall time: 2min 18s\n"
     ]
    }
   ],
   "source": [
    "%%time\n",
    "rec_items_orders = pd.DataFrame() # заготовка для будущего результата\n",
    "\n",
    "for order_number in tqdm(items_first_all['order_id'].unique()): # идем по всем уникальным первым заказам\n",
    "\n",
    "    # обнуляем таблицу куда складываем все товары, которые рекомендуем для заказа\n",
    "    \n",
    "    all_items = pd.DataFrame(columns=[0]) \n",
    "    \n",
    "    for items in items_first_all[items_first_all['order_id'] == order_number]['category'].unique():\n",
    "        \n",
    "        # складываем все рекомендуемые товары\n",
    "        \n",
    "        items_for_orders = result_scoring[result_scoring[items]>0][items].sort_values(ascending=False)\n",
    "        all_items = pd.concat([items_for_orders, all_items])\n",
    "        \n",
    "        # сортируем и удаляем дубликаты из таблицы, куда складываем все товары\n",
    "        \n",
    "        all_items_update = all_items.sort_values(by=0, ascending=False).reset_index().drop_duplicates(subset='index').set_index('index')\n",
    "        all_items_update.columns = [order_number]\n",
    "        all_items_update = all_items_update.fillna(0)\n",
    "        \n",
    "        # если находим товары для рекомендаций, то берем max и добавляем в результирующую таблицу\n",
    "        \n",
    "        if all_items_update.sum().sum() > 0:\n",
    "            all_items_update = all_items_update.nlargest(max_n_rec_items*2, order_number)\n",
    "            rec_items_orders = pd.concat([rec_items_orders, all_items_update])\n",
    "\n",
    "rec_items_orders = rec_items_orders.fillna(0).reset_index().groupby('index').sum()"
   ]
  },
  {
   "cell_type": "code",
   "execution_count": 409,
   "metadata": {
    "ExecuteTime": {
     "end_time": "2021-05-10T14:39:52.728518Z",
     "start_time": "2021-05-10T14:39:52.595114Z"
    }
   },
   "outputs": [
    {
     "name": "stdout",
     "output_type": "stream",
     "text": [
      "<class 'pandas.core.frame.DataFrame'>\n",
      "Index: 93 entries, алиссум to этажерка\n",
      "Columns: 1927 entries, 13547 to 73162\n",
      "dtypes: float64(1927)\n",
      "memory usage: 1.4+ MB\n"
     ]
    }
   ],
   "source": [
    "rec_items_orders.info()"
   ]
  },
  {
   "cell_type": "code",
   "execution_count": 504,
   "metadata": {
    "ExecuteTime": {
     "end_time": "2021-05-10T15:05:55.571798Z",
     "start_time": "2021-05-10T15:05:55.216393Z"
    }
   },
   "outputs": [
    {
     "name": "stdout",
     "output_type": "stream",
     "text": [
      "68510 29.0\n",
      "68592 20.0\n",
      "69934 29.0\n",
      "70179 29.0\n",
      "70450 29.0\n",
      "71007 15.0\n",
      "71232 15.0\n",
      "71885 20.0\n",
      "71954 29.0\n",
      "72414 15.0\n",
      "72734 15.0\n",
      "72748 29.0\n",
      "73032 20.0\n"
     ]
    }
   ],
   "source": [
    "# проверяем заказы с самым низким скором\n",
    "\n",
    "for x in rec_items_orders.columns:\n",
    "    if rec_items_orders[x].sum() < 30:\n",
    "        print(x, rec_items_orders[x].sum())"
   ]
  },
  {
   "cell_type": "code",
   "execution_count": 506,
   "metadata": {
    "ExecuteTime": {
     "end_time": "2021-05-10T15:07:30.584258Z",
     "start_time": "2021-05-10T15:07:16.061812Z"
    }
   },
   "outputs": [
    {
     "data": {
      "application/vnd.jupyter.widget-view+json": {
       "model_id": "8743f5cd25ea4d2ba51263c14b21fbe3",
       "version_major": 2,
       "version_minor": 0
      },
      "text/plain": [
       "HBox(children=(IntProgress(value=0, max=1927), HTML(value='')))"
      ]
     },
     "metadata": {},
     "output_type": "display_data"
    },
    {
     "name": "stdout",
     "output_type": "stream",
     "text": [
      "\n",
      "CPU times: user 14.5 s, sys: 185 ms, total: 14.7 s\n",
      "Wall time: 14.5 s\n"
     ]
    }
   ],
   "source": [
    "%%time\n",
    "\n",
    "# Найдем лучшие товары для клиентов, которым удалось подобрать рекомендации\n",
    "\n",
    "rec_items_clients = pd.DataFrame(columns=['items', 'scoring', 'order_id', 'customer_id'])\n",
    "\n",
    "# идем по всем уникальным заказам для которых мы смогли подобрать рекомендации\n",
    "\n",
    "for order_id in tqdm(rec_items_orders.columns):\n",
    "    \n",
    "    # ищем Топ-6 товаров, больше нуля для каждого номера заказа\n",
    "    \n",
    "    temp = pd.DataFrame(rec_items_orders[order_id].nlargest(max_n_rec_items)[rec_items_orders[order_id].nlargest(max_n_rec_items) > 0]).reset_index()\n",
    "    \n",
    "    # формируем датасет в нашем стиле\n",
    "    \n",
    "    temp['order_id'] = order_id\n",
    "    temp['customer_id'] = df[df['order_id']==order_id]['customer_id'].unique().min()\n",
    "    temp.columns = ['items', 'scoring', 'order_id', 'customer_id']\n",
    "    if len(temp) >= min_n_rec_items: # проверяем что рекомендованных товаров больше min_n_rec_items\n",
    "        rec_items_clients = pd.concat([rec_items_clients,temp]) # объединяем со всеми предыдущими"
   ]
  },
  {
   "cell_type": "code",
   "execution_count": 507,
   "metadata": {
    "ExecuteTime": {
     "end_time": "2021-05-10T15:07:30.614409Z",
     "start_time": "2021-05-10T15:07:30.586469Z"
    }
   },
   "outputs": [
    {
     "data": {
      "text/html": [
       "<div>\n",
       "<style scoped>\n",
       "    .dataframe tbody tr th:only-of-type {\n",
       "        vertical-align: middle;\n",
       "    }\n",
       "\n",
       "    .dataframe tbody tr th {\n",
       "        vertical-align: top;\n",
       "    }\n",
       "\n",
       "    .dataframe thead th {\n",
       "        text-align: right;\n",
       "    }\n",
       "</style>\n",
       "<table border=\"1\" class=\"dataframe\">\n",
       "  <thead>\n",
       "    <tr style=\"text-align: right;\">\n",
       "      <th></th>\n",
       "      <th>items</th>\n",
       "      <th>scoring</th>\n",
       "      <th>order_id</th>\n",
       "      <th>customer_id</th>\n",
       "    </tr>\n",
       "  </thead>\n",
       "  <tbody>\n",
       "    <tr>\n",
       "      <th>0</th>\n",
       "      <td>рассада</td>\n",
       "      <td>53.250</td>\n",
       "      <td>13547</td>\n",
       "      <td>b80e4826-7218-4bf9-ac08-eb2c81ab3f62</td>\n",
       "    </tr>\n",
       "    <tr>\n",
       "      <th>1</th>\n",
       "      <td>петуния</td>\n",
       "      <td>12.000</td>\n",
       "      <td>13547</td>\n",
       "      <td>b80e4826-7218-4bf9-ac08-eb2c81ab3f62</td>\n",
       "    </tr>\n",
       "    <tr>\n",
       "      <th>2</th>\n",
       "      <td>пеларгония</td>\n",
       "      <td>10.547</td>\n",
       "      <td>13547</td>\n",
       "      <td>b80e4826-7218-4bf9-ac08-eb2c81ab3f62</td>\n",
       "    </tr>\n",
       "    <tr>\n",
       "      <th>3</th>\n",
       "      <td>томата</td>\n",
       "      <td>5.700</td>\n",
       "      <td>13547</td>\n",
       "      <td>b80e4826-7218-4bf9-ac08-eb2c81ab3f62</td>\n",
       "    </tr>\n",
       "    <tr>\n",
       "      <th>4</th>\n",
       "      <td>растение</td>\n",
       "      <td>5.125</td>\n",
       "      <td>13547</td>\n",
       "      <td>b80e4826-7218-4bf9-ac08-eb2c81ab3f62</td>\n",
       "    </tr>\n",
       "    <tr>\n",
       "      <th>...</th>\n",
       "      <td>...</td>\n",
       "      <td>...</td>\n",
       "      <td>...</td>\n",
       "      <td>...</td>\n",
       "    </tr>\n",
       "    <tr>\n",
       "      <th>2</th>\n",
       "      <td>ведро</td>\n",
       "      <td>10.643</td>\n",
       "      <td>73158</td>\n",
       "      <td>1f0a7f35-7459-4f23-b468-5e45bf481dd1</td>\n",
       "    </tr>\n",
       "    <tr>\n",
       "      <th>3</th>\n",
       "      <td>шнур</td>\n",
       "      <td>5.286</td>\n",
       "      <td>73158</td>\n",
       "      <td>1f0a7f35-7459-4f23-b468-5e45bf481dd1</td>\n",
       "    </tr>\n",
       "    <tr>\n",
       "      <th>0</th>\n",
       "      <td>доска</td>\n",
       "      <td>1049.333</td>\n",
       "      <td>73162</td>\n",
       "      <td>25df96a7-c453-4708-9cea-a3dfc7c342ea</td>\n",
       "    </tr>\n",
       "    <tr>\n",
       "      <th>1</th>\n",
       "      <td>герань</td>\n",
       "      <td>33.111</td>\n",
       "      <td>73162</td>\n",
       "      <td>25df96a7-c453-4708-9cea-a3dfc7c342ea</td>\n",
       "    </tr>\n",
       "    <tr>\n",
       "      <th>2</th>\n",
       "      <td>пеларгония</td>\n",
       "      <td>15.000</td>\n",
       "      <td>73162</td>\n",
       "      <td>25df96a7-c453-4708-9cea-a3dfc7c342ea</td>\n",
       "    </tr>\n",
       "  </tbody>\n",
       "</table>\n",
       "<p>6285 rows × 4 columns</p>\n",
       "</div>"
      ],
      "text/plain": [
       "         items  scoring order_id                           customer_id\n",
       "0      рассада   53.250    13547  b80e4826-7218-4bf9-ac08-eb2c81ab3f62\n",
       "1      петуния   12.000    13547  b80e4826-7218-4bf9-ac08-eb2c81ab3f62\n",
       "2   пеларгония   10.547    13547  b80e4826-7218-4bf9-ac08-eb2c81ab3f62\n",
       "3       томата    5.700    13547  b80e4826-7218-4bf9-ac08-eb2c81ab3f62\n",
       "4     растение    5.125    13547  b80e4826-7218-4bf9-ac08-eb2c81ab3f62\n",
       "..         ...      ...      ...                                   ...\n",
       "2        ведро   10.643    73158  1f0a7f35-7459-4f23-b468-5e45bf481dd1\n",
       "3         шнур    5.286    73158  1f0a7f35-7459-4f23-b468-5e45bf481dd1\n",
       "0        доска 1049.333    73162  25df96a7-c453-4708-9cea-a3dfc7c342ea\n",
       "1       герань   33.111    73162  25df96a7-c453-4708-9cea-a3dfc7c342ea\n",
       "2   пеларгония   15.000    73162  25df96a7-c453-4708-9cea-a3dfc7c342ea\n",
       "\n",
       "[6285 rows x 4 columns]"
      ]
     },
     "execution_count": 507,
     "metadata": {},
     "output_type": "execute_result"
    }
   ],
   "source": [
    "rec_items_clients"
   ]
  },
  {
   "cell_type": "markdown",
   "metadata": {
    "ExecuteTime": {
     "end_time": "2021-05-04T11:02:44.225085Z",
     "start_time": "2021-05-04T11:02:44.220110Z"
    }
   },
   "source": [
    "# Анализ результирующего файла"
   ]
  },
  {
   "cell_type": "markdown",
   "metadata": {
    "ExecuteTime": {
     "end_time": "2021-05-10T11:53:11.930040Z",
     "start_time": "2021-05-10T11:53:11.925168Z"
    }
   },
   "source": [
    "## По товарам"
   ]
  },
  {
   "cell_type": "code",
   "execution_count": 509,
   "metadata": {
    "ExecuteTime": {
     "end_time": "2021-05-10T15:07:51.304600Z",
     "start_time": "2021-05-10T15:07:51.083387Z"
    }
   },
   "outputs": [
    {
     "data": {
      "image/png": "[encoded data removed]",
      "text/plain": [
       "<Figure size 864x432 with 1 Axes>"
      ]
     },
     "metadata": {},
     "output_type": "display_data"
    }
   ],
   "source": [
    "rec_items_clients['items'].value_counts().plot(style='o-')\n",
    "plt.xlabel('Название товара')\n",
    "plt.ylabel('Количество')\n",
    "plt.title('Количество товаров, встречающихся в рекомендациях'+'\\n');"
   ]
  },
  {
   "cell_type": "code",
   "execution_count": 512,
   "metadata": {
    "ExecuteTime": {
     "end_time": "2021-05-10T15:08:17.334637Z",
     "start_time": "2021-05-10T15:08:16.805308Z"
    }
   },
   "outputs": [
    {
     "data": {
      "image/png": "[encoded data removed]",
      "text/plain": [
       "<Figure size 864x432 with 1 Axes>"
      ]
     },
     "metadata": {},
     "output_type": "display_data"
    }
   ],
   "source": [
    "rec_items_clients['items'].value_counts(normalize=True).head(20).sort_values().plot(kind='barh')\n",
    "\n",
    "plt.xlabel('Охват в %')\n",
    "plt.title('Топ-20 товаров для рекомендаций по % охвата'+'\\n');"
   ]
  },
  {
   "cell_type": "code",
   "execution_count": 513,
   "metadata": {
    "ExecuteTime": {
     "end_time": "2021-05-10T15:08:22.862066Z",
     "start_time": "2021-05-10T15:08:22.848270Z"
    }
   },
   "outputs": [
    {
     "name": "stdout",
     "output_type": "stream",
     "text": [
      "Охват Топ-5 самых популярных товаров в рекомендациях: 30.55%\n"
     ]
    }
   ],
   "source": [
    "print('Охват Топ-5 самых популярных товаров в рекомендациях: {:.2%}'.format(rec_items_clients['items'].value_counts(normalize=True).head().sum()))"
   ]
  },
  {
   "cell_type": "code",
   "execution_count": 514,
   "metadata": {
    "ExecuteTime": {
     "end_time": "2021-05-10T15:08:24.295007Z",
     "start_time": "2021-05-10T15:08:24.280066Z"
    }
   },
   "outputs": [
    {
     "name": "stdout",
     "output_type": "stream",
     "text": [
      "Всего уникальных товаров для рекомендаций: 69\n",
      "Доля товаров, участвующих в рекомендациях: 18.35%\n"
     ]
    }
   ],
   "source": [
    "print('Всего уникальных товаров для рекомендаций:', rec_items_clients['items'].nunique())\n",
    "print('Доля товаров, участвующих в рекомендациях: {:.2%}'.format( \n",
    "     rec_items_clients['items'].nunique() /\\\n",
    "     df[df['regular'] == 0]['category'].nunique()))"
   ]
  },
  {
   "cell_type": "code",
   "execution_count": 423,
   "metadata": {
    "ExecuteTime": {
     "end_time": "2021-05-10T14:42:01.868876Z",
     "start_time": "2021-05-10T14:42:01.654105Z"
    }
   },
   "outputs": [
    {
     "data": {
      "image/png": "[encoded data removed]",
      "text/plain": [
       "<Figure size 864x432 with 1 Axes>"
      ]
     },
     "metadata": {},
     "output_type": "display_data"
    }
   ],
   "source": [
    "rec_items_clients.groupby('items')['scoring'].mean().hist(bins=7)\n",
    "\n",
    "plt.xlabel('Средний скоринг для товара')\n",
    "plt.title('Гистограмма среднего скоринга по количеству товаров'+'\\n');"
   ]
  },
  {
   "cell_type": "markdown",
   "metadata": {},
   "source": [
    "## По клиентам"
   ]
  },
  {
   "cell_type": "code",
   "execution_count": 419,
   "metadata": {
    "ExecuteTime": {
     "end_time": "2021-05-10T14:40:43.247935Z",
     "start_time": "2021-05-10T14:40:43.227993Z"
    }
   },
   "outputs": [
    {
     "name": "stdout",
     "output_type": "stream",
     "text": [
      "Клиентов с рекомендациями: 1518\n",
      "Доля клиентов получивших рекомендацию: 66.40%\n"
     ]
    }
   ],
   "source": [
    "print('Клиентов с рекомендациями:', rec_items_clients['customer_id'].nunique())\n",
    "print('Доля клиентов получивших рекомендацию: {:.2%}'.format( \n",
    "     rec_items_clients['customer_id'].nunique() /\\\n",
    "     df[df['regular'] == 0]['customer_id'].nunique()))"
   ]
  },
  {
   "cell_type": "code",
   "execution_count": 422,
   "metadata": {
    "ExecuteTime": {
     "end_time": "2021-05-10T14:41:49.413739Z",
     "start_time": "2021-05-10T14:41:49.173529Z"
    }
   },
   "outputs": [
    {
     "data": {
      "image/png": "[encoded data removed]",
      "text/plain": [
       "<Figure size 864x432 with 1 Axes>"
      ]
     },
     "metadata": {},
     "output_type": "display_data"
    }
   ],
   "source": [
    "rec_items_clients.groupby('customer_id')['scoring'].mean().hist(range=(0,1500))\n",
    "\n",
    "plt.xlabel('Средний скоринг для клиентов')\n",
    "plt.title('Гистограмма среднего скоринга по клиентам');"
   ]
  },
  {
   "cell_type": "code",
   "execution_count": 425,
   "metadata": {
    "ExecuteTime": {
     "end_time": "2021-05-10T14:43:44.058474Z",
     "start_time": "2021-05-10T14:43:43.844445Z"
    }
   },
   "outputs": [
    {
     "data": {
      "image/png": "[encoded data removed]",
      "text/plain": [
       "<Figure size 864x432 with 1 Axes>"
      ]
     },
     "metadata": {},
     "output_type": "display_data"
    }
   ],
   "source": [
    "# как распределяется количество товаров на одного клиента\n",
    "\n",
    "rec_items_clients['order_id'].value_counts().value_counts(normalize=True).sort_index().plot(kind='barh')\n",
    "\n",
    "plt.xlabel('Охват в %')\n",
    "plt.ylabel('Количество товаров в одной рекомендации')\n",
    "plt.title('Диаграмма охвата количества товаров в одной рекомендации');"
   ]
  },
  {
   "cell_type": "code",
   "execution_count": 520,
   "metadata": {
    "ExecuteTime": {
     "end_time": "2021-05-10T15:11:11.001166Z",
     "start_time": "2021-05-10T15:11:10.979400Z"
    }
   },
   "outputs": [
    {
     "data": {
      "text/plain": [
       "0"
      ]
     },
     "execution_count": 520,
     "metadata": {},
     "output_type": "execute_result"
    }
   ],
   "source": [
    "# проверяем на наличие повторяющихся товаров в одной рекомендации\n",
    "\n",
    "temp = rec_items_clients.groupby('order_id')['items'].agg(['count', 'nunique'])\n",
    "len(temp[temp['count'] != temp['nunique']])"
   ]
  },
  {
   "cell_type": "markdown",
   "metadata": {},
   "source": [
    "# Заключение"
   ]
  },
  {
   "cell_type": "code",
   "execution_count": 213,
   "metadata": {
    "ExecuteTime": {
     "end_time": "2021-05-10T13:10:03.485787Z",
     "start_time": "2021-05-10T13:10:03.464068Z"
    }
   },
   "outputs": [
    {
     "ename": "NameError",
     "evalue": "name 'stop' is not defined",
     "output_type": "error",
     "traceback": [
      "\u001b[0;31m---------------------------------------------------------------------------\u001b[0m",
      "\u001b[0;31mNameError\u001b[0m                                 Traceback (most recent call last)",
      "\u001b[0;32m<ipython-input-213-4f76a9dad686>\u001b[0m in \u001b[0;36m<module>\u001b[0;34m\u001b[0m\n\u001b[0;32m----> 1\u001b[0;31m \u001b[0mstop\u001b[0m\u001b[0;34m\u001b[0m\u001b[0;34m\u001b[0m\u001b[0m\n\u001b[0m",
      "\u001b[0;31mNameError\u001b[0m: name 'stop' is not defined"
     ]
    }
   ],
   "source": [
    "stop"
   ]
  },
  {
   "cell_type": "code",
   "execution_count": 212,
   "metadata": {
    "ExecuteTime": {
     "end_time": "2021-05-10T13:09:58.678557Z",
     "start_time": "2021-05-10T13:09:58.638586Z"
    }
   },
   "outputs": [],
   "source": [
    "rec_items_clients.to_csv('rec_items_clients_final.csv')"
   ]
  },
  {
   "cell_type": "markdown",
   "metadata": {},
   "source": [
    "На основе лога покупок в интернет магазине за определенный период были подготовлены товарные рекомендации для последующей Email рассылки. Формат результирующего файла определен сервисом Email рассылки - MindBox.\n",
    "\n",
    "Для вычисления товаров для рекомендаций использовался следующий алгоритм:\n",
    "1. Расчет вероятности заказа товара Y, если в первом заказе присутствует товар Х на основании заказов постоянных клиентов \n",
    "2. Расчет скоринга для каждого товара на основе произведения медианной стоимости и вероятности заказа\n",
    "3. Подготовка товарных рекомендаций на основе состава корзины для клиентов, совершивших первый заказ\n"
   ]
  },
  {
   "cell_type": "code",
   "execution_count": null,
   "metadata": {},
   "outputs": [],
   "source": []
  }
 ],
 "metadata": {
  "kernelspec": {
   "display_name": "Python 3",
   "language": "python",
   "name": "python3"
  },
  "language_info": {
   "codemirror_mode": {
    "name": "ipython",
    "version": 3
   },
   "file_extension": ".py",
   "mimetype": "text/x-python",
   "name": "python",
   "nbconvert_exporter": "python",
   "pygments_lexer": "ipython3",
   "version": "3.6.7"
  },
  "latex_envs": {
   "LaTeX_envs_menu_present": true,
   "autoclose": false,
   "autocomplete": true,
   "bibliofile": "biblio.bib",
   "cite_by": "apalike",
   "current_citInitial": 1,
   "eqLabelWithNumbers": true,
   "eqNumInitial": 1,
   "hotkeys": {
    "equation": "Ctrl-E",
    "itemize": "Ctrl-I"
   },
   "labels_anchors": false,
   "latex_user_defs": false,
   "report_style_numbering": false,
   "user_envs_cfg": false
  },
  "toc": {
   "base_numbering": 1,
   "nav_menu": {},
   "number_sections": true,
   "sideBar": true,
   "skip_h1_title": false,
   "title_cell": "Table of Contents",
   "title_sidebar": "Contents",
   "toc_cell": false,
   "toc_position": {
    "height": "calc(100% - 180px)",
    "left": "10px",
    "top": "150px",
    "width": "384px"
   },
   "toc_section_display": true,
   "toc_window_display": true
  }
 },
 "nbformat": 4,
 "nbformat_minor": 2
}
