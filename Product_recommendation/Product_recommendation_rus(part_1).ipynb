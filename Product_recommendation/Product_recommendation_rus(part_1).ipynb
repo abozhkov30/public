{
 "cells": [
  {
   "cell_type": "markdown",
   "metadata": {},
   "source": [
    "**ТОВАРНЫЕ РЕКОМЕНДАЦИИ ДЛЯ E-COMM**"
   ]
  },
  {
   "cell_type": "markdown",
   "metadata": {
    "ExecuteTime": {
     "end_time": "2021-05-10T10:37:14.229705Z",
     "start_time": "2021-05-10T10:37:14.220496Z"
    }
   },
   "source": [
    "**Часть 1 - Препроцессинг**"
   ]
  },
  {
   "cell_type": "markdown",
   "metadata": {},
   "source": [
    "**Датасет**:  Описывает лог покупок в интернет магазине за определенный период\n",
    "\n",
    "**Цель**: На основании данных предоставить товарные рекомендации для последующей рассылки в рамках Email маркетинга для клиентов"
   ]
  },
  {
   "cell_type": "code",
   "execution_count": 1,
   "metadata": {
    "ExecuteTime": {
     "end_time": "2021-05-16T20:16:33.960173Z",
     "start_time": "2021-05-16T20:16:32.896375Z"
    }
   },
   "outputs": [],
   "source": [
    "# импорт библиотек\n",
    "\n",
    "import pandas as pd\n",
    "import numpy as np\n",
    "import matplotlib.pyplot as plt\n",
    "import seaborn as sns\n",
    "import re\n",
    "\n",
    "from datetime import date\n",
    "from datetime import timedelta\n",
    "\n",
    "from tqdm import tqdm_notebook as tqdm\n",
    "\n",
    "%matplotlib inline"
   ]
  },
  {
   "cell_type": "code",
   "execution_count": 2,
   "metadata": {
    "ExecuteTime": {
     "end_time": "2021-05-16T20:16:33.965364Z",
     "start_time": "2021-05-16T20:16:33.962404Z"
    }
   },
   "outputs": [],
   "source": [
    "# настройка размера графиков\n",
    "plt.rcParams[\"figure.figsize\"] = (12,6)"
   ]
  },
  {
   "cell_type": "code",
   "execution_count": 3,
   "metadata": {
    "ExecuteTime": {
     "end_time": "2021-05-16T20:16:33.970748Z",
     "start_time": "2021-05-16T20:16:33.967705Z"
    }
   },
   "outputs": [],
   "source": [
    "plt.style.use('ggplot') # выбор стиля графиков по умолчанию"
   ]
  },
  {
   "cell_type": "code",
   "execution_count": 4,
   "metadata": {
    "ExecuteTime": {
     "end_time": "2021-05-16T20:16:33.975704Z",
     "start_time": "2021-05-16T20:16:33.972850Z"
    }
   },
   "outputs": [],
   "source": [
    "# форматирование дробных чисел\n",
    "\n",
    "pd.options.display.float_format = '{:.3f}'.format"
   ]
  },
  {
   "cell_type": "markdown",
   "metadata": {},
   "source": [
    "# Загрузка"
   ]
  },
  {
   "cell_type": "code",
   "execution_count": 5,
   "metadata": {
    "ExecuteTime": {
     "end_time": "2021-05-16T20:16:34.013783Z",
     "start_time": "2021-05-16T20:16:33.977467Z"
    }
   },
   "outputs": [
    {
     "data": {
      "text/html": [
       "<div>\n",
       "<style scoped>\n",
       "    .dataframe tbody tr th:only-of-type {\n",
       "        vertical-align: middle;\n",
       "    }\n",
       "\n",
       "    .dataframe tbody tr th {\n",
       "        vertical-align: top;\n",
       "    }\n",
       "\n",
       "    .dataframe thead th {\n",
       "        text-align: right;\n",
       "    }\n",
       "</style>\n",
       "<table border=\"1\" class=\"dataframe\">\n",
       "  <thead>\n",
       "    <tr style=\"text-align: right;\">\n",
       "      <th></th>\n",
       "      <th>date</th>\n",
       "      <th>customer_id</th>\n",
       "      <th>order_id</th>\n",
       "      <th>product</th>\n",
       "      <th>quantity</th>\n",
       "      <th>price</th>\n",
       "    </tr>\n",
       "  </thead>\n",
       "  <tbody>\n",
       "    <tr>\n",
       "      <th>6546</th>\n",
       "      <td>2019100904</td>\n",
       "      <td>5a15bd5f-ecf4-496f-913c-23d6f76a2f8d</td>\n",
       "      <td>72901</td>\n",
       "      <td>Пуансеттия d-23 см красная</td>\n",
       "      <td>1</td>\n",
       "      <td>374.000</td>\n",
       "    </tr>\n",
       "    <tr>\n",
       "      <th>5285</th>\n",
       "      <td>2019061409</td>\n",
       "      <td>1d6c8c1f-a799-4418-9af2-1ded47d7a85c</td>\n",
       "      <td>14833</td>\n",
       "      <td>Рассада Кабачка сорт Сосновский, кассета по 6шт</td>\n",
       "      <td>1</td>\n",
       "      <td>120.000</td>\n",
       "    </tr>\n",
       "    <tr>\n",
       "      <th>2311</th>\n",
       "      <td>2019031316</td>\n",
       "      <td>7d7f5e10-3025-4c74-879e-0b3b064475a8</td>\n",
       "      <td>70677</td>\n",
       "      <td>Скалка силиконовая, Lekue, 0200800M02U050</td>\n",
       "      <td>1</td>\n",
       "      <td>1312.000</td>\n",
       "    </tr>\n",
       "  </tbody>\n",
       "</table>\n",
       "</div>"
      ],
      "text/plain": [
       "            date                           customer_id  order_id  \\\n",
       "6546  2019100904  5a15bd5f-ecf4-496f-913c-23d6f76a2f8d     72901   \n",
       "5285  2019061409  1d6c8c1f-a799-4418-9af2-1ded47d7a85c     14833   \n",
       "2311  2019031316  7d7f5e10-3025-4c74-879e-0b3b064475a8     70677   \n",
       "\n",
       "                                              product  quantity    price  \n",
       "6546                       Пуансеттия d-23 см красная         1  374.000  \n",
       "5285  Рассада Кабачка сорт Сосновский, кассета по 6шт         1  120.000  \n",
       "2311        Скалка силиконовая, Lekue, 0200800M02U050         1 1312.000  "
      ]
     },
     "execution_count": 5,
     "metadata": {},
     "output_type": "execute_result"
    }
   ],
   "source": [
    "df = pd.read_csv('ecommerce_dataset.csv')\n",
    "df.sample(3)"
   ]
  },
  {
   "cell_type": "markdown",
   "metadata": {
    "ExecuteTime": {
     "end_time": "2021-05-09T20:00:24.550838Z",
     "start_time": "2021-05-09T20:00:24.536901Z"
    }
   },
   "source": [
    "Колонки в  *ecommerce_dataset.csv* :\n",
    "\n",
    "- `date` — дата заказа;\n",
    "- `customer_id` — идентификатор покупателя;\n",
    "- `order_id` — идентификатор заказа;\n",
    "- `product` — наименование товара;\n",
    "- `quantity` — количество товара в заказе;\n",
    "- `price` — цена товара."
   ]
  },
  {
   "cell_type": "code",
   "execution_count": 6,
   "metadata": {
    "ExecuteTime": {
     "end_time": "2021-05-16T20:16:34.029916Z",
     "start_time": "2021-05-16T20:16:34.015980Z"
    }
   },
   "outputs": [
    {
     "name": "stdout",
     "output_type": "stream",
     "text": [
      "<class 'pandas.core.frame.DataFrame'>\n",
      "RangeIndex: 6737 entries, 0 to 6736\n",
      "Data columns (total 6 columns):\n",
      " #   Column       Non-Null Count  Dtype  \n",
      "---  ------       --------------  -----  \n",
      " 0   date         6737 non-null   int64  \n",
      " 1   customer_id  6737 non-null   object \n",
      " 2   order_id     6737 non-null   int64  \n",
      " 3   product      6737 non-null   object \n",
      " 4   quantity     6737 non-null   int64  \n",
      " 5   price        6737 non-null   float64\n",
      "dtypes: float64(1), int64(3), object(2)\n",
      "memory usage: 315.9+ KB\n"
     ]
    }
   ],
   "source": [
    "df.info()"
   ]
  },
  {
   "cell_type": "code",
   "execution_count": 7,
   "metadata": {
    "ExecuteTime": {
     "end_time": "2021-05-16T20:16:34.041578Z",
     "start_time": "2021-05-16T20:16:34.032199Z"
    }
   },
   "outputs": [
    {
     "name": "stdout",
     "output_type": "stream",
     "text": [
      "customer_id : 2451\n",
      "---\n",
      "order_id : 2784\n",
      "---\n",
      "product : 2343\n",
      "---\n"
     ]
    }
   ],
   "source": [
    "for x in ['customer_id', 'order_id', 'product']:\n",
    "    print(x,':', df[x].nunique())\n",
    "    print('---')"
   ]
  },
  {
   "cell_type": "markdown",
   "metadata": {
    "ExecuteTime": {
     "end_time": "2021-02-11T20:18:30.399011Z",
     "start_time": "2021-02-11T20:18:30.393915Z"
    }
   },
   "source": [
    "# Типы и пропуски"
   ]
  },
  {
   "cell_type": "code",
   "execution_count": 8,
   "metadata": {
    "ExecuteTime": {
     "end_time": "2021-05-16T20:16:34.074896Z",
     "start_time": "2021-05-16T20:16:34.044306Z"
    }
   },
   "outputs": [
    {
     "data": {
      "text/html": [
       "<div>\n",
       "<style scoped>\n",
       "    .dataframe tbody tr th:only-of-type {\n",
       "        vertical-align: middle;\n",
       "    }\n",
       "\n",
       "    .dataframe tbody tr th {\n",
       "        vertical-align: top;\n",
       "    }\n",
       "\n",
       "    .dataframe thead th {\n",
       "        text-align: right;\n",
       "    }\n",
       "</style>\n",
       "<table border=\"1\" class=\"dataframe\">\n",
       "  <thead>\n",
       "    <tr style=\"text-align: right;\">\n",
       "      <th></th>\n",
       "      <th>date</th>\n",
       "      <th>customer_id</th>\n",
       "      <th>order_id</th>\n",
       "      <th>product</th>\n",
       "      <th>quantity</th>\n",
       "      <th>price</th>\n",
       "      <th>timestamp</th>\n",
       "    </tr>\n",
       "  </thead>\n",
       "  <tbody>\n",
       "    <tr>\n",
       "      <th>4368</th>\n",
       "      <td>2019-06-03</td>\n",
       "      <td>1d6c8c1f-a799-4418-9af2-1ded47d7a85c</td>\n",
       "      <td>14833</td>\n",
       "      <td>Рассада Кабачка сорт Сосновский, кассета по 6шт</td>\n",
       "      <td>1</td>\n",
       "      <td>120.000</td>\n",
       "      <td>2019-06-03 08:00:00</td>\n",
       "    </tr>\n",
       "  </tbody>\n",
       "</table>\n",
       "</div>"
      ],
      "text/plain": [
       "           date                           customer_id  order_id  \\\n",
       "4368 2019-06-03  1d6c8c1f-a799-4418-9af2-1ded47d7a85c     14833   \n",
       "\n",
       "                                              product  quantity   price  \\\n",
       "4368  Рассада Кабачка сорт Сосновский, кассета по 6шт         1 120.000   \n",
       "\n",
       "               timestamp  \n",
       "4368 2019-06-03 08:00:00  "
      ]
     },
     "execution_count": 8,
     "metadata": {},
     "output_type": "execute_result"
    }
   ],
   "source": [
    "# форматируем время\n",
    "\n",
    "df['timestamp'] = pd.to_datetime(df['date'], format='%Y%m%d%H')  \n",
    "df['date'] = df['timestamp'].dt.normalize() # оставляем время, как отдельную колонку\n",
    "df.sample()"
   ]
  },
  {
   "cell_type": "code",
   "execution_count": 9,
   "metadata": {
    "ExecuteTime": {
     "end_time": "2021-05-16T20:16:34.089645Z",
     "start_time": "2021-05-16T20:16:34.077117Z"
    }
   },
   "outputs": [
    {
     "name": "stdout",
     "output_type": "stream",
     "text": [
      "<class 'pandas.core.frame.DataFrame'>\n",
      "RangeIndex: 6737 entries, 0 to 6736\n",
      "Data columns (total 7 columns):\n",
      " #   Column       Non-Null Count  Dtype         \n",
      "---  ------       --------------  -----         \n",
      " 0   date         6737 non-null   datetime64[ns]\n",
      " 1   customer_id  6737 non-null   object        \n",
      " 2   order_id     6737 non-null   int64         \n",
      " 3   product      6737 non-null   object        \n",
      " 4   quantity     6737 non-null   int64         \n",
      " 5   price        6737 non-null   float64       \n",
      " 6   timestamp    6737 non-null   datetime64[ns]\n",
      "dtypes: datetime64[ns](2), float64(1), int64(2), object(2)\n",
      "memory usage: 368.6+ KB\n"
     ]
    }
   ],
   "source": [
    "df.info()"
   ]
  },
  {
   "cell_type": "code",
   "execution_count": 10,
   "metadata": {
    "ExecuteTime": {
     "end_time": "2021-05-16T20:16:34.098415Z",
     "start_time": "2021-05-16T20:16:34.092072Z"
    }
   },
   "outputs": [
    {
     "name": "stdout",
     "output_type": "stream",
     "text": [
      "Период в датасете: 2018-10-01 00:00:00 - 2019-10-31 16:00:00\n"
     ]
    }
   ],
   "source": [
    "print('Период в датасете:', df['timestamp'].min(), '-',  df['timestamp'].max())"
   ]
  },
  {
   "cell_type": "code",
   "execution_count": 11,
   "metadata": {
    "ExecuteTime": {
     "end_time": "2021-05-16T20:16:34.107880Z",
     "start_time": "2021-05-16T20:16:34.100344Z"
    }
   },
   "outputs": [
    {
     "data": {
      "text/plain": [
       "date           0\n",
       "customer_id    0\n",
       "order_id       0\n",
       "product        0\n",
       "quantity       0\n",
       "price          0\n",
       "timestamp      0\n",
       "dtype: int64"
      ]
     },
     "execution_count": 11,
     "metadata": {},
     "output_type": "execute_result"
    }
   ],
   "source": [
    "# проверка на пропуски\n",
    "\n",
    "df.isnull().sum()"
   ]
  },
  {
   "cell_type": "markdown",
   "metadata": {},
   "source": [
    "# Поиск дубликатов"
   ]
  },
  {
   "cell_type": "code",
   "execution_count": 12,
   "metadata": {
    "ExecuteTime": {
     "end_time": "2021-05-16T20:16:34.187938Z",
     "start_time": "2021-05-16T20:16:34.183118Z"
    }
   },
   "outputs": [],
   "source": [
    "df = df.sort_values(by='timestamp')"
   ]
  },
  {
   "cell_type": "code",
   "execution_count": 13,
   "metadata": {
    "ExecuteTime": {
     "end_time": "2021-05-16T20:16:34.219558Z",
     "start_time": "2021-05-16T20:16:34.196607Z"
    }
   },
   "outputs": [
    {
     "name": "stdout",
     "output_type": "stream",
     "text": [
      "Количество полных дубликатов: 0.00%\n",
      "Количество дубликатов по дате: 14.34%\n",
      "Количество дубликатов по заказу и товару: 27.67%\n"
     ]
    }
   ],
   "source": [
    "print('Количество полных дубликатов: {:.2%}'.format(len(df[df.duplicated()]) /len(df)))\n",
    "print('Количество дубликатов по дате: {:.2%}'.format(len(df[df.duplicated(subset=df.columns[:-1])]) /len(df)))\n",
    "print('Количество дубликатов по заказу и товару: {:.2%}'.format(len(df[df.duplicated(subset=df.columns[1:6])]) /len(df)))"
   ]
  },
  {
   "cell_type": "markdown",
   "metadata": {},
   "source": [
    "## Исследование дубликатов"
   ]
  },
  {
   "cell_type": "code",
   "execution_count": 14,
   "metadata": {
    "ExecuteTime": {
     "end_time": "2021-05-16T20:16:34.555432Z",
     "start_time": "2021-05-16T20:16:34.545783Z"
    }
   },
   "outputs": [
    {
     "data": {
      "text/plain": [
       "1    0.932\n",
       "2    0.049\n",
       "3    0.011\n",
       "4    0.002\n",
       "5    0.002\n",
       "6    0.001\n",
       "7    0.000\n",
       "11   0.001\n",
       "15   0.000\n",
       "22   0.000\n",
       "57   0.000\n",
       "Name: date, dtype: float64"
      ]
     },
     "execution_count": 14,
     "metadata": {},
     "output_type": "execute_result"
    }
   ],
   "source": [
    "# сколько процентов заказов, которые повторяются в другие дни?\n",
    "\n",
    "df.groupby('order_id')['date'].nunique().value_counts(normalize=True).sort_index()"
   ]
  },
  {
   "cell_type": "code",
   "execution_count": 15,
   "metadata": {
    "ExecuteTime": {
     "end_time": "2021-05-16T20:16:34.577878Z",
     "start_time": "2021-05-16T20:16:34.557037Z"
    }
   },
   "outputs": [],
   "source": [
    "n_delta_orders = df[df.duplicated(subset=df.columns[:-1])].groupby('order_id').agg({'date':['min', 'max']}).reset_index()\n",
    "n_delta_orders['delta'] = n_delta_orders['date', 'max'] - n_delta_orders['date', 'min']\n",
    "n_delta_orders['delta'] = n_delta_orders['delta'].dt.days"
   ]
  },
  {
   "cell_type": "code",
   "execution_count": 16,
   "metadata": {
    "ExecuteTime": {
     "end_time": "2021-05-16T20:16:34.599556Z",
     "start_time": "2021-05-16T20:16:34.579761Z"
    }
   },
   "outputs": [
    {
     "data": {
      "text/html": [
       "<div>\n",
       "<style scoped>\n",
       "    .dataframe tbody tr th:only-of-type {\n",
       "        vertical-align: middle;\n",
       "    }\n",
       "\n",
       "    .dataframe tbody tr th {\n",
       "        vertical-align: top;\n",
       "    }\n",
       "\n",
       "    .dataframe thead tr th {\n",
       "        text-align: left;\n",
       "    }\n",
       "</style>\n",
       "<table border=\"1\" class=\"dataframe\">\n",
       "  <thead>\n",
       "    <tr>\n",
       "      <th></th>\n",
       "      <th>order_id</th>\n",
       "      <th colspan=\"2\" halign=\"left\">date</th>\n",
       "      <th>delta</th>\n",
       "    </tr>\n",
       "    <tr>\n",
       "      <th></th>\n",
       "      <th></th>\n",
       "      <th>min</th>\n",
       "      <th>max</th>\n",
       "      <th></th>\n",
       "    </tr>\n",
       "  </thead>\n",
       "  <tbody>\n",
       "    <tr>\n",
       "      <th>0</th>\n",
       "      <td>14500</td>\n",
       "      <td>2018-10-28</td>\n",
       "      <td>2018-10-31</td>\n",
       "      <td>3</td>\n",
       "    </tr>\n",
       "    <tr>\n",
       "      <th>1</th>\n",
       "      <td>14521</td>\n",
       "      <td>2019-01-10</td>\n",
       "      <td>2019-01-10</td>\n",
       "      <td>0</td>\n",
       "    </tr>\n",
       "    <tr>\n",
       "      <th>2</th>\n",
       "      <td>14541</td>\n",
       "      <td>2019-02-17</td>\n",
       "      <td>2019-02-17</td>\n",
       "      <td>0</td>\n",
       "    </tr>\n",
       "    <tr>\n",
       "      <th>3</th>\n",
       "      <td>14566</td>\n",
       "      <td>2019-03-07</td>\n",
       "      <td>2019-03-07</td>\n",
       "      <td>0</td>\n",
       "    </tr>\n",
       "    <tr>\n",
       "      <th>4</th>\n",
       "      <td>14570</td>\n",
       "      <td>2019-03-12</td>\n",
       "      <td>2019-03-12</td>\n",
       "      <td>0</td>\n",
       "    </tr>\n",
       "    <tr>\n",
       "      <th>...</th>\n",
       "      <td>...</td>\n",
       "      <td>...</td>\n",
       "      <td>...</td>\n",
       "      <td>...</td>\n",
       "    </tr>\n",
       "    <tr>\n",
       "      <th>141</th>\n",
       "      <td>73095</td>\n",
       "      <td>2019-10-26</td>\n",
       "      <td>2019-10-26</td>\n",
       "      <td>0</td>\n",
       "    </tr>\n",
       "    <tr>\n",
       "      <th>142</th>\n",
       "      <td>73101</td>\n",
       "      <td>2019-10-27</td>\n",
       "      <td>2019-10-27</td>\n",
       "      <td>0</td>\n",
       "    </tr>\n",
       "    <tr>\n",
       "      <th>143</th>\n",
       "      <td>73104</td>\n",
       "      <td>2019-10-27</td>\n",
       "      <td>2019-10-27</td>\n",
       "      <td>0</td>\n",
       "    </tr>\n",
       "    <tr>\n",
       "      <th>144</th>\n",
       "      <td>73108</td>\n",
       "      <td>2019-10-28</td>\n",
       "      <td>2019-10-28</td>\n",
       "      <td>0</td>\n",
       "    </tr>\n",
       "    <tr>\n",
       "      <th>145</th>\n",
       "      <td>73136</td>\n",
       "      <td>2019-10-31</td>\n",
       "      <td>2019-10-31</td>\n",
       "      <td>0</td>\n",
       "    </tr>\n",
       "  </tbody>\n",
       "</table>\n",
       "<p>146 rows × 4 columns</p>\n",
       "</div>"
      ],
      "text/plain": [
       "    order_id       date            delta\n",
       "                    min        max      \n",
       "0      14500 2018-10-28 2018-10-31     3\n",
       "1      14521 2019-01-10 2019-01-10     0\n",
       "2      14541 2019-02-17 2019-02-17     0\n",
       "3      14566 2019-03-07 2019-03-07     0\n",
       "4      14570 2019-03-12 2019-03-12     0\n",
       "..       ...        ...        ...   ...\n",
       "141    73095 2019-10-26 2019-10-26     0\n",
       "142    73101 2019-10-27 2019-10-27     0\n",
       "143    73104 2019-10-27 2019-10-27     0\n",
       "144    73108 2019-10-28 2019-10-28     0\n",
       "145    73136 2019-10-31 2019-10-31     0\n",
       "\n",
       "[146 rows x 4 columns]"
      ]
     },
     "execution_count": 16,
     "metadata": {},
     "output_type": "execute_result"
    }
   ],
   "source": [
    "n_delta_orders"
   ]
  },
  {
   "cell_type": "code",
   "execution_count": 17,
   "metadata": {
    "ExecuteTime": {
     "end_time": "2021-05-16T20:16:34.609478Z",
     "start_time": "2021-05-16T20:16:34.601093Z"
    }
   },
   "outputs": [
    {
     "data": {
      "text/plain": [
       "0     0.911\n",
       "1     0.021\n",
       "2     0.014\n",
       "3     0.014\n",
       "4     0.014\n",
       "6     0.007\n",
       "22    0.014\n",
       "122   0.007\n",
       "Name: delta, dtype: float64"
      ]
     },
     "execution_count": 17,
     "metadata": {},
     "output_type": "execute_result"
    }
   ],
   "source": [
    "# сколько дубликатов\n",
    "\n",
    "n_delta_orders['delta'].value_counts(normalize=True).sort_index()"
   ]
  },
  {
   "cell_type": "markdown",
   "metadata": {},
   "source": [
    "## Удаление дубликатов"
   ]
  },
  {
   "cell_type": "code",
   "execution_count": 18,
   "metadata": {
    "ExecuteTime": {
     "end_time": "2021-05-16T20:16:34.922654Z",
     "start_time": "2021-05-16T20:16:34.915126Z"
    }
   },
   "outputs": [],
   "source": [
    "# быстрое удаление дубликатов\n",
    "\n",
    "df = df.drop_duplicates(subset=df.columns[1:6])"
   ]
  },
  {
   "cell_type": "code",
   "execution_count": 19,
   "metadata": {
    "ExecuteTime": {
     "end_time": "2021-05-16T20:16:34.943362Z",
     "start_time": "2021-05-16T20:16:34.924299Z"
    }
   },
   "outputs": [
    {
     "name": "stdout",
     "output_type": "stream",
     "text": [
      "Количество полных дубликатов: 0.00%\n",
      "Количество дубликатов по дате: 0.00%\n",
      "Количество дубликатов по заказу и товару: 0.00%\n"
     ]
    }
   ],
   "source": [
    "print('Количество полных дубликатов: {:.2%}'.format(len(df[df.duplicated()]) /len(df)))\n",
    "print('Количество дубликатов по дате: {:.2%}'.format(len(df[df.duplicated(subset=df.columns[:-1])]) /len(df)))\n",
    "print('Количество дубликатов по заказу и товару: {:.2%}'.format(len(df[df.duplicated(subset=df.columns[1:6])]) /len(df)))"
   ]
  },
  {
   "cell_type": "markdown",
   "metadata": {},
   "source": [
    "# Добавление вычисляемых метрик"
   ]
  },
  {
   "cell_type": "markdown",
   "metadata": {},
   "source": [
    "## Стоимость"
   ]
  },
  {
   "cell_type": "code",
   "execution_count": 20,
   "metadata": {
    "ExecuteTime": {
     "end_time": "2021-05-16T20:16:35.603639Z",
     "start_time": "2021-05-16T20:16:35.596180Z"
    }
   },
   "outputs": [],
   "source": [
    "df['cost'] = df['quantity'] * df['price']"
   ]
  },
  {
   "cell_type": "code",
   "execution_count": 21,
   "metadata": {
    "ExecuteTime": {
     "end_time": "2021-05-16T20:16:35.616022Z",
     "start_time": "2021-05-16T20:16:35.606722Z"
    }
   },
   "outputs": [
    {
     "data": {
      "text/plain": [
       "count     4873.000\n",
       "mean       850.021\n",
       "std       9807.308\n",
       "min          9.000\n",
       "25%        120.000\n",
       "50%        194.000\n",
       "75%        734.000\n",
       "max     675000.000\n",
       "Name: cost, dtype: float64"
      ]
     },
     "execution_count": 21,
     "metadata": {},
     "output_type": "execute_result"
    }
   ],
   "source": [
    "df['cost'].describe()"
   ]
  },
  {
   "cell_type": "markdown",
   "metadata": {},
   "source": [
    "## Порядковый номер заказа"
   ]
  },
  {
   "cell_type": "code",
   "execution_count": 22,
   "metadata": {
    "ExecuteTime": {
     "end_time": "2021-05-16T20:16:35.977017Z",
     "start_time": "2021-05-16T20:16:35.962512Z"
    }
   },
   "outputs": [],
   "source": [
    "df.sort_values('timestamp', inplace = True) # сортируем датасет\n",
    "\n",
    "# формируем таблицу для расчета порядкового номера заказа\n",
    "temp = df[['order_id', 'customer_id']].drop_duplicates()\n",
    "\n",
    "# высчитывываем количество уникальных номеров заказа на одного юзера\n",
    "\n",
    "temp['index_by_user'] = 1\n",
    "temp['index_by_user'] = temp.groupby('customer_id')['index_by_user'].cumcount()\n",
    "\n",
    "temp.index_by_user = temp.index_by_user + 1"
   ]
  },
  {
   "cell_type": "code",
   "execution_count": 23,
   "metadata": {
    "ExecuteTime": {
     "end_time": "2021-05-16T20:16:35.991381Z",
     "start_time": "2021-05-16T20:16:35.979036Z"
    }
   },
   "outputs": [],
   "source": [
    "df = df.merge(temp[['order_id', 'index_by_user']], on='order_id')\n",
    "df.rename(columns = {'index_by_user':'serial_number_order'}, inplace = True)"
   ]
  },
  {
   "cell_type": "code",
   "execution_count": 24,
   "metadata": {
    "ExecuteTime": {
     "end_time": "2021-05-16T20:16:36.001208Z",
     "start_time": "2021-05-16T20:16:35.993543Z"
    }
   },
   "outputs": [
    {
     "data": {
      "text/plain": [
       "1      4381\n",
       "2       294\n",
       "3        60\n",
       "4        19\n",
       "5         9\n",
       "       ... \n",
       "122       1\n",
       "123       1\n",
       "124       1\n",
       "125       1\n",
       "126       1\n",
       "Name: serial_number_order, Length: 126, dtype: int64"
      ]
     },
     "execution_count": 24,
     "metadata": {},
     "output_type": "execute_result"
    }
   ],
   "source": [
    "# проверяем распределение по количеству заказов\n",
    "\n",
    "df.serial_number_order.value_counts().sort_index()"
   ]
  },
  {
   "cell_type": "markdown",
   "metadata": {},
   "source": [
    "## Постоянные клиента"
   ]
  },
  {
   "cell_type": "code",
   "execution_count": 25,
   "metadata": {
    "ExecuteTime": {
     "end_time": "2021-05-16T20:16:47.129118Z",
     "start_time": "2021-05-16T20:16:36.347046Z"
    }
   },
   "outputs": [],
   "source": [
    "# является ли клиент постоянным\n",
    "\n",
    "df['is_regular_customer'] = df['order_id'].apply(lambda x: 1 if x in \n",
    "                                  (df[df['customer_id'].isin(\n",
    "                                      df[df['serial_number_order']==2]['customer_id'].unique())]\n",
    "                                   ['order_id'].unique()) else 0)"
   ]
  },
  {
   "cell_type": "code",
   "execution_count": 26,
   "metadata": {
    "ExecuteTime": {
     "end_time": "2021-05-16T20:16:47.140374Z",
     "start_time": "2021-05-16T20:16:47.132397Z"
    }
   },
   "outputs": [
    {
     "data": {
      "text/plain": [
       "0    4024\n",
       "1     929\n",
       "Name: is_regular_customer, dtype: int64"
      ]
     },
     "execution_count": 26,
     "metadata": {},
     "output_type": "execute_result"
    }
   ],
   "source": [
    "df['is_regular_customer'].value_counts()"
   ]
  },
  {
   "cell_type": "markdown",
   "metadata": {},
   "source": [
    "## Категории"
   ]
  },
  {
   "cell_type": "code",
   "execution_count": 27,
   "metadata": {
    "ExecuteTime": {
     "end_time": "2021-05-16T20:16:47.187648Z",
     "start_time": "2021-05-16T20:16:47.144076Z"
    }
   },
   "outputs": [],
   "source": [
    "# hotfix\n",
    "\n",
    "df['product'] = df['product'].str.lower().str.replace(r'ё', 'е')\n",
    "df['product'] = df['product'].str.lower().str.replace(r'tepмокружка', 'термокружка')\n",
    "df['product'] = df['product'].str.lower().str.replace(r'наматрицник', 'наматрацник')"
   ]
  },
  {
   "cell_type": "markdown",
   "metadata": {},
   "source": [
    "### Простой способ\n",
    "На основе первого слова в названии товара"
   ]
  },
  {
   "cell_type": "code",
   "execution_count": 28,
   "metadata": {
    "ExecuteTime": {
     "end_time": "2021-05-16T20:16:47.249908Z",
     "start_time": "2021-05-16T20:16:47.190233Z"
    }
   },
   "outputs": [],
   "source": [
    "# поиск первого слова\n",
    "\n",
    "df['first_word'] = df['product'].str.lower().str.split(r'( )', expand=True)[0]"
   ]
  },
  {
   "cell_type": "code",
   "execution_count": 29,
   "metadata": {
    "ExecuteTime": {
     "end_time": "2021-05-16T20:16:47.259470Z",
     "start_time": "2021-05-16T20:16:47.252345Z"
    }
   },
   "outputs": [
    {
     "data": {
      "text/plain": [
       "457"
      ]
     },
     "execution_count": 29,
     "metadata": {},
     "output_type": "execute_result"
    }
   ],
   "source": [
    "# количество уникальных первых слов\n",
    "\n",
    "n_first_word = df['first_word'].nunique()\n",
    "n_first_word"
   ]
  },
  {
   "cell_type": "code",
   "execution_count": 30,
   "metadata": {
    "ExecuteTime": {
     "end_time": "2021-05-16T20:16:47.269069Z",
     "start_time": "2021-05-16T20:16:47.261621Z"
    }
   },
   "outputs": [
    {
     "name": "stdout",
     "output_type": "stream",
     "text": [
      "Среднее количество товаров в одном уникальном первом слове: 5.12\n"
     ]
    }
   ],
   "source": [
    "print('Среднее количество товаров в одном уникальном первом слове: {:.2f}'.format(1 / (n_first_word / df['product'].nunique())))"
   ]
  },
  {
   "cell_type": "markdown",
   "metadata": {},
   "source": [
    "### Продвинутый способ \n",
    "На основе первого существительного в названии товара"
   ]
  },
  {
   "cell_type": "code",
   "execution_count": 31,
   "metadata": {
    "ExecuteTime": {
     "end_time": "2021-05-16T20:16:47.278417Z",
     "start_time": "2021-05-16T20:16:47.272062Z"
    }
   },
   "outputs": [],
   "source": [
    "# регулярное выражение для поиска прилагательных слов\n",
    "\n",
    "is_adjective = re.compile('[а-я]{3,}[кншлжшчвдщц](?!ия|ие|ея|ей)[ауеыиоюя][йяе]$')\n",
    "\n",
    "# любые 3 и более кирилических символа\n",
    "# согласные из набора [кншлжшчвдщц]\n",
    "# с учетом отсутствия любого из следующих символов ия|ие|ея|ей после согласных\n",
    "# гласные из набор [ауеыиоюя]\n",
    "# гласные из набора [йяе]\n",
    "# конец строки"
   ]
  },
  {
   "cell_type": "code",
   "execution_count": 32,
   "metadata": {
    "ExecuteTime": {
     "end_time": "2021-05-16T20:16:47.360139Z",
     "start_time": "2021-05-16T20:16:47.284036Z"
    }
   },
   "outputs": [
    {
     "name": "stdout",
     "output_type": "stream",
     "text": [
      "комнатное\n",
      "настенная\n",
      "стеклянная\n",
      "многолетнее\n",
      "мусорный\n",
      "гладильная\n"
     ]
    }
   ],
   "source": [
    "# проверка работы регулярки\n",
    "count = 0\n",
    "for x in df['product'].str.lower().str.split(r'( |-|,)', expand=True)[0].unique():\n",
    "    if count > 5:\n",
    "        break\n",
    "    if re.findall(is_adjective, x) != []:\n",
    "        print(x)\n",
    "        count = count +1"
   ]
  },
  {
   "cell_type": "code",
   "execution_count": 33,
   "metadata": {
    "ExecuteTime": {
     "end_time": "2021-05-16T20:16:47.445802Z",
     "start_time": "2021-05-16T20:16:47.363087Z"
    }
   },
   "outputs": [],
   "source": [
    "# найдем все прилагательные в первых и вторых словах названий товаров\n",
    "\n",
    "not_nouns = []\n",
    "for product in df['product'].drop_duplicates().str.lower().str.split(r'( |-|,)', expand=True)[0].unique():\n",
    "    if re.findall(is_adjective, product) != []:\n",
    "        not_nouns.append(product)\n",
    "        \n",
    "for product in df['product'].drop_duplicates().str.lower().str.split(r'( |-|,)', expand=True)[2].unique():\n",
    "    if re.findall(is_adjective, product) != []:\n",
    "        not_nouns.append(product)\n",
    "        \n",
    "not_nouns = set(not_nouns)"
   ]
  },
  {
   "cell_type": "code",
   "execution_count": 34,
   "metadata": {
    "ExecuteTime": {
     "end_time": "2021-05-16T20:16:47.453395Z",
     "start_time": "2021-05-16T20:16:47.448306Z"
    }
   },
   "outputs": [
    {
     "data": {
      "text/plain": [
       "255"
      ]
     },
     "execution_count": 34,
     "metadata": {},
     "output_type": "execute_result"
    }
   ],
   "source": [
    "# найдено уникальных прилагательных\n",
    "len(not_nouns)"
   ]
  },
  {
   "cell_type": "code",
   "execution_count": 35,
   "metadata": {
    "ExecuteTime": {
     "end_time": "2021-05-16T20:16:47.466005Z",
     "start_time": "2021-05-16T20:16:47.456617Z"
    }
   },
   "outputs": [],
   "source": [
    "def get_name(value):\n",
    "    # сохраняем полученное значение в список\n",
    "    temp_list = re.split(r'( |-|,)', str(value.lower()))\n",
    "\n",
    "    # проверяем, что каждое из двух первых слов не входит в список\n",
    "    \n",
    "    if temp_list[0] not in not_nouns:\n",
    "        return(temp_list[0]) # возвращает первое слово\n",
    "    elif temp_list[2] not in not_nouns:\n",
    "        return(temp_list[2]) # возвращает второе слово\n",
    "    else:\n",
    "        return(temp_list[4]) # возвращает третье слово"
   ]
  },
  {
   "cell_type": "code",
   "execution_count": 36,
   "metadata": {
    "ExecuteTime": {
     "end_time": "2021-05-16T20:16:47.514699Z",
     "start_time": "2021-05-16T20:16:47.469545Z"
    }
   },
   "outputs": [],
   "source": [
    "# применяем функцию \n",
    "\n",
    "df['category'] = df['product'].apply(lambda x: get_name(x))"
   ]
  },
  {
   "cell_type": "code",
   "execution_count": 37,
   "metadata": {
    "ExecuteTime": {
     "end_time": "2021-05-16T20:16:47.526210Z",
     "start_time": "2021-05-16T20:16:47.517045Z"
    }
   },
   "outputs": [
    {
     "data": {
      "text/plain": [
       "пеларгония     714\n",
       "рассада        479\n",
       "сушилка        292\n",
       "сумка          250\n",
       "муляж          195\n",
       "              ... \n",
       "гель             1\n",
       "кипятильник      1\n",
       "горох            1\n",
       "иссоп            1\n",
       "циния            1\n",
       "Name: category, Length: 404, dtype: int64"
      ]
     },
     "execution_count": 37,
     "metadata": {},
     "output_type": "execute_result"
    }
   ],
   "source": [
    "df['category'].value_counts()"
   ]
  },
  {
   "cell_type": "code",
   "execution_count": 38,
   "metadata": {
    "ExecuteTime": {
     "end_time": "2021-05-16T20:16:47.536711Z",
     "start_time": "2021-05-16T20:16:47.528561Z"
    }
   },
   "outputs": [
    {
     "data": {
      "text/plain": [
       "404"
      ]
     },
     "execution_count": 38,
     "metadata": {},
     "output_type": "execute_result"
    }
   ],
   "source": [
    "# количество уникальных категорий\n",
    "\n",
    "n_category = df['category'].nunique()\n",
    "n_category"
   ]
  },
  {
   "cell_type": "code",
   "execution_count": 39,
   "metadata": {
    "ExecuteTime": {
     "end_time": "2021-05-16T20:16:47.554479Z",
     "start_time": "2021-05-16T20:16:47.538828Z"
    }
   },
   "outputs": [
    {
     "data": {
      "text/html": [
       "<div>\n",
       "<style scoped>\n",
       "    .dataframe tbody tr th:only-of-type {\n",
       "        vertical-align: middle;\n",
       "    }\n",
       "\n",
       "    .dataframe tbody tr th {\n",
       "        vertical-align: top;\n",
       "    }\n",
       "\n",
       "    .dataframe thead th {\n",
       "        text-align: right;\n",
       "    }\n",
       "</style>\n",
       "<table border=\"1\" class=\"dataframe\">\n",
       "  <thead>\n",
       "    <tr style=\"text-align: right;\">\n",
       "      <th></th>\n",
       "      <th>date</th>\n",
       "      <th>customer_id</th>\n",
       "      <th>order_id</th>\n",
       "      <th>product</th>\n",
       "      <th>quantity</th>\n",
       "      <th>price</th>\n",
       "      <th>timestamp</th>\n",
       "      <th>cost</th>\n",
       "      <th>serial_number_order</th>\n",
       "      <th>is_regular_customer</th>\n",
       "      <th>first_word</th>\n",
       "      <th>category</th>\n",
       "    </tr>\n",
       "  </thead>\n",
       "  <tbody>\n",
       "  </tbody>\n",
       "</table>\n",
       "</div>"
      ],
      "text/plain": [
       "Empty DataFrame\n",
       "Columns: [date, customer_id, order_id, product, quantity, price, timestamp, cost, serial_number_order, is_regular_customer, first_word, category]\n",
       "Index: []"
      ]
     },
     "execution_count": 39,
     "metadata": {},
     "output_type": "execute_result"
    }
   ],
   "source": [
    "# есть ли короткие названия категорий (например, предлоги)\n",
    "df[df['category'].str.len() < 3]"
   ]
  },
  {
   "cell_type": "code",
   "execution_count": 40,
   "metadata": {
    "ExecuteTime": {
     "end_time": "2021-05-16T20:16:47.578791Z",
     "start_time": "2021-05-16T20:16:47.557507Z"
    }
   },
   "outputs": [
    {
     "data": {
      "text/html": [
       "<div>\n",
       "<style scoped>\n",
       "    .dataframe tbody tr th:only-of-type {\n",
       "        vertical-align: middle;\n",
       "    }\n",
       "\n",
       "    .dataframe tbody tr th {\n",
       "        vertical-align: top;\n",
       "    }\n",
       "\n",
       "    .dataframe thead th {\n",
       "        text-align: right;\n",
       "    }\n",
       "</style>\n",
       "<table border=\"1\" class=\"dataframe\">\n",
       "  <thead>\n",
       "    <tr style=\"text-align: right;\">\n",
       "      <th></th>\n",
       "      <th>date</th>\n",
       "      <th>customer_id</th>\n",
       "      <th>order_id</th>\n",
       "      <th>product</th>\n",
       "      <th>quantity</th>\n",
       "      <th>price</th>\n",
       "      <th>timestamp</th>\n",
       "      <th>cost</th>\n",
       "      <th>serial_number_order</th>\n",
       "      <th>is_regular_customer</th>\n",
       "      <th>first_word</th>\n",
       "      <th>category</th>\n",
       "    </tr>\n",
       "  </thead>\n",
       "  <tbody>\n",
       "  </tbody>\n",
       "</table>\n",
       "</div>"
      ],
      "text/plain": [
       "Empty DataFrame\n",
       "Columns: [date, customer_id, order_id, product, quantity, price, timestamp, cost, serial_number_order, is_regular_customer, first_word, category]\n",
       "Index: []"
      ]
     },
     "execution_count": 40,
     "metadata": {},
     "output_type": "execute_result"
    }
   ],
   "source": [
    "# есть ли в названии цифры\n",
    "df[df['category'].str.contains(r'\\d+')]"
   ]
  },
  {
   "cell_type": "code",
   "execution_count": 41,
   "metadata": {
    "ExecuteTime": {
     "end_time": "2021-05-16T20:16:47.595895Z",
     "start_time": "2021-05-16T20:16:47.581094Z"
    }
   },
   "outputs": [
    {
     "data": {
      "text/html": [
       "<div>\n",
       "<style scoped>\n",
       "    .dataframe tbody tr th:only-of-type {\n",
       "        vertical-align: middle;\n",
       "    }\n",
       "\n",
       "    .dataframe tbody tr th {\n",
       "        vertical-align: top;\n",
       "    }\n",
       "\n",
       "    .dataframe thead th {\n",
       "        text-align: right;\n",
       "    }\n",
       "</style>\n",
       "<table border=\"1\" class=\"dataframe\">\n",
       "  <thead>\n",
       "    <tr style=\"text-align: right;\">\n",
       "      <th></th>\n",
       "      <th>date</th>\n",
       "      <th>customer_id</th>\n",
       "      <th>order_id</th>\n",
       "      <th>product</th>\n",
       "      <th>quantity</th>\n",
       "      <th>price</th>\n",
       "      <th>timestamp</th>\n",
       "      <th>cost</th>\n",
       "      <th>serial_number_order</th>\n",
       "      <th>is_regular_customer</th>\n",
       "      <th>first_word</th>\n",
       "      <th>category</th>\n",
       "    </tr>\n",
       "  </thead>\n",
       "  <tbody>\n",
       "  </tbody>\n",
       "</table>\n",
       "</div>"
      ],
      "text/plain": [
       "Empty DataFrame\n",
       "Columns: [date, customer_id, order_id, product, quantity, price, timestamp, cost, serial_number_order, is_regular_customer, first_word, category]\n",
       "Index: []"
      ]
     },
     "execution_count": 41,
     "metadata": {},
     "output_type": "execute_result"
    }
   ],
   "source": [
    "# есть ли в названии английские символы\n",
    "df[df['category'].str.contains(r'[a-z]+')]"
   ]
  },
  {
   "cell_type": "code",
   "execution_count": 42,
   "metadata": {
    "ExecuteTime": {
     "end_time": "2021-05-16T20:16:47.604313Z",
     "start_time": "2021-05-16T20:16:47.597969Z"
    },
    "scrolled": true
   },
   "outputs": [
    {
     "name": "stdout",
     "output_type": "stream",
     "text": [
      "Среднее количество товаров в одной уникальной категории: 5.79\n"
     ]
    }
   ],
   "source": [
    "print('Среднее количество товаров в одной уникальной категории: {:.2f}'.format(1 / (n_category / df['product'].nunique())))"
   ]
  },
  {
   "cell_type": "markdown",
   "metadata": {},
   "source": [
    "### Дополнительные вычисления"
   ]
  },
  {
   "cell_type": "code",
   "execution_count": 43,
   "metadata": {
    "ExecuteTime": {
     "end_time": "2021-05-16T20:16:47.630499Z",
     "start_time": "2021-05-16T20:16:47.607508Z"
    }
   },
   "outputs": [
    {
     "data": {
      "text/html": [
       "<div>\n",
       "<style scoped>\n",
       "    .dataframe tbody tr th:only-of-type {\n",
       "        vertical-align: middle;\n",
       "    }\n",
       "\n",
       "    .dataframe tbody tr th {\n",
       "        vertical-align: top;\n",
       "    }\n",
       "\n",
       "    .dataframe thead th {\n",
       "        text-align: right;\n",
       "    }\n",
       "</style>\n",
       "<table border=\"1\" class=\"dataframe\">\n",
       "  <thead>\n",
       "    <tr style=\"text-align: right;\">\n",
       "      <th></th>\n",
       "      <th>first_word</th>\n",
       "      <th>category</th>\n",
       "      <th>product</th>\n",
       "    </tr>\n",
       "  </thead>\n",
       "  <tbody>\n",
       "    <tr>\n",
       "      <th>2586</th>\n",
       "      <td>автоматическая</td>\n",
       "      <td>щетка</td>\n",
       "      <td>автоматическая щетка leifheit для мытья окон с...</td>\n",
       "    </tr>\n",
       "    <tr>\n",
       "      <th>930</th>\n",
       "      <td>ароматизированное</td>\n",
       "      <td>средство</td>\n",
       "      <td>ароматизированное средство дудаления известков...</td>\n",
       "    </tr>\n",
       "    <tr>\n",
       "      <th>2628</th>\n",
       "      <td>бельевые</td>\n",
       "      <td>прищепки</td>\n",
       "      <td>бельевые прищепки york классик 20 шт g96010</td>\n",
       "    </tr>\n",
       "    <tr>\n",
       "      <th>4644</th>\n",
       "      <td>вакуумный</td>\n",
       "      <td>пакет</td>\n",
       "      <td>вакуумный пакет eva для хранения вещей 50х85 с...</td>\n",
       "    </tr>\n",
       "    <tr>\n",
       "      <th>1402</th>\n",
       "      <td>вешалка-перекладина</td>\n",
       "      <td>вешалка</td>\n",
       "      <td>вешалка-перекладина valiant металлическая двой...</td>\n",
       "    </tr>\n",
       "    <tr>\n",
       "      <th>...</th>\n",
       "      <td>...</td>\n",
       "      <td>...</td>\n",
       "      <td>...</td>\n",
       "    </tr>\n",
       "    <tr>\n",
       "      <th>648</th>\n",
       "      <td>чайная</td>\n",
       "      <td>ложка</td>\n",
       "      <td>чайная ложка better цветной горох bt-c2003e-td...</td>\n",
       "    </tr>\n",
       "    <tr>\n",
       "      <th>576</th>\n",
       "      <td>чайный</td>\n",
       "      <td>набор</td>\n",
       "      <td>чайный набор luminarc рейнбоу 220 мл j5978</td>\n",
       "    </tr>\n",
       "    <tr>\n",
       "      <th>231</th>\n",
       "      <td>чистящий</td>\n",
       "      <td>крем</td>\n",
       "      <td>чистящий крем для трудновыводимых пятен mama l...</td>\n",
       "    </tr>\n",
       "    <tr>\n",
       "      <th>42</th>\n",
       "      <td>щетка-сметка</td>\n",
       "      <td>щетка</td>\n",
       "      <td>щетка-сметка 3-х рядная деревянная 450 мм (пло...</td>\n",
       "    </tr>\n",
       "    <tr>\n",
       "      <th>257</th>\n",
       "      <td>щетка-утюжок</td>\n",
       "      <td>щетка</td>\n",
       "      <td>щетка-утюжок с ручкой миди, standart, york, g1126</td>\n",
       "    </tr>\n",
       "  </tbody>\n",
       "</table>\n",
       "<p>84 rows × 3 columns</p>\n",
       "</div>"
      ],
      "text/plain": [
       "               first_word  category  \\\n",
       "2586       автоматическая     щетка   \n",
       "930     ароматизированное  средство   \n",
       "2628             бельевые  прищепки   \n",
       "4644            вакуумный     пакет   \n",
       "1402  вешалка-перекладина   вешалка   \n",
       "...                   ...       ...   \n",
       "648                чайная     ложка   \n",
       "576                чайный     набор   \n",
       "231              чистящий      крем   \n",
       "42           щетка-сметка     щетка   \n",
       "257          щетка-утюжок     щетка   \n",
       "\n",
       "                                                product  \n",
       "2586  автоматическая щетка leifheit для мытья окон с...  \n",
       "930   ароматизированное средство дудаления известков...  \n",
       "2628        бельевые прищепки york классик 20 шт g96010  \n",
       "4644  вакуумный пакет eva для хранения вещей 50х85 с...  \n",
       "1402  вешалка-перекладина valiant металлическая двой...  \n",
       "...                                                 ...  \n",
       "648   чайная ложка better цветной горох bt-c2003e-td...  \n",
       "576          чайный набор luminarc рейнбоу 220 мл j5978  \n",
       "231   чистящий крем для трудновыводимых пятен mama l...  \n",
       "42    щетка-сметка 3-х рядная деревянная 450 мм (пло...  \n",
       "257   щетка-утюжок с ручкой миди, standart, york, g1126  \n",
       "\n",
       "[84 rows x 3 columns]"
      ]
     },
     "execution_count": 43,
     "metadata": {},
     "output_type": "execute_result"
    }
   ],
   "source": [
    "# сверяем расхождения у первого слова и первого существительного\n",
    "\n",
    "(df[df['first_word']!=df['category']]\n",
    " [['first_word','category', 'product']]\n",
    " .drop_duplicates(subset=['first_word', 'category'])\n",
    " .sort_values('first_word'))"
   ]
  },
  {
   "cell_type": "code",
   "execution_count": 44,
   "metadata": {
    "ExecuteTime": {
     "end_time": "2021-05-16T20:16:48.014300Z",
     "start_time": "2021-05-16T20:16:47.632924Z"
    },
    "scrolled": false
   },
   "outputs": [
    {
     "name": "stdout",
     "output_type": "stream",
     "text": [
      "бальзам бальзамин 2\n",
      "веник венчик 1\n",
      "вешалка вешалки 1\n",
      "календула каллуна 2\n",
      "калла каллуна 2\n",
      "корзина корзинка 0\n",
      "корзина кориандр 2\n",
      "корзинка кориандр 2\n",
      "короб коробка 1\n",
      "наматрасник наматрацник 2\n",
      "полки половник 2\n",
      "простынь простыня 2\n",
      "пуансетия пуансеттия 0\n",
      "салфетка салфетки 1\n",
      "стремянка стремянки 2\n",
      "термометр термос 1\n",
      "томат томата 0\n",
      "цинерания цинерария 0\n",
      "циния цинния 0\n"
     ]
    }
   ],
   "source": [
    "# ищем одинаковые слова, но с разными окончаниями\n",
    "\n",
    "list = df['category'].sort_values().unique()\n",
    "n = len(list)\n",
    "\n",
    "for i in range(n-1) :\n",
    "    for j in range(i+1,n) :\n",
    "        res = len(set(list[i]) ^ set(list[j]))\n",
    "        if list[i][0:3] == list[j][0:3]:\n",
    "            if res < 3 and res < len(list[j]) / 3:\n",
    "                word1 = list[i]\n",
    "                word2 = list[j]\n",
    "                print(word1,word2, res)"
   ]
  },
  {
   "cell_type": "code",
   "execution_count": 45,
   "metadata": {
    "ExecuteTime": {
     "end_time": "2021-05-16T20:16:48.021811Z",
     "start_time": "2021-05-16T20:16:48.016734Z"
    }
   },
   "outputs": [],
   "source": [
    "# список однокоренных слов, но с разными окончаниями (лемматизация на коленке)\n",
    "\n",
    "check = [\n",
    "    'вешалка', 'вешалки',\n",
    "    'корзина', 'корзинка',\n",
    "    'короб', 'коробка',\n",
    "    'наматрасник', 'наматрацник',\n",
    "    'простынь', 'простыня',\n",
    "    'пуансетия', 'пуансеттия',\n",
    "    'салфетка', 'салфетки',\n",
    "    'стремянка', 'стремянки',\n",
    "    'томат', 'томата',\n",
    "    'цинерания', 'цинерария',\n",
    "    'циния', 'цинния',\n",
    "]"
   ]
  },
  {
   "cell_type": "code",
   "execution_count": 46,
   "metadata": {
    "ExecuteTime": {
     "end_time": "2021-05-16T20:16:48.033083Z",
     "start_time": "2021-05-16T20:16:48.024518Z"
    }
   },
   "outputs": [],
   "source": [
    "check_data = df[df['category'].isin(check)]['category']\n",
    "check_data = check_data.value_counts(normalize=True).sort_values().reset_index()"
   ]
  },
  {
   "cell_type": "code",
   "execution_count": 47,
   "metadata": {
    "ExecuteTime": {
     "end_time": "2021-05-16T20:16:48.048445Z",
     "start_time": "2021-05-16T20:16:48.038490Z"
    }
   },
   "outputs": [
    {
     "data": {
      "text/html": [
       "<div>\n",
       "<style scoped>\n",
       "    .dataframe tbody tr th:only-of-type {\n",
       "        vertical-align: middle;\n",
       "    }\n",
       "\n",
       "    .dataframe tbody tr th {\n",
       "        vertical-align: top;\n",
       "    }\n",
       "\n",
       "    .dataframe thead th {\n",
       "        text-align: right;\n",
       "    }\n",
       "</style>\n",
       "<table border=\"1\" class=\"dataframe\">\n",
       "  <thead>\n",
       "    <tr style=\"text-align: right;\">\n",
       "      <th></th>\n",
       "      <th>index</th>\n",
       "      <th>category</th>\n",
       "    </tr>\n",
       "  </thead>\n",
       "  <tbody>\n",
       "    <tr>\n",
       "      <th>20</th>\n",
       "      <td>вешалка</td>\n",
       "      <td>0.165</td>\n",
       "    </tr>\n",
       "    <tr>\n",
       "      <th>11</th>\n",
       "      <td>вешалки</td>\n",
       "      <td>0.012</td>\n",
       "    </tr>\n",
       "    <tr>\n",
       "      <th>19</th>\n",
       "      <td>корзина</td>\n",
       "      <td>0.101</td>\n",
       "    </tr>\n",
       "    <tr>\n",
       "      <th>3</th>\n",
       "      <td>корзинка</td>\n",
       "      <td>0.003</td>\n",
       "    </tr>\n",
       "    <tr>\n",
       "      <th>7</th>\n",
       "      <td>короб</td>\n",
       "      <td>0.006</td>\n",
       "    </tr>\n",
       "    <tr>\n",
       "      <th>15</th>\n",
       "      <td>коробка</td>\n",
       "      <td>0.021</td>\n",
       "    </tr>\n",
       "  </tbody>\n",
       "</table>\n",
       "</div>"
      ],
      "text/plain": [
       "       index  category\n",
       "20   вешалка     0.165\n",
       "11   вешалки     0.012\n",
       "19   корзина     0.101\n",
       "3   корзинка     0.003\n",
       "7      короб     0.006\n",
       "15   коробка     0.021"
      ]
     },
     "execution_count": 47,
     "metadata": {},
     "output_type": "execute_result"
    }
   ],
   "source": [
    "# создаем рейтинг того, как часто встречается то или иное описание\n",
    "\n",
    "check_data = check_data.sort_values('index')\n",
    "check_data.head(6)"
   ]
  },
  {
   "cell_type": "code",
   "execution_count": 48,
   "metadata": {
    "ExecuteTime": {
     "end_time": "2021-05-16T20:16:48.065363Z",
     "start_time": "2021-05-16T20:16:48.051296Z"
    }
   },
   "outputs": [],
   "source": [
    "# заменяем слово из пары на то, которое более чаще встречается в датасете\n",
    "\n",
    "for x in range(0,check_data['index'].nunique(),2):\n",
    "    if check_data['category'].iloc[x] > check_data['category'].iloc[x+1]:\n",
    "        df['category'].replace(check_data['index'].iloc[x+1], check_data['index'].iloc[x], inplace=True)\n",
    "    else:\n",
    "        df['category'].replace(check_data['index'].iloc[x], check_data['index'].iloc[x+1], inplace=True)\n",
    "    "
   ]
  },
  {
   "cell_type": "code",
   "execution_count": 49,
   "metadata": {
    "ExecuteTime": {
     "end_time": "2021-05-16T20:16:48.078391Z",
     "start_time": "2021-05-16T20:16:48.067656Z"
    }
   },
   "outputs": [
    {
     "data": {
      "text/plain": [
       "array(['вешалка'], dtype=object)"
      ]
     },
     "execution_count": 49,
     "metadata": {},
     "output_type": "execute_result"
    }
   ],
   "source": [
    "# проверяем результат\n",
    "\n",
    "df[df['category'].str.contains('вешалк')]['category'].unique()"
   ]
  },
  {
   "cell_type": "code",
   "execution_count": 50,
   "metadata": {
    "ExecuteTime": {
     "end_time": "2021-05-16T20:16:48.087324Z",
     "start_time": "2021-05-16T20:16:48.080943Z"
    }
   },
   "outputs": [
    {
     "data": {
      "text/plain": [
       "393"
      ]
     },
     "execution_count": 50,
     "metadata": {},
     "output_type": "execute_result"
    }
   ],
   "source": [
    "n_category = df['category'].nunique()\n",
    "n_category"
   ]
  },
  {
   "cell_type": "code",
   "execution_count": 51,
   "metadata": {
    "ExecuteTime": {
     "end_time": "2021-05-16T20:16:48.095324Z",
     "start_time": "2021-05-16T20:16:48.089707Z"
    }
   },
   "outputs": [
    {
     "name": "stdout",
     "output_type": "stream",
     "text": [
      "Среднее количество товаров в одной уникальной категории: 5.96\n"
     ]
    }
   ],
   "source": [
    "print('Среднее количество товаров в одной уникальной категории: {:.2f}'.format(1 / (393 / df['product'].nunique())))"
   ]
  },
  {
   "cell_type": "code",
   "execution_count": 52,
   "metadata": {
    "ExecuteTime": {
     "end_time": "2021-05-16T20:16:48.673734Z",
     "start_time": "2021-05-16T20:16:48.097308Z"
    }
   },
   "outputs": [],
   "source": [
    "# назначим категорию \"другое\" для всех товарных категорий, которые встречаются всего лишь 1 раз в датасете\n",
    "\n",
    "temp = df['category'].value_counts().reset_index()\n",
    "temp = temp[temp['category'] == 1]\n",
    "\n",
    "# df['category_upd'] = df['category']\n",
    "df['category'] = df['category'].apply(lambda x: 'другое' if x in temp['index'].unique() else x)"
   ]
  },
  {
   "cell_type": "code",
   "execution_count": 53,
   "metadata": {
    "ExecuteTime": {
     "end_time": "2021-05-16T20:16:48.682226Z",
     "start_time": "2021-05-16T20:16:48.676155Z"
    }
   },
   "outputs": [
    {
     "data": {
      "text/plain": [
       "235"
      ]
     },
     "execution_count": 53,
     "metadata": {},
     "output_type": "execute_result"
    }
   ],
   "source": [
    "n_category = df['category'].nunique()\n",
    "n_category"
   ]
  },
  {
   "cell_type": "code",
   "execution_count": 54,
   "metadata": {
    "ExecuteTime": {
     "end_time": "2021-05-16T20:16:48.690697Z",
     "start_time": "2021-05-16T20:16:48.684427Z"
    }
   },
   "outputs": [
    {
     "name": "stdout",
     "output_type": "stream",
     "text": [
      "Среднее количество товаров в одной уникальной категории: 9.96\n"
     ]
    }
   ],
   "source": [
    "print('Среднее количество товаров в одной уникальной категории: {:.2f}'.format(1 / (n_category / df['product'].nunique())))"
   ]
  },
  {
   "cell_type": "markdown",
   "metadata": {},
   "source": [
    "# Поиск аномалий"
   ]
  },
  {
   "cell_type": "markdown",
   "metadata": {},
   "source": [
    "## Изучаем метрику цены товаров"
   ]
  },
  {
   "cell_type": "code",
   "execution_count": 55,
   "metadata": {
    "ExecuteTime": {
     "end_time": "2021-05-16T20:16:48.886442Z",
     "start_time": "2021-05-16T20:16:48.692998Z"
    }
   },
   "outputs": [
    {
     "data": {
      "image/png": "[encoded data removed]",
      "text/plain": [
       "<Figure size 864x432 with 1 Axes>"
      ]
     },
     "metadata": {},
     "output_type": "display_data"
    }
   ],
   "source": [
    "df['price'].plot(kind='box')\n",
    "\n",
    "plt.title('Диаграмма размаха цены'+'\\n');"
   ]
  },
  {
   "cell_type": "code",
   "execution_count": 56,
   "metadata": {
    "ExecuteTime": {
     "end_time": "2021-05-16T20:16:48.896406Z",
     "start_time": "2021-05-16T20:16:48.888755Z"
    }
   },
   "outputs": [
    {
     "data": {
      "text/plain": [
       "0.900   1424.000\n",
       "0.950   2174.000\n",
       "0.990   4949.000\n",
       "0.995   6105.880\n",
       "Name: price, dtype: float64"
      ]
     },
     "execution_count": 56,
     "metadata": {},
     "output_type": "execute_result"
    }
   ],
   "source": [
    "# посмотрим на крайник квантили\n",
    "df['price'].quantile([.9, 0.95, 0.99, 0.995])"
   ]
  },
  {
   "cell_type": "code",
   "execution_count": 57,
   "metadata": {
    "ExecuteTime": {
     "end_time": "2021-05-16T20:16:48.917461Z",
     "start_time": "2021-05-16T20:16:48.898289Z"
    }
   },
   "outputs": [
    {
     "data": {
      "text/plain": [
       "(-5.909000000000001, 1499.8]   0.906\n",
       "(1499.8, 2990.6]               0.063\n",
       "(2990.6, 4481.4]               0.018\n",
       "(4481.4, 5972.2]               0.006\n",
       "(5972.2, 7463.0]               0.004\n",
       "(7463.0, 8953.8]               0.001\n",
       "(13426.2, 14917.0]             0.000\n",
       "(11935.4, 13426.2]             0.000\n",
       "(10444.6, 11935.4]             0.000\n",
       "(8953.8, 10444.6]              0.000\n",
       "Name: price, dtype: float64"
      ]
     },
     "execution_count": 57,
     "metadata": {},
     "output_type": "execute_result"
    }
   ],
   "source": [
    "df['price'].value_counts(bins=10, normalize=True)"
   ]
  },
  {
   "cell_type": "code",
   "execution_count": 58,
   "metadata": {
    "ExecuteTime": {
     "end_time": "2021-05-16T20:16:48.931583Z",
     "start_time": "2021-05-16T20:16:48.919688Z"
    }
   },
   "outputs": [
    {
     "data": {
      "text/plain": [
       "product\n",
       "сушилка уличная leifheit 85210 linomatic v 400 40 м 175х237х237 см зеленая               14917.000\n",
       "сумка-тележка хозяйственная andersen royal shopper, hera, синяя 166-004-90                8737.000\n",
       "сумка-тележка хозяйственная andersen alu star shopper, hava, синяя 115-103-90             8437.000\n",
       "сумка-тележка хозяйственная rolser mnb019 rojo logic dos+2 красная                        8077.000\n",
       "стремянка 7 ступенчатая hailo 8040-707 xxl 13 см алюминиевая с лотком для инструментов    7724.000\n",
       "сумка-тележка хозяйственная rolser mnb017 fucsia logic dos+2 фуксия                       7679.000\n",
       "сумка-тележка хозяйственная rolser imx006 bassi logic tour бордовая                       7679.000\n",
       "сумка-тележка хозяйственная rolser mou041 malva rd6 сиреневая                             7597.000\n",
       "гладильная доска leifheit airboard compact m plus 120х38 см малиновый 71630               7424.000\n",
       "урна уличная стальная сальвадор 02.021.0 46х110 см                                        7349.000\n",
       "Name: price, dtype: float64"
      ]
     },
     "execution_count": 58,
     "metadata": {},
     "output_type": "execute_result"
    }
   ],
   "source": [
    "df.groupby('product')['price'].max().sort_values(ascending=False).head(10)"
   ]
  },
  {
   "cell_type": "code",
   "execution_count": 59,
   "metadata": {
    "ExecuteTime": {
     "end_time": "2021-05-16T20:16:48.954980Z",
     "start_time": "2021-05-16T20:16:48.933892Z"
    }
   },
   "outputs": [
    {
     "data": {
      "text/html": [
       "<div>\n",
       "<style scoped>\n",
       "    .dataframe tbody tr th:only-of-type {\n",
       "        vertical-align: middle;\n",
       "    }\n",
       "\n",
       "    .dataframe tbody tr th {\n",
       "        vertical-align: top;\n",
       "    }\n",
       "\n",
       "    .dataframe thead th {\n",
       "        text-align: right;\n",
       "    }\n",
       "</style>\n",
       "<table border=\"1\" class=\"dataframe\">\n",
       "  <thead>\n",
       "    <tr style=\"text-align: right;\">\n",
       "      <th></th>\n",
       "      <th>date</th>\n",
       "      <th>customer_id</th>\n",
       "      <th>order_id</th>\n",
       "      <th>product</th>\n",
       "      <th>quantity</th>\n",
       "      <th>price</th>\n",
       "      <th>timestamp</th>\n",
       "      <th>cost</th>\n",
       "      <th>serial_number_order</th>\n",
       "      <th>is_regular_customer</th>\n",
       "      <th>first_word</th>\n",
       "      <th>category</th>\n",
       "    </tr>\n",
       "  </thead>\n",
       "  <tbody>\n",
       "    <tr>\n",
       "      <th>1276</th>\n",
       "      <td>2019-01-09</td>\n",
       "      <td>d247211c-d16b-43ba-812d-6a27aff31871</td>\n",
       "      <td>69750</td>\n",
       "      <td>сумка-тележка хозяйственная gimi rolling therm...</td>\n",
       "      <td>1</td>\n",
       "      <td>2999.000</td>\n",
       "      <td>2019-01-09 14:00:00</td>\n",
       "      <td>2999.000</td>\n",
       "      <td>1</td>\n",
       "      <td>0</td>\n",
       "      <td>сумка-тележка</td>\n",
       "      <td>сумка</td>\n",
       "    </tr>\n",
       "    <tr>\n",
       "      <th>4319</th>\n",
       "      <td>2019-08-03</td>\n",
       "      <td>71b64fbc-4b00-4f9a-8cdc-8632d6aff974</td>\n",
       "      <td>72198</td>\n",
       "      <td>сумка-тележка хозяйственная gimi rolling therm...</td>\n",
       "      <td>1</td>\n",
       "      <td>2025.000</td>\n",
       "      <td>2019-08-03 22:00:00</td>\n",
       "      <td>2025.000</td>\n",
       "      <td>1</td>\n",
       "      <td>0</td>\n",
       "      <td>сумка-тележка</td>\n",
       "      <td>сумка</td>\n",
       "    </tr>\n",
       "  </tbody>\n",
       "</table>\n",
       "</div>"
      ],
      "text/plain": [
       "           date                           customer_id  order_id  \\\n",
       "1276 2019-01-09  d247211c-d16b-43ba-812d-6a27aff31871     69750   \n",
       "4319 2019-08-03  71b64fbc-4b00-4f9a-8cdc-8632d6aff974     72198   \n",
       "\n",
       "                                                product  quantity    price  \\\n",
       "1276  сумка-тележка хозяйственная gimi rolling therm...         1 2999.000   \n",
       "4319  сумка-тележка хозяйственная gimi rolling therm...         1 2025.000   \n",
       "\n",
       "               timestamp     cost  serial_number_order  is_regular_customer  \\\n",
       "1276 2019-01-09 14:00:00 2999.000                    1                    0   \n",
       "4319 2019-08-03 22:00:00 2025.000                    1                    0   \n",
       "\n",
       "         first_word category  \n",
       "1276  сумка-тележка    сумка  \n",
       "4319  сумка-тележка    сумка  "
      ]
     },
     "execution_count": 59,
     "metadata": {},
     "output_type": "execute_result"
    }
   ],
   "source": [
    "# найдем товары, которые имеют и вылеты и нормальную цену\n",
    "\n",
    "df[df['product'].isin(df[(df['price'] < 2990)&(df['product']\n",
    "    .isin(df[df['price'] > 2990]['product'].unique()))]['product'])]"
   ]
  },
  {
   "cell_type": "markdown",
   "metadata": {},
   "source": [
    "Видно, что кроме сумки-тележки другие товары отсутстуют"
   ]
  },
  {
   "cell_type": "code",
   "execution_count": 60,
   "metadata": {
    "ExecuteTime": {
     "end_time": "2021-05-16T20:16:48.966707Z",
     "start_time": "2021-05-16T20:16:48.957158Z"
    }
   },
   "outputs": [
    {
     "data": {
      "text/plain": [
       "category\n",
       "афеляндра     3524.000\n",
       "ведро         3749.000\n",
       "гортензия     3599.000\n",
       "дерево        3524.000\n",
       "доска         3963.250\n",
       "другое        3411.500\n",
       "ерш           3524.000\n",
       "коврик        3917.750\n",
       "комплект      5399.000\n",
       "контейнер     5512.000\n",
       "набор         5399.000\n",
       "наматрацник   3074.000\n",
       "одеяло        4724.000\n",
       "покрывало     5496.500\n",
       "полки         3780.333\n",
       "сиденье       6149.000\n",
       "стремянка     4270.917\n",
       "сумка         4859.141\n",
       "сушилка       4726.111\n",
       "урна          6102.250\n",
       "швабра        3224.000\n",
       "штора         3899.500\n",
       "щетка         7229.000\n",
       "Name: price, dtype: float64"
      ]
     },
     "execution_count": 60,
     "metadata": {},
     "output_type": "execute_result"
    }
   ],
   "source": [
    "df[df['price'] > 2990].groupby('category')['price'].mean()"
   ]
  },
  {
   "cell_type": "markdown",
   "metadata": {
    "ExecuteTime": {
     "end_time": "2021-05-16T17:23:56.114058Z",
     "start_time": "2021-05-16T17:23:56.104202Z"
    }
   },
   "source": [
    "**Вывод**\n",
    "\n",
    "Критических аномалий не найдено. Было принято решение оставить датасет в данной части без изменений."
   ]
  },
  {
   "cell_type": "markdown",
   "metadata": {},
   "source": [
    "## Изучаем метрику количества товаров"
   ]
  },
  {
   "cell_type": "code",
   "execution_count": 61,
   "metadata": {
    "ExecuteTime": {
     "end_time": "2021-05-16T20:16:49.119850Z",
     "start_time": "2021-05-16T20:16:48.968775Z"
    }
   },
   "outputs": [
    {
     "data": {
      "text/plain": [
       "<AxesSubplot:>"
      ]
     },
     "execution_count": 61,
     "metadata": {},
     "output_type": "execute_result"
    },
    {
     "data": {
      "image/png": "[encoded data removed]",
      "text/plain": [
       "<Figure size 864x432 with 1 Axes>"
      ]
     },
     "metadata": {},
     "output_type": "display_data"
    }
   ],
   "source": [
    "df['quantity'].plot(kind='box')"
   ]
  },
  {
   "cell_type": "code",
   "execution_count": 62,
   "metadata": {
    "ExecuteTime": {
     "end_time": "2021-05-16T20:16:49.139123Z",
     "start_time": "2021-05-16T20:16:49.122163Z"
    }
   },
   "outputs": [
    {
     "data": {
      "text/plain": [
       "(0.0, 100.9]      0.998\n",
       "(100.9, 200.8]    0.001\n",
       "(900.1, 1000.0]   0.000\n",
       "(300.7, 400.6]    0.000\n",
       "(200.8, 300.7]    0.000\n",
       "(800.2, 900.1]    0.000\n",
       "(700.3, 800.2]    0.000\n",
       "(600.4, 700.3]    0.000\n",
       "(500.5, 600.4]    0.000\n",
       "(400.6, 500.5]    0.000\n",
       "Name: quantity, dtype: float64"
      ]
     },
     "execution_count": 62,
     "metadata": {},
     "output_type": "execute_result"
    }
   ],
   "source": [
    "df['quantity'].value_counts(bins=10, normalize=True)"
   ]
  },
  {
   "cell_type": "code",
   "execution_count": 63,
   "metadata": {
    "ExecuteTime": {
     "end_time": "2021-05-16T20:16:49.169121Z",
     "start_time": "2021-05-16T20:16:49.141320Z"
    }
   },
   "outputs": [
    {
     "data": {
      "text/html": [
       "<div>\n",
       "<style scoped>\n",
       "    .dataframe tbody tr th:only-of-type {\n",
       "        vertical-align: middle;\n",
       "    }\n",
       "\n",
       "    .dataframe tbody tr th {\n",
       "        vertical-align: top;\n",
       "    }\n",
       "\n",
       "    .dataframe thead th {\n",
       "        text-align: right;\n",
       "    }\n",
       "</style>\n",
       "<table border=\"1\" class=\"dataframe\">\n",
       "  <thead>\n",
       "    <tr style=\"text-align: right;\">\n",
       "      <th></th>\n",
       "      <th>date</th>\n",
       "      <th>customer_id</th>\n",
       "      <th>order_id</th>\n",
       "      <th>product</th>\n",
       "      <th>quantity</th>\n",
       "      <th>price</th>\n",
       "      <th>timestamp</th>\n",
       "      <th>cost</th>\n",
       "      <th>serial_number_order</th>\n",
       "      <th>is_regular_customer</th>\n",
       "      <th>first_word</th>\n",
       "      <th>category</th>\n",
       "    </tr>\n",
       "  </thead>\n",
       "  <tbody>\n",
       "    <tr>\n",
       "      <th>3896</th>\n",
       "      <td>2019-06-18</td>\n",
       "      <td>312e9a3e-5fca-43ff-a6a1-892d2b2d5ba6</td>\n",
       "      <td>71743</td>\n",
       "      <td>вантуз с деревянной ручкой d14 см красный, bur...</td>\n",
       "      <td>1000</td>\n",
       "      <td>675.000</td>\n",
       "      <td>2019-06-18 15:00:00</td>\n",
       "      <td>675000.000</td>\n",
       "      <td>1</td>\n",
       "      <td>0</td>\n",
       "      <td>вантуз</td>\n",
       "      <td>вантуз</td>\n",
       "    </tr>\n",
       "    <tr>\n",
       "      <th>3830</th>\n",
       "      <td>2019-06-11</td>\n",
       "      <td>146cd9bf-a95c-4afb-915b-5f6684b17444</td>\n",
       "      <td>71668</td>\n",
       "      <td>вешалки мягкие для деликатных вещей 3 шт шоколад</td>\n",
       "      <td>334</td>\n",
       "      <td>148.000</td>\n",
       "      <td>2019-06-11 07:00:00</td>\n",
       "      <td>49432.000</td>\n",
       "      <td>1</td>\n",
       "      <td>0</td>\n",
       "      <td>вешалки</td>\n",
       "      <td>вешалка</td>\n",
       "    </tr>\n",
       "    <tr>\n",
       "      <th>3859</th>\n",
       "      <td>2019-06-13</td>\n",
       "      <td>bc507650-4585-400d-874e-078d5bf3b36e</td>\n",
       "      <td>71694</td>\n",
       "      <td>вешалки мягкие для деликатных вещей 3 шт шоколад</td>\n",
       "      <td>1</td>\n",
       "      <td>164.000</td>\n",
       "      <td>2019-06-13 11:00:00</td>\n",
       "      <td>164.000</td>\n",
       "      <td>1</td>\n",
       "      <td>0</td>\n",
       "      <td>вешалки</td>\n",
       "      <td>вешалка</td>\n",
       "    </tr>\n",
       "    <tr>\n",
       "      <th>476</th>\n",
       "      <td>2018-10-30</td>\n",
       "      <td>9804e44f-bf1d-4b3a-992f-e2a575b43b7d</td>\n",
       "      <td>68806</td>\n",
       "      <td>муляж яблоко 9 см красное</td>\n",
       "      <td>4</td>\n",
       "      <td>59.000</td>\n",
       "      <td>2018-10-30 23:00:00</td>\n",
       "      <td>236.000</td>\n",
       "      <td>1</td>\n",
       "      <td>0</td>\n",
       "      <td>муляж</td>\n",
       "      <td>муляж</td>\n",
       "    </tr>\n",
       "    <tr>\n",
       "      <th>487</th>\n",
       "      <td>2018-11-01</td>\n",
       "      <td>aa42dc38-780f-4b50-9a65-83b6fa64e766</td>\n",
       "      <td>68815</td>\n",
       "      <td>муляж яблоко 9 см красное</td>\n",
       "      <td>170</td>\n",
       "      <td>51.000</td>\n",
       "      <td>2018-11-01 08:00:00</td>\n",
       "      <td>8670.000</td>\n",
       "      <td>1</td>\n",
       "      <td>0</td>\n",
       "      <td>муляж</td>\n",
       "      <td>муляж</td>\n",
       "    </tr>\n",
       "    <tr>\n",
       "      <th>505</th>\n",
       "      <td>2018-11-02</td>\n",
       "      <td>0c5aaa88-e346-4f87-8f7a-ad8cbc04e965</td>\n",
       "      <td>68831</td>\n",
       "      <td>муляж яблоко 9 см красное</td>\n",
       "      <td>140</td>\n",
       "      <td>59.000</td>\n",
       "      <td>2018-11-02 11:00:00</td>\n",
       "      <td>8260.000</td>\n",
       "      <td>1</td>\n",
       "      <td>0</td>\n",
       "      <td>муляж</td>\n",
       "      <td>муляж</td>\n",
       "    </tr>\n",
       "    <tr>\n",
       "      <th>719</th>\n",
       "      <td>2018-11-17</td>\n",
       "      <td>2c2b3410-8218-4671-a208-4d20ed55056a</td>\n",
       "      <td>69028</td>\n",
       "      <td>муляж яблоко 9 см красное</td>\n",
       "      <td>1</td>\n",
       "      <td>59.000</td>\n",
       "      <td>2018-11-17 01:00:00</td>\n",
       "      <td>59.000</td>\n",
       "      <td>1</td>\n",
       "      <td>0</td>\n",
       "      <td>муляж</td>\n",
       "      <td>муляж</td>\n",
       "    </tr>\n",
       "    <tr>\n",
       "      <th>3432</th>\n",
       "      <td>2019-05-20</td>\n",
       "      <td>5d189e88-d4d6-4eac-ab43-fa65a3c4d106</td>\n",
       "      <td>71478</td>\n",
       "      <td>муляж яблоко 9 см красное</td>\n",
       "      <td>300</td>\n",
       "      <td>51.000</td>\n",
       "      <td>2019-05-20 21:00:00</td>\n",
       "      <td>15300.000</td>\n",
       "      <td>1</td>\n",
       "      <td>0</td>\n",
       "      <td>муляж</td>\n",
       "      <td>муляж</td>\n",
       "    </tr>\n",
       "    <tr>\n",
       "      <th>4902</th>\n",
       "      <td>2019-10-22</td>\n",
       "      <td>a0364684-750b-4162-9d19-9ad371a240df</td>\n",
       "      <td>73057</td>\n",
       "      <td>муляж яблоко 9 см красное</td>\n",
       "      <td>3</td>\n",
       "      <td>59.000</td>\n",
       "      <td>2019-10-22 12:00:00</td>\n",
       "      <td>177.000</td>\n",
       "      <td>1</td>\n",
       "      <td>0</td>\n",
       "      <td>муляж</td>\n",
       "      <td>муляж</td>\n",
       "    </tr>\n",
       "    <tr>\n",
       "      <th>198</th>\n",
       "      <td>2018-10-11</td>\n",
       "      <td>cd09ea73-d9ce-48c3-b4c5-018113735e80</td>\n",
       "      <td>68611</td>\n",
       "      <td>пружина дверная 240 мм оцинкованная (д-19 мм) ...</td>\n",
       "      <td>150</td>\n",
       "      <td>38.000</td>\n",
       "      <td>2018-10-11 14:00:00</td>\n",
       "      <td>5700.000</td>\n",
       "      <td>1</td>\n",
       "      <td>0</td>\n",
       "      <td>пружина</td>\n",
       "      <td>другое</td>\n",
       "    </tr>\n",
       "    <tr>\n",
       "      <th>1019</th>\n",
       "      <td>2018-12-10</td>\n",
       "      <td>a984c5b7-ff7e-4647-b84e-ef0b85a2762d</td>\n",
       "      <td>69289</td>\n",
       "      <td>ручка-скоба рс-100 белая *трибатрон*, 1108035</td>\n",
       "      <td>200</td>\n",
       "      <td>29.000</td>\n",
       "      <td>2018-12-10 14:00:00</td>\n",
       "      <td>5800.000</td>\n",
       "      <td>1</td>\n",
       "      <td>0</td>\n",
       "      <td>ручка-скоба</td>\n",
       "      <td>ручка</td>\n",
       "    </tr>\n",
       "  </tbody>\n",
       "</table>\n",
       "</div>"
      ],
      "text/plain": [
       "           date                           customer_id  order_id  \\\n",
       "3896 2019-06-18  312e9a3e-5fca-43ff-a6a1-892d2b2d5ba6     71743   \n",
       "3830 2019-06-11  146cd9bf-a95c-4afb-915b-5f6684b17444     71668   \n",
       "3859 2019-06-13  bc507650-4585-400d-874e-078d5bf3b36e     71694   \n",
       "476  2018-10-30  9804e44f-bf1d-4b3a-992f-e2a575b43b7d     68806   \n",
       "487  2018-11-01  aa42dc38-780f-4b50-9a65-83b6fa64e766     68815   \n",
       "505  2018-11-02  0c5aaa88-e346-4f87-8f7a-ad8cbc04e965     68831   \n",
       "719  2018-11-17  2c2b3410-8218-4671-a208-4d20ed55056a     69028   \n",
       "3432 2019-05-20  5d189e88-d4d6-4eac-ab43-fa65a3c4d106     71478   \n",
       "4902 2019-10-22  a0364684-750b-4162-9d19-9ad371a240df     73057   \n",
       "198  2018-10-11  cd09ea73-d9ce-48c3-b4c5-018113735e80     68611   \n",
       "1019 2018-12-10  a984c5b7-ff7e-4647-b84e-ef0b85a2762d     69289   \n",
       "\n",
       "                                                product  quantity   price  \\\n",
       "3896  вантуз с деревянной ручкой d14 см красный, bur...      1000 675.000   \n",
       "3830   вешалки мягкие для деликатных вещей 3 шт шоколад       334 148.000   \n",
       "3859   вешалки мягкие для деликатных вещей 3 шт шоколад         1 164.000   \n",
       "476                           муляж яблоко 9 см красное         4  59.000   \n",
       "487                           муляж яблоко 9 см красное       170  51.000   \n",
       "505                           муляж яблоко 9 см красное       140  59.000   \n",
       "719                           муляж яблоко 9 см красное         1  59.000   \n",
       "3432                          муляж яблоко 9 см красное       300  51.000   \n",
       "4902                          муляж яблоко 9 см красное         3  59.000   \n",
       "198   пружина дверная 240 мм оцинкованная (д-19 мм) ...       150  38.000   \n",
       "1019      ручка-скоба рс-100 белая *трибатрон*, 1108035       200  29.000   \n",
       "\n",
       "               timestamp       cost  serial_number_order  is_regular_customer  \\\n",
       "3896 2019-06-18 15:00:00 675000.000                    1                    0   \n",
       "3830 2019-06-11 07:00:00  49432.000                    1                    0   \n",
       "3859 2019-06-13 11:00:00    164.000                    1                    0   \n",
       "476  2018-10-30 23:00:00    236.000                    1                    0   \n",
       "487  2018-11-01 08:00:00   8670.000                    1                    0   \n",
       "505  2018-11-02 11:00:00   8260.000                    1                    0   \n",
       "719  2018-11-17 01:00:00     59.000                    1                    0   \n",
       "3432 2019-05-20 21:00:00  15300.000                    1                    0   \n",
       "4902 2019-10-22 12:00:00    177.000                    1                    0   \n",
       "198  2018-10-11 14:00:00   5700.000                    1                    0   \n",
       "1019 2018-12-10 14:00:00   5800.000                    1                    0   \n",
       "\n",
       "       first_word category  \n",
       "3896       вантуз   вантуз  \n",
       "3830      вешалки  вешалка  \n",
       "3859      вешалки  вешалка  \n",
       "476         муляж    муляж  \n",
       "487         муляж    муляж  \n",
       "505         муляж    муляж  \n",
       "719         муляж    муляж  \n",
       "3432        муляж    муляж  \n",
       "4902        муляж    муляж  \n",
       "198       пружина   другое  \n",
       "1019  ручка-скоба    ручка  "
      ]
     },
     "execution_count": 63,
     "metadata": {},
     "output_type": "execute_result"
    }
   ],
   "source": [
    "(df[df['product']\n",
    "    .isin(df.groupby('product')['quantity']\n",
    "          .max().sort_values(ascending=False)\n",
    "          .head().index)]\n",
    " .sort_values('product'))"
   ]
  },
  {
   "cell_type": "code",
   "execution_count": 64,
   "metadata": {
    "ExecuteTime": {
     "end_time": "2021-05-16T20:16:49.176163Z",
     "start_time": "2021-05-16T20:16:49.171144Z"
    }
   },
   "outputs": [],
   "source": [
    "df = df[df['quantity']<333]"
   ]
  },
  {
   "cell_type": "markdown",
   "metadata": {},
   "source": [
    "**Вывод**\n",
    "\n",
    "Найдены критические аномалии для двух товаров:\n",
    "1. вантуз с деревянной ручкой в количестве 1000 шт.\n",
    "2. вешалки мягкие для деликатных вещей 3 шт шоколад в количестве 334 шт.\n",
    "\n",
    "Данные аномалии были удалены из датасета"
   ]
  },
  {
   "cell_type": "markdown",
   "metadata": {},
   "source": [
    "## Изучаем метрику стоимости"
   ]
  },
  {
   "cell_type": "code",
   "execution_count": 65,
   "metadata": {
    "ExecuteTime": {
     "end_time": "2021-05-16T20:16:49.411935Z",
     "start_time": "2021-05-16T20:16:49.178182Z"
    }
   },
   "outputs": [
    {
     "data": {
      "image/png": "[encoded data removed]",
      "text/plain": [
       "<Figure size 864x432 with 1 Axes>"
      ]
     },
     "metadata": {},
     "output_type": "display_data"
    }
   ],
   "source": [
    "df['cost'].plot.hist(weights = np.ones_like(df.index) / len(df.index), bins=30)\n",
    "\n",
    "plt.title('Гистограмма стоимости товаров'+ '\\n')\n",
    "plt.xlabel('Стоимость')\n",
    "plt.ylabel('Доля')\n",
    "\n",
    "plt.show()"
   ]
  },
  {
   "cell_type": "markdown",
   "metadata": {},
   "source": [
    "**Комментарий**\n",
    "\n",
    "Судя по гистограмме выше наблюдается небольшое количество товаров со стоимостью более 3000 рублей. Изучим гистограмму количества товаров для такой стоимости."
   ]
  },
  {
   "cell_type": "code",
   "execution_count": 66,
   "metadata": {
    "ExecuteTime": {
     "end_time": "2021-05-16T20:16:49.422709Z",
     "start_time": "2021-05-16T20:16:49.414182Z"
    }
   },
   "outputs": [
    {
     "data": {
      "text/plain": [
       "2849.0"
      ]
     },
     "execution_count": 66,
     "metadata": {},
     "output_type": "execute_result"
    }
   ],
   "source": [
    "df['cost'].quantile(.95)"
   ]
  },
  {
   "cell_type": "code",
   "execution_count": 67,
   "metadata": {
    "ExecuteTime": {
     "end_time": "2021-05-16T20:16:49.614799Z",
     "start_time": "2021-05-16T20:16:49.424684Z"
    },
    "scrolled": false
   },
   "outputs": [
    {
     "data": {
      "image/png": "[encoded data removed]",
      "text/plain": [
       "<Figure size 864x432 with 1 Axes>"
      ]
     },
     "metadata": {},
     "output_type": "display_data"
    }
   ],
   "source": [
    "df[df['cost'] > df['cost'].quantile(.95)].sort_values('product')['quantity'].hist(bins=6)\n",
    "\n",
    "plt.title('Гистограмма количества товаров'+ '\\n')\n",
    "plt.xlabel('Количество товаров')\n",
    "\n",
    "plt.show()"
   ]
  },
  {
   "cell_type": "markdown",
   "metadata": {},
   "source": [
    "**Комментарий**\n",
    "\n",
    "Судя по гистограмме выше значимая часть товаров с высокой стоимостью обслуловлена количеством товаров до 20"
   ]
  },
  {
   "cell_type": "code",
   "execution_count": 68,
   "metadata": {
    "ExecuteTime": {
     "end_time": "2021-05-16T20:16:49.640550Z",
     "start_time": "2021-05-16T20:16:49.616920Z"
    }
   },
   "outputs": [
    {
     "data": {
      "text/html": [
       "<div>\n",
       "<style scoped>\n",
       "    .dataframe tbody tr th:only-of-type {\n",
       "        vertical-align: middle;\n",
       "    }\n",
       "\n",
       "    .dataframe tbody tr th {\n",
       "        vertical-align: top;\n",
       "    }\n",
       "\n",
       "    .dataframe thead th {\n",
       "        text-align: right;\n",
       "    }\n",
       "</style>\n",
       "<table border=\"1\" class=\"dataframe\">\n",
       "  <thead>\n",
       "    <tr style=\"text-align: right;\">\n",
       "      <th></th>\n",
       "      <th>order_id</th>\n",
       "      <th>quantity</th>\n",
       "      <th>product</th>\n",
       "      <th>delta</th>\n",
       "    </tr>\n",
       "  </thead>\n",
       "  <tbody>\n",
       "    <tr>\n",
       "      <th>2608</th>\n",
       "      <td>72845</td>\n",
       "      <td>640</td>\n",
       "      <td>1</td>\n",
       "      <td>640.000</td>\n",
       "    </tr>\n",
       "    <tr>\n",
       "      <th>1912</th>\n",
       "      <td>71478</td>\n",
       "      <td>300</td>\n",
       "      <td>1</td>\n",
       "      <td>300.000</td>\n",
       "    </tr>\n",
       "    <tr>\n",
       "      <th>405</th>\n",
       "      <td>68611</td>\n",
       "      <td>300</td>\n",
       "      <td>2</td>\n",
       "      <td>150.000</td>\n",
       "    </tr>\n",
       "    <tr>\n",
       "      <th>800</th>\n",
       "      <td>69289</td>\n",
       "      <td>200</td>\n",
       "      <td>1</td>\n",
       "      <td>200.000</td>\n",
       "    </tr>\n",
       "    <tr>\n",
       "      <th>534</th>\n",
       "      <td>68815</td>\n",
       "      <td>170</td>\n",
       "      <td>1</td>\n",
       "      <td>170.000</td>\n",
       "    </tr>\n",
       "    <tr>\n",
       "      <th>...</th>\n",
       "      <td>...</td>\n",
       "      <td>...</td>\n",
       "      <td>...</td>\n",
       "      <td>...</td>\n",
       "    </tr>\n",
       "    <tr>\n",
       "      <th>1300</th>\n",
       "      <td>70301</td>\n",
       "      <td>1</td>\n",
       "      <td>1</td>\n",
       "      <td>1.000</td>\n",
       "    </tr>\n",
       "    <tr>\n",
       "      <th>1299</th>\n",
       "      <td>70300</td>\n",
       "      <td>1</td>\n",
       "      <td>1</td>\n",
       "      <td>1.000</td>\n",
       "    </tr>\n",
       "    <tr>\n",
       "      <th>1298</th>\n",
       "      <td>70294</td>\n",
       "      <td>1</td>\n",
       "      <td>1</td>\n",
       "      <td>1.000</td>\n",
       "    </tr>\n",
       "    <tr>\n",
       "      <th>1297</th>\n",
       "      <td>70293</td>\n",
       "      <td>1</td>\n",
       "      <td>1</td>\n",
       "      <td>1.000</td>\n",
       "    </tr>\n",
       "    <tr>\n",
       "      <th>2781</th>\n",
       "      <td>73164</td>\n",
       "      <td>1</td>\n",
       "      <td>1</td>\n",
       "      <td>1.000</td>\n",
       "    </tr>\n",
       "  </tbody>\n",
       "</table>\n",
       "<p>2782 rows × 4 columns</p>\n",
       "</div>"
      ],
      "text/plain": [
       "      order_id  quantity  product   delta\n",
       "2608     72845       640        1 640.000\n",
       "1912     71478       300        1 300.000\n",
       "405      68611       300        2 150.000\n",
       "800      69289       200        1 200.000\n",
       "534      68815       170        1 170.000\n",
       "...        ...       ...      ...     ...\n",
       "1300     70301         1        1   1.000\n",
       "1299     70300         1        1   1.000\n",
       "1298     70294         1        1   1.000\n",
       "1297     70293         1        1   1.000\n",
       "2781     73164         1        1   1.000\n",
       "\n",
       "[2782 rows x 4 columns]"
      ]
     },
     "execution_count": 68,
     "metadata": {},
     "output_type": "execute_result"
    }
   ],
   "source": [
    "# сформируем таблицу с характеристиками по общему количеству товаров и количеству уникальных SKU\n",
    "\n",
    "temp = df.groupby('order_id').agg({'quantity':'sum','product':'nunique'}).reset_index().sort_values('quantity', ascending=False)\n",
    "\n",
    "# Рассчитаем дельту, как отношение количества товаров к количеству уникальных SKU\n",
    "temp['delta'] = temp['quantity'] / temp['product']\n",
    "temp"
   ]
  },
  {
   "cell_type": "code",
   "execution_count": 69,
   "metadata": {
    "ExecuteTime": {
     "end_time": "2021-05-16T20:16:49.910550Z",
     "start_time": "2021-05-16T20:16:49.642562Z"
    }
   },
   "outputs": [
    {
     "data": {
      "text/plain": [
       "<AxesSubplot:>"
      ]
     },
     "execution_count": 69,
     "metadata": {},
     "output_type": "execute_result"
    },
    {
     "data": {
      "image/png": "[encoded data removed]",
      "text/plain": [
       "<Figure size 864x432 with 1 Axes>"
      ]
     },
     "metadata": {},
     "output_type": "display_data"
    }
   ],
   "source": [
    "temp['delta'].hist(bins=20)"
   ]
  },
  {
   "cell_type": "code",
   "execution_count": 70,
   "metadata": {
    "ExecuteTime": {
     "end_time": "2021-05-16T20:16:49.935984Z",
     "start_time": "2021-05-16T20:16:49.913400Z"
    }
   },
   "outputs": [],
   "source": [
    "x = 10\n",
    "\n",
    "temp = df.groupby('order_id').agg({'quantity':'sum','product':'nunique'}).reset_index().sort_values('quantity', ascending=False)\n",
    "temp['delta'] = temp['quantity'] / temp['product']\n",
    "\n",
    "\n",
    "df.loc[df['order_id'].isin(temp[temp['delta']>x-1]['order_id']), 'is_opt_order'] = 1\n",
    "df['is_opt_order'] = df['is_opt_order'].fillna(0)"
   ]
  },
  {
   "cell_type": "code",
   "execution_count": 71,
   "metadata": {
    "ExecuteTime": {
     "end_time": "2021-05-16T20:16:49.945532Z",
     "start_time": "2021-05-16T20:16:49.938168Z"
    }
   },
   "outputs": [
    {
     "data": {
      "text/plain": [
       "0.000    4708\n",
       "1.000     243\n",
       "Name: is_opt_order, dtype: int64"
      ]
     },
     "execution_count": 71,
     "metadata": {},
     "output_type": "execute_result"
    }
   ],
   "source": [
    "df.is_opt_order.value_counts()"
   ]
  },
  {
   "cell_type": "code",
   "execution_count": 72,
   "metadata": {
    "ExecuteTime": {
     "end_time": "2021-05-16T20:16:49.958162Z",
     "start_time": "2021-05-16T20:16:49.948409Z"
    }
   },
   "outputs": [],
   "source": [
    "# оставим только данные о не оптовых заказах в датасете\n",
    "\n",
    "df_opt = df[df['is_opt_order'] == 1]\n",
    "df = df[df['is_opt_order'] == 0]"
   ]
  },
  {
   "cell_type": "markdown",
   "metadata": {},
   "source": [
    "# Описание"
   ]
  },
  {
   "cell_type": "markdown",
   "metadata": {
    "ExecuteTime": {
     "end_time": "2021-05-15T20:08:42.546199Z",
     "start_time": "2021-05-15T20:08:42.541216Z"
    }
   },
   "source": [
    "## Изменения в периоде"
   ]
  },
  {
   "cell_type": "code",
   "execution_count": 73,
   "metadata": {
    "ExecuteTime": {
     "end_time": "2021-05-16T20:16:50.532829Z",
     "start_time": "2021-05-16T20:16:49.961301Z"
    }
   },
   "outputs": [
    {
     "data": {
      "image/png": "[encoded data removed]",
      "text/plain": [
       "<Figure size 864x432 with 1 Axes>"
      ]
     },
     "metadata": {},
     "output_type": "display_data"
    }
   ],
   "source": [
    "df.groupby(pd.Grouper(key='timestamp', freq='W'))['order_id'].nunique().plot(legend=True)\n",
    "df.groupby(pd.Grouper(key='timestamp', freq='W'))['customer_id'].nunique().plot(legend=True)\n",
    "df.groupby(pd.Grouper(key='timestamp', freq='W'))['quantity'].sum().plot(legend=True)\n",
    "\n",
    "plt.xlabel('Неделя периода')\n",
    "plt.title('График изменения ключевых метрик по неделям'+'\\n');"
   ]
  },
  {
   "cell_type": "code",
   "execution_count": 74,
   "metadata": {
    "ExecuteTime": {
     "end_time": "2021-05-16T20:16:51.008011Z",
     "start_time": "2021-05-16T20:16:50.535916Z"
    }
   },
   "outputs": [
    {
     "data": {
      "image/png": "[encoded data removed]",
      "text/plain": [
       "<Figure size 864x432 with 1 Axes>"
      ]
     },
     "metadata": {},
     "output_type": "display_data"
    }
   ],
   "source": [
    "df.groupby(pd.Grouper(key='timestamp', freq='W'))['cost'].sum().plot(legend=True)\n",
    "\n",
    "plt.xlabel('Выручка в руб.')\n",
    "plt.ylabel('Неделя периода')\n",
    "plt.title('График изменения выручки'+'\\n');"
   ]
  },
  {
   "cell_type": "markdown",
   "metadata": {},
   "source": [
    "# Заключение"
   ]
  },
  {
   "cell_type": "code",
   "execution_count": 75,
   "metadata": {
    "ExecuteTime": {
     "end_time": "2021-05-16T20:16:51.023972Z",
     "start_time": "2021-05-16T20:16:51.010587Z"
    }
   },
   "outputs": [
    {
     "name": "stdout",
     "output_type": "stream",
     "text": [
      "customer_id : 2284\n",
      "---\n",
      "order_id : 2586\n",
      "---\n",
      "product : 2231\n",
      "---\n"
     ]
    }
   ],
   "source": [
    "for x in ['customer_id', 'order_id', 'product']:\n",
    "    print(x,':', df[x].nunique())\n",
    "    print('---')"
   ]
  },
  {
   "cell_type": "markdown",
   "metadata": {},
   "source": [
    "**Итог**\n",
    "\n",
    "Был произведен препроцессинг полученных данных:\n",
    "\n",
    "Обработка датасета\n",
    "- Исправление типов\n",
    "- Удаление дубликатов\n",
    "\n",
    "Добавление новых метрик\n",
    "- Стоимость\n",
    "- Порядковый номер заказа\n",
    "- Флаг постоянного клиента\n",
    "- Категория\n",
    "\n",
    "Осуществлена работа с аномалиями\n",
    "- Добавлен флаг оптового заказа"
   ]
  },
  {
   "cell_type": "code",
   "execution_count": 76,
   "metadata": {
    "ExecuteTime": {
     "end_time": "2021-05-16T20:16:51.178082Z",
     "start_time": "2021-05-16T20:16:51.026239Z"
    }
   },
   "outputs": [
    {
     "ename": "NameError",
     "evalue": "name 'stop' is not defined",
     "output_type": "error",
     "traceback": [
      "\u001b[0;31m---------------------------------------------------------------------------\u001b[0m",
      "\u001b[0;31mNameError\u001b[0m                                 Traceback (most recent call last)",
      "\u001b[0;32m<ipython-input-76-4f76a9dad686>\u001b[0m in \u001b[0;36m<module>\u001b[0;34m\u001b[0m\n\u001b[0;32m----> 1\u001b[0;31m \u001b[0mstop\u001b[0m\u001b[0;34m\u001b[0m\u001b[0;34m\u001b[0m\u001b[0m\n\u001b[0m",
      "\u001b[0;31mNameError\u001b[0m: name 'stop' is not defined"
     ]
    }
   ],
   "source": [
    "stop"
   ]
  },
  {
   "cell_type": "code",
   "execution_count": 77,
   "metadata": {
    "ExecuteTime": {
     "end_time": "2021-05-16T20:17:36.889481Z",
     "start_time": "2021-05-16T20:17:36.810741Z"
    }
   },
   "outputs": [],
   "source": [
    "df.to_csv('ecommerce_dataset_preprocessed.csv', index=False)"
   ]
  },
  {
   "cell_type": "code",
   "execution_count": null,
   "metadata": {},
   "outputs": [],
   "source": []
  }
 ],
 "metadata": {
  "kernelspec": {
   "display_name": "Python 3",
   "language": "python",
   "name": "python3"
  },
  "language_info": {
   "codemirror_mode": {
    "name": "ipython",
    "version": 3
   },
   "file_extension": ".py",
   "mimetype": "text/x-python",
   "name": "python",
   "nbconvert_exporter": "python",
   "pygments_lexer": "ipython3",
   "version": "3.6.7"
  },
  "latex_envs": {
   "LaTeX_envs_menu_present": true,
   "autoclose": false,
   "autocomplete": true,
   "bibliofile": "biblio.bib",
   "cite_by": "apalike",
   "current_citInitial": 1,
   "eqLabelWithNumbers": true,
   "eqNumInitial": 1,
   "hotkeys": {
    "equation": "Ctrl-E",
    "itemize": "Ctrl-I"
   },
   "labels_anchors": false,
   "latex_user_defs": false,
   "report_style_numbering": false,
   "user_envs_cfg": false
  },
  "toc": {
   "base_numbering": 1,
   "nav_menu": {},
   "number_sections": true,
   "sideBar": true,
   "skip_h1_title": false,
   "title_cell": "Table of Contents",
   "title_sidebar": "Contents",
   "toc_cell": false,
   "toc_position": {
    "height": "calc(100% - 180px)",
    "left": "10px",
    "top": "150px",
    "width": "384px"
   },
   "toc_section_display": true,
   "toc_window_display": true
  }
 },
 "nbformat": 4,
 "nbformat_minor": 2
}
